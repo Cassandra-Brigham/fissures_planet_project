{
 "cells": [
  {
   "cell_type": "code",
   "execution_count": 254,
   "id": "b56c3a49-35a4-406e-a7be-28970151f4d4",
   "metadata": {
    "tags": []
   },
   "outputs": [],
   "source": [
    "from datetime import datetime\n",
    "from planet import Auth\n",
    "from planet import Session, data_filter\n",
    "import json\n",
    "import time\n",
    "import os\n",
    "\n",
    "# Helper function to print out JSON with proper indentation.\n",
    "def indent(data):\n",
    "    print(json.dumps(data, indent=2))"
   ]
  },
  {
   "cell_type": "code",
   "execution_count": 255,
   "id": "b559bd84-09b8-4332-abb9-243eb2d74260",
   "metadata": {
    "tags": []
   },
   "outputs": [],
   "source": [
    "# if your Planet API Key is not set as an environment variable, you can paste it below\n",
    "if 'PL_API_KEY' in os.environ:\n",
    "    API_KEY = os.environ['PL_API_KEY']\n",
    "else:\n",
    "    API_KEY = 'PLAKc244a3b396f448e1a3e3252528d021fa'\n",
    "    os.environ['PL_API_KEY'] = API_KEY\n",
    "\n",
    "client = Auth.from_key(API_KEY)"
   ]
  },
  {
   "cell_type": "code",
   "execution_count": 256,
   "id": "32a71cc2-9366-4751-9278-46dfaaf44a3a",
   "metadata": {
    "tags": []
   },
   "outputs": [],
   "source": [
    "#Path to fissure GeoJSONs \n",
    "fissures_path=\"AZGS_shapefiles/gisdata/shapefiles/\"\n",
    "\n",
    "study_area=fissures_path+'study_area_epsg4326.geojson'\n",
    "\n",
    "with open(study_area, 'r') as f:\n",
    "    geom = json.load(f)"
   ]
  },
  {
   "cell_type": "code",
   "execution_count": 257,
   "id": "434a5e1d-d2b7-4cfb-b077-f12da4e8eba4",
   "metadata": {
    "tags": []
   },
   "outputs": [],
   "source": [
    "# Apply this to all coordinates in the GeoJSON\n",
    "for feature in geojson_data['features']:\n",
    "    if feature['geometry']['type'] == 'Polygon':\n",
    "        feature['geometry']['coordinates'] = [remove_third_element(polygon) for polygon in feature['geometry']['coordinates']]\n",
    "    elif feature['geometry']['type'] == 'MultiPolygon':\n",
    "        feature['geometry']['coordinates'] = [[remove_third_element(polygon) for polygon in multipolygon] for multipolygon in feature['geometry']['coordinates']]\n",
    "\n",
    "geometries = [feature['geometry'] for feature in geojson_data['features']]"
   ]
  },
  {
   "cell_type": "code",
   "execution_count": 258,
   "id": "c3f7e709-d13d-42c6-9762-73efb0bab802",
   "metadata": {
    "tags": []
   },
   "outputs": [
    {
     "data": {
      "text/plain": [
       "{'type': 'MultiPolygon',\n",
       " 'coordinates': [[[[-112.126724075808, 33.04232301812071],\n",
       "    [-112.2405953979192, 33.04124254762971],\n",
       "    [-112.2414944364583, 33.10667881656496],\n",
       "    [-112.1791220177617, 33.10728457153469],\n",
       "    [-112.1471345511401, 33.1348052168475],\n",
       "    [-112.1279065652451, 33.13498079831125],\n",
       "    [-112.1275586350043, 33.10776177632491],\n",
       "    [-112.126724075808, 33.04232301812071]]]]}"
      ]
     },
     "execution_count": 258,
     "metadata": {},
     "output_type": "execute_result"
    }
   ],
   "source": [
    "feature['geometry']"
   ]
  },
  {
   "cell_type": "code",
   "execution_count": 259,
   "id": "a146b431-15d3-4cc8-9eee-5fddb44ae350",
   "metadata": {
    "tags": []
   },
   "outputs": [],
   "source": [
    "# Define the filters we'll use to find our data\n",
    "\n",
    "item_types = [\"PSScene\"]# look up SkySat code, make separate search for all\n",
    "\n",
    "geom_filters = [data_filter.geometry_filter(geom) for geom in geometries]\n",
    "clear_percent_filter = data_filter.range_filter('clear_percent', 95)\n",
    "date_range_filter = data_filter.date_range_filter(\"acquired\", gt = datetime(month=12, day=1, year=2023),lte = datetime(month=1, day=1, year=2024))\n",
    "cloud_cover_filter = data_filter.range_filter('cloud_cover', None, 0.05)\n",
    "\n",
    "combined_filters = [data_filter.and_filter([geom_filter, clear_percent_filter, date_range_filter, cloud_cover_filter]) for geom_filter in geom_filters]"
   ]
  },
  {
   "cell_type": "code",
   "execution_count": 260,
   "id": "e12897dc-eb3b-4187-9500-31cb5add7734",
   "metadata": {
    "tags": []
   },
   "outputs": [],
   "source": [
    "async with Session() as sess:\n",
    "    cl = sess.client('data')\n",
    "    requests = [await cl.create_search(name='dec_23_all_fissure_areas',search_filter=combined_filter, item_types=item_types) for combined_filter in combined_filters]"
   ]
  },
  {
   "cell_type": "code",
   "execution_count": 261,
   "id": "81016005-5814-438d-948b-c38097683113",
   "metadata": {
    "tags": []
   },
   "outputs": [
    {
     "data": {
      "text/plain": [
       "26"
      ]
     },
     "execution_count": 261,
     "metadata": {},
     "output_type": "execute_result"
    }
   ],
   "source": [
    "len(requests)"
   ]
  },
  {
   "cell_type": "code",
   "execution_count": 262,
   "id": "a5dc5dff-13a0-447e-b64f-de5cf43d2690",
   "metadata": {
    "tags": []
   },
   "outputs": [],
   "source": [
    "# Search the Data API\n",
    "\n",
    "# The limit paramter allows us to limit the number of results from our search that are returned.\n",
    "# The default limit is 100. Here, we're setting our result limit to 50.\n",
    "async with Session() as sess:\n",
    "    item_lists=[]\n",
    "    for a in requests:\n",
    "        cl = sess.client('data')\n",
    "        request = a\n",
    "        items = cl.run_search(search_id=request['id'], limit=50)\n",
    "        item_list = [i async for i in items]\n",
    "        item_lists.append(item_list)"
   ]
  },
  {
   "cell_type": "code",
   "execution_count": 264,
   "id": "bbff6e38-7647-488f-b062-5519417e2cf4",
   "metadata": {
    "tags": []
   },
   "outputs": [],
   "source": [
    "for a in range(0,len(item_lists)):\n",
    "    with open(f'output/results_itemlist{a}.json','w') as f:\n",
    "        jsonStr = json.dumps(item_list)\n",
    "        f.write(jsonStr)\n",
    "        f.close()"
   ]
  },
  {
   "cell_type": "code",
   "execution_count": null,
   "id": "0fac6a14-6a16-44f1-80e7-0353cca25700",
   "metadata": {
    "tags": []
   },
   "outputs": [
    {
     "name": "stderr",
     "output_type": "stream",
     "text": [
      "output/ortho_analytic_8b/20231231_172605_15_2458_3B_AnalyticMS_8b.tif: 100%|██████████| 856k/856k [00:14<00:00, 59.9MB/s] \n"
     ]
    },
    {
     "name": "stdout",
     "output_type": "stream",
     "text": [
      "Downloaded output/ortho_analytic_8b/20231231_172605_15_2458_3B_AnalyticMS_8b.tif\n"
     ]
    },
    {
     "name": "stderr",
     "output_type": "stream",
     "text": [
      "output/ortho_analytic_8b_xml/20231231_172605_15_2458_3B_AnalyticMS_8b_metadata.xml: 100%|██████████| 0.01k/0.01k [00:00<00:00, 1.88MB/s]\n"
     ]
    },
    {
     "name": "stdout",
     "output_type": "stream",
     "text": [
      "Downloaded output/ortho_analytic_8b_xml/20231231_172605_15_2458_3B_AnalyticMS_8b_metadata.xml\n"
     ]
    },
    {
     "name": "stderr",
     "output_type": "stream",
     "text": [
      "output/ortho_visual/20231231_172605_15_2458_3B_Visual.tif: 100%|██████████| 180k/180k [00:02<00:00, 63.9MB/s] \n"
     ]
    },
    {
     "name": "stdout",
     "output_type": "stream",
     "text": [
      "Downloaded output/ortho_visual/20231231_172605_15_2458_3B_Visual.tif\n"
     ]
    },
    {
     "name": "stderr",
     "output_type": "stream",
     "text": [
      "output/ortho_analytic_8b/20231231_172607_12_2458_3B_AnalyticMS_8b.tif: 100%|██████████| 844k/844k [00:14<00:00, 62.2MB/s] \n"
     ]
    },
    {
     "name": "stdout",
     "output_type": "stream",
     "text": [
      "Downloaded output/ortho_analytic_8b/20231231_172607_12_2458_3B_AnalyticMS_8b.tif\n"
     ]
    },
    {
     "name": "stderr",
     "output_type": "stream",
     "text": [
      "output/ortho_analytic_8b_xml/20231231_172607_12_2458_3B_AnalyticMS_8b_metadata.xml: 100%|██████████| 0.01k/0.01k [00:00<00:00, 3.32MB/s]\n"
     ]
    },
    {
     "name": "stdout",
     "output_type": "stream",
     "text": [
      "Downloaded output/ortho_analytic_8b_xml/20231231_172607_12_2458_3B_AnalyticMS_8b_metadata.xml\n"
     ]
    },
    {
     "name": "stderr",
     "output_type": "stream",
     "text": [
      "output/ortho_visual/20231231_172607_12_2458_3B_Visual.tif: 100%|██████████| 179k/179k [00:03<00:00, 61.1MB/s] \n"
     ]
    },
    {
     "name": "stdout",
     "output_type": "stream",
     "text": [
      "Downloaded output/ortho_visual/20231231_172607_12_2458_3B_Visual.tif\n"
     ]
    },
    {
     "name": "stderr",
     "output_type": "stream",
     "text": [
      "output/ortho_analytic_8b/20231230_172041_62_24a1_3B_AnalyticMS_8b.tif: 100%|██████████| 0.00M/0.00M [00:18<00:00, 63.5MB/s]\n"
     ]
    },
    {
     "name": "stdout",
     "output_type": "stream",
     "text": [
      "Downloaded output/ortho_analytic_8b/20231230_172041_62_24a1_3B_AnalyticMS_8b.tif\n"
     ]
    },
    {
     "name": "stderr",
     "output_type": "stream",
     "text": [
      "output/ortho_analytic_8b_xml/20231230_172041_62_24a1_3B_AnalyticMS_8b_metadata.xml: 100%|██████████| 0.01k/0.01k [00:00<00:00, 1.89MB/s]\n"
     ]
    },
    {
     "name": "stdout",
     "output_type": "stream",
     "text": [
      "Downloaded output/ortho_analytic_8b_xml/20231230_172041_62_24a1_3B_AnalyticMS_8b_metadata.xml\n"
     ]
    },
    {
     "name": "stderr",
     "output_type": "stream",
     "text": [
      "output/ortho_visual/20231230_172041_62_24a1_3B_Visual.tif: 100%|██████████| 249k/249k [00:04<00:00, 62.5MB/s] \n"
     ]
    },
    {
     "name": "stdout",
     "output_type": "stream",
     "text": [
      "Downloaded output/ortho_visual/20231230_172041_62_24a1_3B_Visual.tif\n"
     ]
    },
    {
     "name": "stderr",
     "output_type": "stream",
     "text": [
      "output/ortho_analytic_8b/20231230_172043_85_24a1_3B_AnalyticMS_8b.tif: 100%|██████████| 0.00M/0.00M [00:17<00:00, 63.1MB/s]\n"
     ]
    },
    {
     "name": "stdout",
     "output_type": "stream",
     "text": [
      "Downloaded output/ortho_analytic_8b/20231230_172043_85_24a1_3B_AnalyticMS_8b.tif\n"
     ]
    },
    {
     "name": "stderr",
     "output_type": "stream",
     "text": [
      "output/ortho_analytic_8b_xml/20231230_172043_85_24a1_3B_AnalyticMS_8b_metadata.xml: 100%|██████████| 0.01k/0.01k [00:00<00:00, 3.11MB/s]\n"
     ]
    },
    {
     "name": "stdout",
     "output_type": "stream",
     "text": [
      "Downloaded output/ortho_analytic_8b_xml/20231230_172043_85_24a1_3B_AnalyticMS_8b_metadata.xml\n"
     ]
    },
    {
     "name": "stderr",
     "output_type": "stream",
     "text": [
      "output/ortho_visual/20231230_172043_85_24a1_3B_Visual.tif: 100%|██████████| 249k/249k [00:04<00:00, 57.4MB/s] \n"
     ]
    },
    {
     "name": "stdout",
     "output_type": "stream",
     "text": [
      "Downloaded output/ortho_visual/20231230_172043_85_24a1_3B_Visual.tif\n"
     ]
    },
    {
     "name": "stderr",
     "output_type": "stream",
     "text": [
      "output/ortho_analytic_8b/20231229_180633_12_2477_3B_AnalyticMS_8b.tif: 100%|██████████| 936k/936k [00:16<00:00, 60.9MB/s] \n"
     ]
    },
    {
     "name": "stdout",
     "output_type": "stream",
     "text": [
      "Downloaded output/ortho_analytic_8b/20231229_180633_12_2477_3B_AnalyticMS_8b.tif\n"
     ]
    },
    {
     "name": "stderr",
     "output_type": "stream",
     "text": [
      "output/ortho_analytic_8b_xml/20231229_180633_12_2477_3B_AnalyticMS_8b_metadata.xml: 100%|██████████| 0.01k/0.01k [00:00<00:00, 2.00MB/s]\n"
     ]
    },
    {
     "name": "stdout",
     "output_type": "stream",
     "text": [
      "Downloaded output/ortho_analytic_8b_xml/20231229_180633_12_2477_3B_AnalyticMS_8b_metadata.xml\n"
     ]
    },
    {
     "name": "stderr",
     "output_type": "stream",
     "text": [
      "output/ortho_visual/20231229_180633_12_2477_3B_Visual.tif: 100%|██████████| 212k/212k [00:03<00:00, 61.6MB/s] \n"
     ]
    },
    {
     "name": "stdout",
     "output_type": "stream",
     "text": [
      "Downloaded output/ortho_visual/20231229_180633_12_2477_3B_Visual.tif\n"
     ]
    },
    {
     "name": "stderr",
     "output_type": "stream",
     "text": [
      "output/ortho_analytic_8b/20231229_180631_09_2477_3B_AnalyticMS_8b.tif: 100%|██████████| 947k/947k [00:16<00:00, 62.0MB/s] \n"
     ]
    },
    {
     "name": "stdout",
     "output_type": "stream",
     "text": [
      "Downloaded output/ortho_analytic_8b/20231229_180631_09_2477_3B_AnalyticMS_8b.tif\n"
     ]
    },
    {
     "name": "stderr",
     "output_type": "stream",
     "text": [
      "output/ortho_analytic_8b_xml/20231229_180631_09_2477_3B_AnalyticMS_8b_metadata.xml: 100%|██████████| 0.01k/0.01k [00:00<00:00, 1.92MB/s]\n"
     ]
    },
    {
     "name": "stdout",
     "output_type": "stream",
     "text": [
      "Downloaded output/ortho_analytic_8b_xml/20231229_180631_09_2477_3B_AnalyticMS_8b_metadata.xml\n",
      "Error in downloading asset: asset missing [\"location\"] entry. Is asset active?\n"
     ]
    },
    {
     "name": "stderr",
     "output_type": "stream",
     "text": [
      "output/ortho_analytic_8b/20231229_172039_11_2447_3B_AnalyticMS_8b.tif: 100%|██████████| 860k/860k [00:12<00:00, 72.0MB/s] \n"
     ]
    },
    {
     "name": "stdout",
     "output_type": "stream",
     "text": [
      "Downloaded output/ortho_analytic_8b/20231229_172039_11_2447_3B_AnalyticMS_8b.tif\n"
     ]
    },
    {
     "name": "stderr",
     "output_type": "stream",
     "text": [
      "output/ortho_analytic_8b_xml/20231229_172039_11_2447_3B_AnalyticMS_8b_metadata.xml: 100%|██████████| 0.01k/0.01k [00:00<00:00, 2.62MB/s]\n"
     ]
    },
    {
     "name": "stdout",
     "output_type": "stream",
     "text": [
      "Downloaded output/ortho_analytic_8b_xml/20231229_172039_11_2447_3B_AnalyticMS_8b_metadata.xml\n",
      "Error in downloading asset: asset missing [\"location\"] entry. Is asset active?\n"
     ]
    },
    {
     "name": "stderr",
     "output_type": "stream",
     "text": [
      "output/ortho_analytic_8b/20231229_172037_14_2447_3B_AnalyticMS_8b.tif: 100%|██████████| 868k/868k [00:20<00:00, 45.5MB/s] \n"
     ]
    },
    {
     "name": "stdout",
     "output_type": "stream",
     "text": [
      "Downloaded output/ortho_analytic_8b/20231229_172037_14_2447_3B_AnalyticMS_8b.tif\n"
     ]
    },
    {
     "name": "stderr",
     "output_type": "stream",
     "text": [
      "output/ortho_analytic_8b_xml/20231229_172037_14_2447_3B_AnalyticMS_8b_metadata.xml: 100%|██████████| 0.01k/0.01k [00:00<00:00, 2.26MB/s]\n"
     ]
    },
    {
     "name": "stdout",
     "output_type": "stream",
     "text": [
      "Downloaded output/ortho_analytic_8b_xml/20231229_172037_14_2447_3B_AnalyticMS_8b_metadata.xml\n",
      "Error in downloading asset: asset missing [\"location\"] entry. Is asset active?\n"
     ]
    },
    {
     "name": "stderr",
     "output_type": "stream",
     "text": [
      "output/ortho_analytic_8b/20231229_180520_74_248c_3B_AnalyticMS_8b.tif: 100%|██████████| 951k/951k [00:16<00:00, 61.4MB/s] \n"
     ]
    },
    {
     "name": "stdout",
     "output_type": "stream",
     "text": [
      "Downloaded output/ortho_analytic_8b/20231229_180520_74_248c_3B_AnalyticMS_8b.tif\n"
     ]
    },
    {
     "name": "stderr",
     "output_type": "stream",
     "text": [
      "output/ortho_analytic_8b_xml/20231229_180520_74_248c_3B_AnalyticMS_8b_metadata.xml: 100%|██████████| 0.01k/0.01k [00:00<00:00, 3.60MB/s]\n"
     ]
    },
    {
     "name": "stdout",
     "output_type": "stream",
     "text": [
      "Downloaded output/ortho_analytic_8b_xml/20231229_180520_74_248c_3B_AnalyticMS_8b_metadata.xml\n",
      "Error in downloading asset: asset missing [\"location\"] entry. Is asset active?\n"
     ]
    },
    {
     "name": "stderr",
     "output_type": "stream",
     "text": [
      "output/ortho_analytic_8b/20231229_180522_75_248c_3B_AnalyticMS_8b.tif: 100%|██████████| 928k/928k [00:21<00:00, 45.8MB/s] \n"
     ]
    },
    {
     "name": "stdout",
     "output_type": "stream",
     "text": [
      "Downloaded output/ortho_analytic_8b/20231229_180522_75_248c_3B_AnalyticMS_8b.tif\n"
     ]
    },
    {
     "name": "stderr",
     "output_type": "stream",
     "text": [
      "output/ortho_analytic_8b_xml/20231229_180522_75_248c_3B_AnalyticMS_8b_metadata.xml: 100%|██████████| 0.01k/0.01k [00:00<00:00, 2.24MB/s]\n"
     ]
    },
    {
     "name": "stdout",
     "output_type": "stream",
     "text": [
      "Downloaded output/ortho_analytic_8b_xml/20231229_180522_75_248c_3B_AnalyticMS_8b_metadata.xml\n",
      "Error in downloading asset: asset missing [\"location\"] entry. Is asset active?\n"
     ]
    },
    {
     "name": "stderr",
     "output_type": "stream",
     "text": [
      "output/ortho_analytic_8b/20231228_172314_98_2439_3B_AnalyticMS_8b.tif: 100%|██████████| 861k/861k [00:12<00:00, 69.9MB/s] \n"
     ]
    },
    {
     "name": "stdout",
     "output_type": "stream",
     "text": [
      "Downloaded output/ortho_analytic_8b/20231228_172314_98_2439_3B_AnalyticMS_8b.tif\n"
     ]
    },
    {
     "name": "stderr",
     "output_type": "stream",
     "text": [
      "output/ortho_analytic_8b_xml/20231228_172314_98_2439_3B_AnalyticMS_8b_metadata.xml: 100%|██████████| 0.01k/0.01k [00:00<00:00, 3.32MB/s]\n"
     ]
    },
    {
     "name": "stdout",
     "output_type": "stream",
     "text": [
      "Downloaded output/ortho_analytic_8b_xml/20231228_172314_98_2439_3B_AnalyticMS_8b_metadata.xml\n",
      "Error in downloading asset: asset missing [\"location\"] entry. Is asset active?\n"
     ]
    },
    {
     "name": "stderr",
     "output_type": "stream",
     "text": [
      "output/ortho_analytic_8b/20231228_172316_96_2439_3B_AnalyticMS_8b.tif: 100%|██████████| 852k/852k [00:15<00:00, 57.5MB/s] \n"
     ]
    },
    {
     "name": "stdout",
     "output_type": "stream",
     "text": [
      "Downloaded output/ortho_analytic_8b/20231228_172316_96_2439_3B_AnalyticMS_8b.tif\n"
     ]
    },
    {
     "name": "stderr",
     "output_type": "stream",
     "text": [
      "output/ortho_analytic_8b_xml/20231228_172316_96_2439_3B_AnalyticMS_8b_metadata.xml: 100%|██████████| 0.01k/0.01k [00:00<00:00, 1.76MB/s]\n"
     ]
    },
    {
     "name": "stdout",
     "output_type": "stream",
     "text": [
      "Downloaded output/ortho_analytic_8b_xml/20231228_172316_96_2439_3B_AnalyticMS_8b_metadata.xml\n",
      "Error in downloading asset: asset missing [\"location\"] entry. Is asset active?\n"
     ]
    },
    {
     "name": "stderr",
     "output_type": "stream",
     "text": [
      "output/ortho_analytic_8b/20231227_172153_54_24ce_3B_AnalyticMS_8b.tif: 100%|██████████| 0.00M/0.00M [00:15<00:00, 72.7MB/s]\n"
     ]
    },
    {
     "name": "stdout",
     "output_type": "stream",
     "text": [
      "Downloaded output/ortho_analytic_8b/20231227_172153_54_24ce_3B_AnalyticMS_8b.tif\n"
     ]
    },
    {
     "name": "stderr",
     "output_type": "stream",
     "text": [
      "output/ortho_analytic_8b_xml/20231227_172153_54_24ce_3B_AnalyticMS_8b_metadata.xml: 100%|██████████| 0.01k/0.01k [00:00<00:00, 825kB/s]\n"
     ]
    },
    {
     "name": "stdout",
     "output_type": "stream",
     "text": [
      "Downloaded output/ortho_analytic_8b_xml/20231227_172153_54_24ce_3B_AnalyticMS_8b_metadata.xml\n",
      "Error in downloading asset: asset missing [\"location\"] entry. Is asset active?\n"
     ]
    },
    {
     "name": "stderr",
     "output_type": "stream",
     "text": [
      "output/ortho_analytic_8b/20231226_180247_90_2490_3B_AnalyticMS_8b.tif: 100%|██████████| 904k/904k [00:16<00:00, 58.6MB/s] \n"
     ]
    },
    {
     "name": "stdout",
     "output_type": "stream",
     "text": [
      "Downloaded output/ortho_analytic_8b/20231226_180247_90_2490_3B_AnalyticMS_8b.tif\n"
     ]
    },
    {
     "name": "stderr",
     "output_type": "stream",
     "text": [
      "output/ortho_analytic_8b_xml/20231226_180247_90_2490_3B_AnalyticMS_8b_metadata.xml: 100%|██████████| 0.01k/0.01k [00:00<00:00, 1.55MB/s]\n"
     ]
    },
    {
     "name": "stdout",
     "output_type": "stream",
     "text": [
      "Downloaded output/ortho_analytic_8b_xml/20231226_180247_90_2490_3B_AnalyticMS_8b_metadata.xml\n",
      "Error in downloading asset: asset missing [\"location\"] entry. Is asset active?\n"
     ]
    },
    {
     "name": "stderr",
     "output_type": "stream",
     "text": [
      "output/ortho_analytic_8b/20231226_180245_87_2490_3B_AnalyticMS_8b.tif: 100%|██████████| 916k/916k [00:19<00:00, 50.1MB/s] \n"
     ]
    },
    {
     "name": "stdout",
     "output_type": "stream",
     "text": [
      "Downloaded output/ortho_analytic_8b/20231226_180245_87_2490_3B_AnalyticMS_8b.tif\n"
     ]
    },
    {
     "name": "stderr",
     "output_type": "stream",
     "text": [
      "output/ortho_analytic_8b_xml/20231226_180245_87_2490_3B_AnalyticMS_8b_metadata.xml: 100%|██████████| 0.01k/0.01k [00:00<00:00, 1.68MB/s]\n"
     ]
    },
    {
     "name": "stdout",
     "output_type": "stream",
     "text": [
      "Downloaded output/ortho_analytic_8b_xml/20231226_180245_87_2490_3B_AnalyticMS_8b_metadata.xml\n",
      "Error in downloading asset: asset missing [\"location\"] entry. Is asset active?\n"
     ]
    },
    {
     "name": "stderr",
     "output_type": "stream",
     "text": [
      "output/ortho_analytic_8b/20231225_180242_04_2461_3B_AnalyticMS_8b.tif: 100%|██████████| 896k/896k [00:19<00:00, 47.5MB/s] \n"
     ]
    },
    {
     "name": "stdout",
     "output_type": "stream",
     "text": [
      "Downloaded output/ortho_analytic_8b/20231225_180242_04_2461_3B_AnalyticMS_8b.tif\n"
     ]
    },
    {
     "name": "stderr",
     "output_type": "stream",
     "text": [
      "output/ortho_analytic_8b_xml/20231225_180242_04_2461_3B_AnalyticMS_8b_metadata.xml: 100%|██████████| 0.01k/0.01k [00:00<00:00, 835kB/s]\n"
     ]
    },
    {
     "name": "stdout",
     "output_type": "stream",
     "text": [
      "Downloaded output/ortho_analytic_8b_xml/20231225_180242_04_2461_3B_AnalyticMS_8b_metadata.xml\n",
      "Error in downloading asset: asset missing [\"location\"] entry. Is asset active?\n"
     ]
    },
    {
     "name": "stderr",
     "output_type": "stream",
     "text": [
      "output/ortho_analytic_8b/20231225_180240_02_2461_3B_AnalyticMS_8b.tif: 100%|██████████| 916k/916k [00:15<00:00, 60.1MB/s] \n"
     ]
    },
    {
     "name": "stdout",
     "output_type": "stream",
     "text": [
      "Downloaded output/ortho_analytic_8b/20231225_180240_02_2461_3B_AnalyticMS_8b.tif\n"
     ]
    },
    {
     "name": "stderr",
     "output_type": "stream",
     "text": [
      "output/ortho_analytic_8b_xml/20231225_180240_02_2461_3B_AnalyticMS_8b_metadata.xml: 100%|██████████| 0.01k/0.01k [00:00<00:00, 3.31MB/s]\n"
     ]
    },
    {
     "name": "stdout",
     "output_type": "stream",
     "text": [
      "Downloaded output/ortho_analytic_8b_xml/20231225_180240_02_2461_3B_AnalyticMS_8b_metadata.xml\n",
      "Error in downloading asset: asset missing [\"location\"] entry. Is asset active?\n"
     ]
    },
    {
     "name": "stderr",
     "output_type": "stream",
     "text": [
      "output/ortho_analytic_8b/20231221_180357_70_2486_3B_AnalyticMS_8b.tif: 100%|██████████| 941k/941k [00:22<00:00, 44.1MB/s] \n"
     ]
    },
    {
     "name": "stdout",
     "output_type": "stream",
     "text": [
      "Downloaded output/ortho_analytic_8b/20231221_180357_70_2486_3B_AnalyticMS_8b.tif\n"
     ]
    },
    {
     "name": "stderr",
     "output_type": "stream",
     "text": [
      "output/ortho_analytic_8b_xml/20231221_180357_70_2486_3B_AnalyticMS_8b_metadata.xml: 100%|██████████| 0.01k/0.01k [00:00<00:00, 2.06MB/s]\n"
     ]
    },
    {
     "name": "stdout",
     "output_type": "stream",
     "text": [
      "Downloaded output/ortho_analytic_8b_xml/20231221_180357_70_2486_3B_AnalyticMS_8b_metadata.xml\n",
      "Error in downloading asset: asset missing [\"location\"] entry. Is asset active?\n"
     ]
    },
    {
     "name": "stderr",
     "output_type": "stream",
     "text": [
      "output/ortho_analytic_8b/20231221_172506_24_2430_3B_AnalyticMS_8b.tif: 100%|██████████| 836k/836k [00:13<00:00, 64.2MB/s] \n"
     ]
    },
    {
     "name": "stdout",
     "output_type": "stream",
     "text": [
      "Downloaded output/ortho_analytic_8b/20231221_172506_24_2430_3B_AnalyticMS_8b.tif\n"
     ]
    },
    {
     "name": "stderr",
     "output_type": "stream",
     "text": [
      "output/ortho_analytic_8b_xml/20231221_172506_24_2430_3B_AnalyticMS_8b_metadata.xml: 100%|██████████| 0.01k/0.01k [00:00<00:00, 1.76MB/s]\n"
     ]
    },
    {
     "name": "stdout",
     "output_type": "stream",
     "text": [
      "Downloaded output/ortho_analytic_8b_xml/20231221_172506_24_2430_3B_AnalyticMS_8b_metadata.xml\n",
      "Error in downloading asset: asset missing [\"location\"] entry. Is asset active?\n"
     ]
    },
    {
     "name": "stderr",
     "output_type": "stream",
     "text": [
      "output/ortho_analytic_8b/20231221_172504_27_2430_3B_AnalyticMS_8b.tif: 100%|██████████| 844k/844k [00:19<00:00, 44.6MB/s] \n"
     ]
    },
    {
     "name": "stdout",
     "output_type": "stream",
     "text": [
      "Downloaded output/ortho_analytic_8b/20231221_172504_27_2430_3B_AnalyticMS_8b.tif\n"
     ]
    },
    {
     "name": "stderr",
     "output_type": "stream",
     "text": [
      "output/ortho_analytic_8b_xml/20231221_172504_27_2430_3B_AnalyticMS_8b_metadata.xml: 100%|██████████| 0.01k/0.01k [00:00<00:00, 1.45MB/s]\n"
     ]
    },
    {
     "name": "stdout",
     "output_type": "stream",
     "text": [
      "Downloaded output/ortho_analytic_8b_xml/20231221_172504_27_2430_3B_AnalyticMS_8b_metadata.xml\n"
     ]
    },
    {
     "name": "stderr",
     "output_type": "stream",
     "text": [
      "output/ortho_visual/20231221_172504_27_2430_3B_Visual.tif: 100%|██████████| 175k/175k [00:04<00:00, 44.2MB/s] \n"
     ]
    },
    {
     "name": "stdout",
     "output_type": "stream",
     "text": [
      "Downloaded output/ortho_visual/20231221_172504_27_2430_3B_Visual.tif\n"
     ]
    },
    {
     "name": "stderr",
     "output_type": "stream",
     "text": [
      "output/ortho_analytic_8b/20231221_172557_92_2427_3B_AnalyticMS_8b.tif: 100%|██████████| 875k/875k [00:20<00:00, 45.0MB/s] \n"
     ]
    },
    {
     "name": "stdout",
     "output_type": "stream",
     "text": [
      "Downloaded output/ortho_analytic_8b/20231221_172557_92_2427_3B_AnalyticMS_8b.tif\n"
     ]
    },
    {
     "name": "stderr",
     "output_type": "stream",
     "text": [
      "output/ortho_analytic_8b_xml/20231221_172557_92_2427_3B_AnalyticMS_8b_metadata.xml: 100%|██████████| 0.01k/0.01k [00:00<00:00, 1.57MB/s]\n"
     ]
    },
    {
     "name": "stdout",
     "output_type": "stream",
     "text": [
      "Downloaded output/ortho_analytic_8b_xml/20231221_172557_92_2427_3B_AnalyticMS_8b_metadata.xml\n",
      "Error in downloading asset: asset missing [\"location\"] entry. Is asset active?\n"
     ]
    },
    {
     "name": "stderr",
     "output_type": "stream",
     "text": [
      "output/ortho_analytic_8b/20231221_172559_89_2427_3B_AnalyticMS_8b.tif: 100%|██████████| 864k/864k [00:15<00:00, 60.0MB/s] \n"
     ]
    },
    {
     "name": "stdout",
     "output_type": "stream",
     "text": [
      "Downloaded output/ortho_analytic_8b/20231221_172559_89_2427_3B_AnalyticMS_8b.tif\n"
     ]
    },
    {
     "name": "stderr",
     "output_type": "stream",
     "text": [
      "output/ortho_analytic_8b_xml/20231221_172559_89_2427_3B_AnalyticMS_8b_metadata.xml: 100%|██████████| 0.01k/0.01k [00:00<00:00, 1.91MB/s]\n"
     ]
    },
    {
     "name": "stdout",
     "output_type": "stream",
     "text": [
      "Downloaded output/ortho_analytic_8b_xml/20231221_172559_89_2427_3B_AnalyticMS_8b_metadata.xml\n",
      "Error in downloading asset: asset missing [\"location\"] entry. Is asset active?\n"
     ]
    },
    {
     "name": "stderr",
     "output_type": "stream",
     "text": [
      "output/ortho_analytic_8b/20231217_180028_73_24a4_3B_AnalyticMS_8b.tif: 100%|██████████| 956k/956k [00:14<00:00, 69.3MB/s] \n"
     ]
    },
    {
     "name": "stdout",
     "output_type": "stream",
     "text": [
      "Downloaded output/ortho_analytic_8b/20231217_180028_73_24a4_3B_AnalyticMS_8b.tif\n"
     ]
    },
    {
     "name": "stderr",
     "output_type": "stream",
     "text": [
      "output/ortho_analytic_8b_xml/20231217_180028_73_24a4_3B_AnalyticMS_8b_metadata.xml: 100%|██████████| 0.01k/0.01k [00:00<00:00, 1.50MB/s]\n"
     ]
    },
    {
     "name": "stdout",
     "output_type": "stream",
     "text": [
      "Downloaded output/ortho_analytic_8b_xml/20231217_180028_73_24a4_3B_AnalyticMS_8b_metadata.xml\n",
      "Error in downloading asset: asset missing [\"location\"] entry. Is asset active?\n"
     ]
    },
    {
     "name": "stderr",
     "output_type": "stream",
     "text": [
      "output/ortho_analytic_8b/20231217_180026_68_24a4_3B_AnalyticMS_8b.tif: 100%|██████████| 983k/983k [00:24<00:00, 41.9MB/s] \n"
     ]
    },
    {
     "name": "stdout",
     "output_type": "stream",
     "text": [
      "Downloaded output/ortho_analytic_8b/20231217_180026_68_24a4_3B_AnalyticMS_8b.tif\n"
     ]
    },
    {
     "name": "stderr",
     "output_type": "stream",
     "text": [
      "output/ortho_analytic_8b_xml/20231217_180026_68_24a4_3B_AnalyticMS_8b_metadata.xml: 100%|██████████| 0.01k/0.01k [00:00<00:00, 1.73MB/s]\n"
     ]
    },
    {
     "name": "stdout",
     "output_type": "stream",
     "text": [
      "Downloaded output/ortho_analytic_8b_xml/20231217_180026_68_24a4_3B_AnalyticMS_8b_metadata.xml\n",
      "Error in downloading asset: asset missing [\"location\"] entry. Is asset active?\n"
     ]
    },
    {
     "name": "stderr",
     "output_type": "stream",
     "text": [
      "output/ortho_analytic_8b/20231217_172208_61_2439_3B_AnalyticMS_8b.tif: 100%|██████████| 878k/878k [00:20<00:00, 45.7MB/s] \n"
     ]
    },
    {
     "name": "stdout",
     "output_type": "stream",
     "text": [
      "Downloaded output/ortho_analytic_8b/20231217_172208_61_2439_3B_AnalyticMS_8b.tif\n"
     ]
    },
    {
     "name": "stderr",
     "output_type": "stream",
     "text": [
      "output/ortho_analytic_8b_xml/20231217_172208_61_2439_3B_AnalyticMS_8b_metadata.xml: 100%|██████████| 0.01k/0.01k [00:00<00:00, 1.65MB/s]\n"
     ]
    },
    {
     "name": "stdout",
     "output_type": "stream",
     "text": [
      "Downloaded output/ortho_analytic_8b_xml/20231217_172208_61_2439_3B_AnalyticMS_8b_metadata.xml\n",
      "Error in downloading asset: asset missing [\"location\"] entry. Is asset active?\n"
     ]
    },
    {
     "name": "stderr",
     "output_type": "stream",
     "text": [
      "output/ortho_analytic_8b/20231217_172206_63_2439_3B_AnalyticMS_8b.tif: 100%|██████████| 893k/893k [00:18<00:00, 49.5MB/s] \n"
     ]
    },
    {
     "name": "stdout",
     "output_type": "stream",
     "text": [
      "Downloaded output/ortho_analytic_8b/20231217_172206_63_2439_3B_AnalyticMS_8b.tif\n"
     ]
    },
    {
     "name": "stderr",
     "output_type": "stream",
     "text": [
      "output/ortho_analytic_8b_xml/20231217_172206_63_2439_3B_AnalyticMS_8b_metadata.xml: 100%|██████████| 0.01k/0.01k [00:00<00:00, 1.35MB/s]\n"
     ]
    },
    {
     "name": "stdout",
     "output_type": "stream",
     "text": [
      "Downloaded output/ortho_analytic_8b_xml/20231217_172206_63_2439_3B_AnalyticMS_8b_metadata.xml\n",
      "Error in downloading asset: asset missing [\"location\"] entry. Is asset active?\n"
     ]
    },
    {
     "name": "stderr",
     "output_type": "stream",
     "text": [
      "output/ortho_analytic_8b/20231217_172210_58_2439_3B_AnalyticMS_8b.tif: 100%|██████████| 874k/874k [00:20<00:00, 44.7MB/s] \n"
     ]
    },
    {
     "name": "stdout",
     "output_type": "stream",
     "text": [
      "Downloaded output/ortho_analytic_8b/20231217_172210_58_2439_3B_AnalyticMS_8b.tif\n"
     ]
    },
    {
     "name": "stderr",
     "output_type": "stream",
     "text": [
      "output/ortho_analytic_8b_xml/20231217_172210_58_2439_3B_AnalyticMS_8b_metadata.xml: 100%|██████████| 0.01k/0.01k [00:00<00:00, 2.57MB/s]\n"
     ]
    },
    {
     "name": "stdout",
     "output_type": "stream",
     "text": [
      "Downloaded output/ortho_analytic_8b_xml/20231217_172210_58_2439_3B_AnalyticMS_8b_metadata.xml\n",
      "Error in downloading asset: asset missing [\"location\"] entry. Is asset active?\n"
     ]
    },
    {
     "name": "stderr",
     "output_type": "stream",
     "text": [
      "output/ortho_analytic_8b/20231215_180313_50_247d_3B_AnalyticMS_8b.tif: 100%|██████████| 967k/967k [00:20<00:00, 49.6MB/s] \n"
     ]
    },
    {
     "name": "stdout",
     "output_type": "stream",
     "text": [
      "Downloaded output/ortho_analytic_8b/20231215_180313_50_247d_3B_AnalyticMS_8b.tif\n"
     ]
    },
    {
     "name": "stderr",
     "output_type": "stream",
     "text": [
      "output/ortho_analytic_8b_xml/20231215_180313_50_247d_3B_AnalyticMS_8b_metadata.xml: 100%|██████████| 0.01k/0.01k [00:00<00:00, 1.84MB/s]\n"
     ]
    },
    {
     "name": "stdout",
     "output_type": "stream",
     "text": [
      "Downloaded output/ortho_analytic_8b_xml/20231215_180313_50_247d_3B_AnalyticMS_8b_metadata.xml\n"
     ]
    },
    {
     "name": "stderr",
     "output_type": "stream",
     "text": [
      "output/ortho_visual/20231215_180313_50_247d_3B_Visual.tif: 100%|██████████| 220k/220k [00:04<00:00, 49.8MB/s] \n"
     ]
    },
    {
     "name": "stdout",
     "output_type": "stream",
     "text": [
      "Downloaded output/ortho_visual/20231215_180313_50_247d_3B_Visual.tif\n"
     ]
    },
    {
     "name": "stderr",
     "output_type": "stream",
     "text": [
      "output/ortho_analytic_8b/20231215_180311_45_247d_3B_AnalyticMS_8b.tif: 100%|██████████| 986k/986k [00:19<00:00, 53.3MB/s] \n"
     ]
    },
    {
     "name": "stdout",
     "output_type": "stream",
     "text": [
      "Downloaded output/ortho_analytic_8b/20231215_180311_45_247d_3B_AnalyticMS_8b.tif\n"
     ]
    },
    {
     "name": "stderr",
     "output_type": "stream",
     "text": [
      "output/ortho_analytic_8b_xml/20231215_180311_45_247d_3B_AnalyticMS_8b_metadata.xml: 100%|██████████| 0.01k/0.01k [00:00<00:00, 1.99MB/s]\n"
     ]
    },
    {
     "name": "stdout",
     "output_type": "stream",
     "text": [
      "Downloaded output/ortho_analytic_8b_xml/20231215_180311_45_247d_3B_AnalyticMS_8b_metadata.xml\n",
      "Error in downloading asset: asset missing [\"location\"] entry. Is asset active?\n"
     ]
    },
    {
     "name": "stderr",
     "output_type": "stream",
     "text": [
      "output/ortho_analytic_8b/20231215_172219_39_241e_3B_AnalyticMS_8b.tif: 100%|██████████| 887k/887k [00:23<00:00, 40.3MB/s] \n"
     ]
    },
    {
     "name": "stdout",
     "output_type": "stream",
     "text": [
      "Downloaded output/ortho_analytic_8b/20231215_172219_39_241e_3B_AnalyticMS_8b.tif\n"
     ]
    },
    {
     "name": "stderr",
     "output_type": "stream",
     "text": [
      "output/ortho_analytic_8b_xml/20231215_172219_39_241e_3B_AnalyticMS_8b_metadata.xml: 100%|██████████| 0.01k/0.01k [00:00<00:00, 4.61MB/s]\n"
     ]
    },
    {
     "name": "stdout",
     "output_type": "stream",
     "text": [
      "Downloaded output/ortho_analytic_8b_xml/20231215_172219_39_241e_3B_AnalyticMS_8b_metadata.xml\n",
      "Error in downloading asset: asset missing [\"location\"] entry. Is asset active?\n"
     ]
    },
    {
     "name": "stderr",
     "output_type": "stream",
     "text": [
      "output/ortho_analytic_8b/20231215_172221_37_241e_3B_AnalyticMS_8b.tif: 100%|██████████| 871k/871k [00:14<00:00, 61.2MB/s] \n"
     ]
    },
    {
     "name": "stdout",
     "output_type": "stream",
     "text": [
      "Downloaded output/ortho_analytic_8b/20231215_172221_37_241e_3B_AnalyticMS_8b.tif\n"
     ]
    },
    {
     "name": "stderr",
     "output_type": "stream",
     "text": [
      "output/ortho_analytic_8b_xml/20231215_172221_37_241e_3B_AnalyticMS_8b_metadata.xml: 100%|██████████| 0.01k/0.01k [00:00<00:00, 2.35MB/s]\n"
     ]
    },
    {
     "name": "stdout",
     "output_type": "stream",
     "text": [
      "Downloaded output/ortho_analytic_8b_xml/20231215_172221_37_241e_3B_AnalyticMS_8b_metadata.xml\n",
      "Error in downloading asset: asset missing [\"location\"] entry. Is asset active?\n"
     ]
    },
    {
     "name": "stderr",
     "output_type": "stream",
     "text": [
      "output/ortho_analytic_8b/20231213_172144_50_24b6_3B_AnalyticMS_8b.tif: 100%|██████████| 0.00M/0.00M [00:18<00:00, 61.0MB/s]\n"
     ]
    },
    {
     "name": "stdout",
     "output_type": "stream",
     "text": [
      "Downloaded output/ortho_analytic_8b/20231213_172144_50_24b6_3B_AnalyticMS_8b.tif\n"
     ]
    },
    {
     "name": "stderr",
     "output_type": "stream",
     "text": [
      "output/ortho_analytic_8b_xml/20231213_172144_50_24b6_3B_AnalyticMS_8b_metadata.xml: 100%|██████████| 0.01k/0.01k [00:00<00:00, 1.68MB/s]\n"
     ]
    },
    {
     "name": "stdout",
     "output_type": "stream",
     "text": [
      "Downloaded output/ortho_analytic_8b_xml/20231213_172144_50_24b6_3B_AnalyticMS_8b_metadata.xml\n",
      "Error in downloading asset: asset missing [\"location\"] entry. Is asset active?\n"
     ]
    },
    {
     "name": "stderr",
     "output_type": "stream",
     "text": [
      "output/ortho_analytic_8b/20231213_172146_70_24b6_3B_AnalyticMS_8b.tif: 100%|██████████| 0.00M/0.00M [00:15<00:00, 68.0MB/s]\n"
     ]
    },
    {
     "name": "stdout",
     "output_type": "stream",
     "text": [
      "Downloaded output/ortho_analytic_8b/20231213_172146_70_24b6_3B_AnalyticMS_8b.tif\n"
     ]
    },
    {
     "name": "stderr",
     "output_type": "stream",
     "text": [
      "output/ortho_analytic_8b_xml/20231213_172146_70_24b6_3B_AnalyticMS_8b_metadata.xml: 100%|██████████| 0.01k/0.01k [00:00<00:00, 1.27MB/s]\n"
     ]
    },
    {
     "name": "stdout",
     "output_type": "stream",
     "text": [
      "Downloaded output/ortho_analytic_8b_xml/20231213_172146_70_24b6_3B_AnalyticMS_8b_metadata.xml\n",
      "Error in downloading asset: asset missing [\"location\"] entry. Is asset active?\n"
     ]
    },
    {
     "name": "stderr",
     "output_type": "stream",
     "text": [
      "output/ortho_analytic_8b/20231212_180458_64_247d_3B_AnalyticMS_8b.tif: 100%|██████████| 955k/955k [00:21<00:00, 46.0MB/s] \n"
     ]
    },
    {
     "name": "stdout",
     "output_type": "stream",
     "text": [
      "Downloaded output/ortho_analytic_8b/20231212_180458_64_247d_3B_AnalyticMS_8b.tif\n"
     ]
    },
    {
     "name": "stderr",
     "output_type": "stream",
     "text": [
      "output/ortho_analytic_8b_xml/20231212_180458_64_247d_3B_AnalyticMS_8b_metadata.xml: 100%|██████████| 0.01k/0.01k [00:00<00:00, 1.69MB/s]\n"
     ]
    },
    {
     "name": "stdout",
     "output_type": "stream",
     "text": [
      "Downloaded output/ortho_analytic_8b_xml/20231212_180458_64_247d_3B_AnalyticMS_8b_metadata.xml\n",
      "Error in downloading asset: asset missing [\"location\"] entry. Is asset active?\n"
     ]
    },
    {
     "name": "stderr",
     "output_type": "stream",
     "text": [
      "output/ortho_analytic_8b/20231210_180411_77_248f_3B_AnalyticMS_8b.tif: 100%|██████████| 964k/964k [00:22<00:00, 44.6MB/s] \n"
     ]
    },
    {
     "name": "stdout",
     "output_type": "stream",
     "text": [
      "Downloaded output/ortho_analytic_8b/20231210_180411_77_248f_3B_AnalyticMS_8b.tif\n"
     ]
    },
    {
     "name": "stderr",
     "output_type": "stream",
     "text": [
      "output/ortho_analytic_8b_xml/20231210_180411_77_248f_3B_AnalyticMS_8b_metadata.xml: 100%|██████████| 0.01k/0.01k [00:00<00:00, 1.41MB/s]\n"
     ]
    },
    {
     "name": "stdout",
     "output_type": "stream",
     "text": [
      "Downloaded output/ortho_analytic_8b_xml/20231210_180411_77_248f_3B_AnalyticMS_8b_metadata.xml\n",
      "Error in downloading asset: asset missing [\"location\"] entry. Is asset active?\n"
     ]
    },
    {
     "name": "stderr",
     "output_type": "stream",
     "text": [
      "output/ortho_analytic_8b/20231210_180409_71_248f_3B_AnalyticMS_8b.tif: 100%|██████████| 977k/977k [00:16<00:00, 62.8MB/s] \n"
     ]
    },
    {
     "name": "stdout",
     "output_type": "stream",
     "text": [
      "Downloaded output/ortho_analytic_8b/20231210_180409_71_248f_3B_AnalyticMS_8b.tif\n"
     ]
    },
    {
     "name": "stderr",
     "output_type": "stream",
     "text": [
      "output/ortho_analytic_8b_xml/20231210_180409_71_248f_3B_AnalyticMS_8b_metadata.xml: 100%|██████████| 0.01k/0.01k [00:00<00:00, 1.61MB/s]\n"
     ]
    },
    {
     "name": "stdout",
     "output_type": "stream",
     "text": [
      "Downloaded output/ortho_analytic_8b_xml/20231210_180409_71_248f_3B_AnalyticMS_8b_metadata.xml\n",
      "Error in downloading asset: asset missing [\"location\"] entry. Is asset active?\n"
     ]
    },
    {
     "name": "stderr",
     "output_type": "stream",
     "text": [
      "output/ortho_analytic_8b/20231210_172022_58_24c4_3B_AnalyticMS_8b.tif: 100%|██████████| 0.00M/0.00M [00:17<00:00, 61.7MB/s]\n"
     ]
    },
    {
     "name": "stdout",
     "output_type": "stream",
     "text": [
      "Downloaded output/ortho_analytic_8b/20231210_172022_58_24c4_3B_AnalyticMS_8b.tif\n"
     ]
    },
    {
     "name": "stderr",
     "output_type": "stream",
     "text": [
      "output/ortho_analytic_8b_xml/20231210_172022_58_24c4_3B_AnalyticMS_8b_metadata.xml: 100%|██████████| 0.01k/0.01k [00:00<00:00, 3.04MB/s]\n"
     ]
    },
    {
     "name": "stdout",
     "output_type": "stream",
     "text": [
      "Downloaded output/ortho_analytic_8b_xml/20231210_172022_58_24c4_3B_AnalyticMS_8b_metadata.xml\n",
      "Error in downloading asset: asset missing [\"location\"] entry. Is asset active?\n"
     ]
    },
    {
     "name": "stderr",
     "output_type": "stream",
     "text": [
      "output/ortho_analytic_8b/20231210_172024_76_24c4_3B_AnalyticMS_8b.tif: 100%|██████████| 0.00M/0.00M [00:20<00:00, 52.2MB/s]\n"
     ]
    },
    {
     "name": "stdout",
     "output_type": "stream",
     "text": [
      "Downloaded output/ortho_analytic_8b/20231210_172024_76_24c4_3B_AnalyticMS_8b.tif\n"
     ]
    },
    {
     "name": "stderr",
     "output_type": "stream",
     "text": [
      "output/ortho_analytic_8b_xml/20231210_172024_76_24c4_3B_AnalyticMS_8b_metadata.xml: 100%|██████████| 0.01k/0.01k [00:00<00:00, 1.48MB/s]\n"
     ]
    },
    {
     "name": "stdout",
     "output_type": "stream",
     "text": [
      "Downloaded output/ortho_analytic_8b_xml/20231210_172024_76_24c4_3B_AnalyticMS_8b_metadata.xml\n",
      "Error in downloading asset: asset missing [\"location\"] entry. Is asset active?\n"
     ]
    },
    {
     "name": "stderr",
     "output_type": "stream",
     "text": [
      "output/ortho_analytic_8b/20231210_172258_19_2427_3B_AnalyticMS_8b.tif: 100%|██████████| 865k/865k [00:14<00:00, 61.6MB/s] \n"
     ]
    },
    {
     "name": "stdout",
     "output_type": "stream",
     "text": [
      "Downloaded output/ortho_analytic_8b/20231210_172258_19_2427_3B_AnalyticMS_8b.tif\n"
     ]
    },
    {
     "name": "stderr",
     "output_type": "stream",
     "text": [
      "output/ortho_analytic_8b_xml/20231210_172258_19_2427_3B_AnalyticMS_8b_metadata.xml: 100%|██████████| 0.01k/0.01k [00:00<00:00, 1.70MB/s]\n"
     ]
    },
    {
     "name": "stdout",
     "output_type": "stream",
     "text": [
      "Downloaded output/ortho_analytic_8b_xml/20231210_172258_19_2427_3B_AnalyticMS_8b_metadata.xml\n",
      "Error in downloading asset: asset missing [\"location\"] entry. Is asset active?\n"
     ]
    },
    {
     "name": "stderr",
     "output_type": "stream",
     "text": [
      "output/ortho_analytic_8b/20231210_172256_21_2427_3B_AnalyticMS_8b.tif: 100%|██████████| 879k/879k [00:18<00:00, 51.1MB/s] \n"
     ]
    },
    {
     "name": "stdout",
     "output_type": "stream",
     "text": [
      "Downloaded output/ortho_analytic_8b/20231210_172256_21_2427_3B_AnalyticMS_8b.tif\n"
     ]
    },
    {
     "name": "stderr",
     "output_type": "stream",
     "text": [
      "output/ortho_analytic_8b_xml/20231210_172256_21_2427_3B_AnalyticMS_8b_metadata.xml: 100%|██████████| 0.01k/0.01k [00:00<00:00, 1.27MB/s]\n"
     ]
    },
    {
     "name": "stdout",
     "output_type": "stream",
     "text": [
      "Downloaded output/ortho_analytic_8b_xml/20231210_172256_21_2427_3B_AnalyticMS_8b_metadata.xml\n",
      "Error in downloading asset: asset missing [\"location\"] entry. Is asset active?\n"
     ]
    },
    {
     "name": "stderr",
     "output_type": "stream",
     "text": [
      "output/ortho_analytic_8b/20231209_180225_18_2482_3B_AnalyticMS_8b.tif: 100%|██████████| 945k/945k [00:16<00:00, 60.4MB/s] \n"
     ]
    },
    {
     "name": "stdout",
     "output_type": "stream",
     "text": [
      "Downloaded output/ortho_analytic_8b/20231209_180225_18_2482_3B_AnalyticMS_8b.tif\n"
     ]
    },
    {
     "name": "stderr",
     "output_type": "stream",
     "text": [
      "output/ortho_analytic_8b_xml/20231209_180225_18_2482_3B_AnalyticMS_8b_metadata.xml: 100%|██████████| 0.01k/0.01k [00:00<00:00, 3.76MB/s]\n"
     ]
    },
    {
     "name": "stdout",
     "output_type": "stream",
     "text": [
      "Downloaded output/ortho_analytic_8b_xml/20231209_180225_18_2482_3B_AnalyticMS_8b_metadata.xml\n",
      "Error in downloading asset: asset missing [\"location\"] entry. Is asset active?\n"
     ]
    },
    {
     "name": "stderr",
     "output_type": "stream",
     "text": [
      "output/ortho_analytic_8b/20231209_180223_13_2482_3B_AnalyticMS_8b.tif: 100%|██████████| 961k/961k [00:14<00:00, 68.8MB/s] \n"
     ]
    },
    {
     "name": "stdout",
     "output_type": "stream",
     "text": [
      "Downloaded output/ortho_analytic_8b/20231209_180223_13_2482_3B_AnalyticMS_8b.tif\n"
     ]
    },
    {
     "name": "stderr",
     "output_type": "stream",
     "text": [
      "output/ortho_analytic_8b_xml/20231209_180223_13_2482_3B_AnalyticMS_8b_metadata.xml: 100%|██████████| 0.01k/0.01k [00:00<00:00, 2.06MB/s]\n"
     ]
    },
    {
     "name": "stdout",
     "output_type": "stream",
     "text": [
      "Downloaded output/ortho_analytic_8b_xml/20231209_180223_13_2482_3B_AnalyticMS_8b_metadata.xml\n",
      "Error in downloading asset: asset missing [\"location\"] entry. Is asset active?\n"
     ]
    },
    {
     "name": "stderr",
     "output_type": "stream",
     "text": [
      "output/ortho_analytic_8b/20231209_180620_83_247d_3B_AnalyticMS_8b.tif: 100%|██████████| 991k/991k [00:20<00:00, 49.9MB/s] \n"
     ]
    },
    {
     "name": "stdout",
     "output_type": "stream",
     "text": [
      "Downloaded output/ortho_analytic_8b/20231209_180620_83_247d_3B_AnalyticMS_8b.tif\n"
     ]
    },
    {
     "name": "stderr",
     "output_type": "stream",
     "text": [
      "output/ortho_analytic_8b_xml/20231209_180620_83_247d_3B_AnalyticMS_8b_metadata.xml: 100%|██████████| 0.01k/0.01k [00:00<00:00, 3.77MB/s]\n"
     ]
    },
    {
     "name": "stdout",
     "output_type": "stream",
     "text": [
      "Downloaded output/ortho_analytic_8b_xml/20231209_180620_83_247d_3B_AnalyticMS_8b_metadata.xml\n",
      "Error in downloading asset: asset missing [\"location\"] entry. Is asset active?\n"
     ]
    },
    {
     "name": "stderr",
     "output_type": "stream",
     "text": [
      "output/ortho_analytic_8b/20231209_180622_88_247d_3B_AnalyticMS_8b.tif: 100%|██████████| 972k/972k [00:22<00:00, 45.0MB/s] \n"
     ]
    },
    {
     "name": "stdout",
     "output_type": "stream",
     "text": [
      "Downloaded output/ortho_analytic_8b/20231209_180622_88_247d_3B_AnalyticMS_8b.tif\n"
     ]
    },
    {
     "name": "stderr",
     "output_type": "stream",
     "text": [
      "output/ortho_analytic_8b_xml/20231209_180622_88_247d_3B_AnalyticMS_8b_metadata.xml: 100%|██████████| 0.01k/0.01k [00:00<00:00, 3.18MB/s]\n"
     ]
    },
    {
     "name": "stdout",
     "output_type": "stream",
     "text": [
      "Downloaded output/ortho_analytic_8b_xml/20231209_180622_88_247d_3B_AnalyticMS_8b_metadata.xml\n",
      "Error in downloading asset: asset missing [\"location\"] entry. Is asset active?\n"
     ]
    },
    {
     "name": "stderr",
     "output_type": "stream",
     "text": [
      "output/ortho_analytic_8b/20231208_171608_84_2423_3B_AnalyticMS_8b.tif: 100%|██████████| 877k/877k [00:18<00:00, 51.0MB/s] \n"
     ]
    },
    {
     "name": "stdout",
     "output_type": "stream",
     "text": [
      "Downloaded output/ortho_analytic_8b/20231208_171608_84_2423_3B_AnalyticMS_8b.tif\n"
     ]
    },
    {
     "name": "stderr",
     "output_type": "stream",
     "text": [
      "output/ortho_analytic_8b_xml/20231208_171608_84_2423_3B_AnalyticMS_8b_metadata.xml: 100%|██████████| 0.01k/0.01k [00:00<00:00, 3.06MB/s]\n"
     ]
    },
    {
     "name": "stdout",
     "output_type": "stream",
     "text": [
      "Downloaded output/ortho_analytic_8b_xml/20231208_171608_84_2423_3B_AnalyticMS_8b_metadata.xml\n",
      "Error in downloading asset: asset missing [\"location\"] entry. Is asset active?\n"
     ]
    },
    {
     "name": "stderr",
     "output_type": "stream",
     "text": [
      "output/ortho_analytic_8b/20231208_171606_86_2423_3B_AnalyticMS_8b.tif: 100%|██████████| 877k/877k [00:20<00:00, 44.5MB/s] \n"
     ]
    },
    {
     "name": "stdout",
     "output_type": "stream",
     "text": [
      "Downloaded output/ortho_analytic_8b/20231208_171606_86_2423_3B_AnalyticMS_8b.tif\n"
     ]
    },
    {
     "name": "stderr",
     "output_type": "stream",
     "text": [
      "output/ortho_analytic_8b_xml/20231208_171606_86_2423_3B_AnalyticMS_8b_metadata.xml: 100%|██████████| 0.01k/0.01k [00:00<00:00, 1.13MB/s]\n"
     ]
    },
    {
     "name": "stdout",
     "output_type": "stream",
     "text": [
      "Downloaded output/ortho_analytic_8b_xml/20231208_171606_86_2423_3B_AnalyticMS_8b_metadata.xml\n",
      "Error in downloading asset: asset missing [\"location\"] entry. Is asset active?\n"
     ]
    },
    {
     "name": "stderr",
     "output_type": "stream",
     "text": [
      "output/ortho_analytic_8b/20231207_180019_74_249c_3B_AnalyticMS_8b.tif: 100%|██████████| 988k/988k [00:16<00:00, 64.2MB/s] \n"
     ]
    },
    {
     "name": "stdout",
     "output_type": "stream",
     "text": [
      "Downloaded output/ortho_analytic_8b/20231207_180019_74_249c_3B_AnalyticMS_8b.tif\n"
     ]
    },
    {
     "name": "stderr",
     "output_type": "stream",
     "text": [
      "output/ortho_analytic_8b_xml/20231207_180019_74_249c_3B_AnalyticMS_8b_metadata.xml: 100%|██████████| 0.01k/0.01k [00:00<00:00, 1.07MB/s]\n"
     ]
    },
    {
     "name": "stdout",
     "output_type": "stream",
     "text": [
      "Downloaded output/ortho_analytic_8b_xml/20231207_180019_74_249c_3B_AnalyticMS_8b_metadata.xml\n"
     ]
    },
    {
     "name": "stderr",
     "output_type": "stream",
     "text": [
      "output/ortho_visual/20231207_180019_74_249c_3B_Visual.tif: 100%|██████████| 212k/212k [00:03<00:00, 63.0MB/s] \n"
     ]
    },
    {
     "name": "stdout",
     "output_type": "stream",
     "text": [
      "Downloaded output/ortho_visual/20231207_180019_74_249c_3B_Visual.tif\n"
     ]
    },
    {
     "name": "stderr",
     "output_type": "stream",
     "text": [
      "output/ortho_analytic_8b/20231206_180418_89_2482_3B_AnalyticMS_8b.tif: 100%|██████████| 969k/969k [00:15<00:00, 65.8MB/s] \n"
     ]
    },
    {
     "name": "stdout",
     "output_type": "stream",
     "text": [
      "Downloaded output/ortho_analytic_8b/20231206_180418_89_2482_3B_AnalyticMS_8b.tif\n"
     ]
    },
    {
     "name": "stderr",
     "output_type": "stream",
     "text": [
      "output/ortho_analytic_8b_xml/20231206_180418_89_2482_3B_AnalyticMS_8b_metadata.xml: 100%|██████████| 0.01k/0.01k [00:00<00:00, 2.64MB/s]\n"
     ]
    },
    {
     "name": "stdout",
     "output_type": "stream",
     "text": [
      "Downloaded output/ortho_analytic_8b_xml/20231206_180418_89_2482_3B_AnalyticMS_8b_metadata.xml\n",
      "Error in downloading asset: asset missing [\"location\"] entry. Is asset active?\n"
     ]
    },
    {
     "name": "stderr",
     "output_type": "stream",
     "text": [
      "output/ortho_analytic_8b/20231206_180420_94_2482_3B_AnalyticMS_8b.tif: 100%|██████████| 945k/945k [00:18<00:00, 52.9MB/s] \n"
     ]
    },
    {
     "name": "stdout",
     "output_type": "stream",
     "text": [
      "Downloaded output/ortho_analytic_8b/20231206_180420_94_2482_3B_AnalyticMS_8b.tif\n"
     ]
    },
    {
     "name": "stderr",
     "output_type": "stream",
     "text": [
      "output/ortho_analytic_8b_xml/20231206_180420_94_2482_3B_AnalyticMS_8b_metadata.xml: 100%|██████████| 0.01k/0.01k [00:00<00:00, 2.12MB/s]\n"
     ]
    },
    {
     "name": "stdout",
     "output_type": "stream",
     "text": [
      "Downloaded output/ortho_analytic_8b_xml/20231206_180420_94_2482_3B_AnalyticMS_8b_metadata.xml\n",
      "Error in downloading asset: asset missing [\"location\"] entry. Is asset active?\n"
     ]
    },
    {
     "name": "stderr",
     "output_type": "stream",
     "text": [
      "output/ortho_analytic_8b/20231204_171743_15_2447_3B_AnalyticMS_8b.tif: 100%|██████████| 900k/900k [00:13<00:00, 71.4MB/s] \n"
     ]
    },
    {
     "name": "stdout",
     "output_type": "stream",
     "text": [
      "Downloaded output/ortho_analytic_8b/20231204_171743_15_2447_3B_AnalyticMS_8b.tif\n"
     ]
    },
    {
     "name": "stderr",
     "output_type": "stream",
     "text": [
      "output/ortho_analytic_8b_xml/20231204_171743_15_2447_3B_AnalyticMS_8b_metadata.xml: 100%|██████████| 0.01k/0.01k [00:00<00:00, 1.24MB/s]\n"
     ]
    },
    {
     "name": "stdout",
     "output_type": "stream",
     "text": [
      "Downloaded output/ortho_analytic_8b_xml/20231204_171743_15_2447_3B_AnalyticMS_8b_metadata.xml\n",
      "Error in downloading asset: asset missing [\"location\"] entry. Is asset active?\n"
     ]
    },
    {
     "name": "stderr",
     "output_type": "stream",
     "text": [
      "output/ortho_analytic_8b/20231231_172346_34_24c0_3B_AnalyticMS_8b.tif: 100%|██████████| 0.00M/0.00M [00:17<00:00, 63.4MB/s]\n"
     ]
    },
    {
     "name": "stdout",
     "output_type": "stream",
     "text": [
      "Downloaded output/ortho_analytic_8b/20231231_172346_34_24c0_3B_AnalyticMS_8b.tif\n"
     ]
    },
    {
     "name": "stderr",
     "output_type": "stream",
     "text": [
      "output/ortho_analytic_8b_xml/20231231_172346_34_24c0_3B_AnalyticMS_8b_metadata.xml: 100%|██████████| 0.01k/0.01k [00:00<00:00, 2.06MB/s]\n"
     ]
    },
    {
     "name": "stdout",
     "output_type": "stream",
     "text": [
      "Downloaded output/ortho_analytic_8b_xml/20231231_172346_34_24c0_3B_AnalyticMS_8b_metadata.xml\n",
      "Error in downloading asset: asset missing [\"location\"] entry. Is asset active?\n"
     ]
    },
    {
     "name": "stderr",
     "output_type": "stream",
     "text": [
      "output/ortho_analytic_8b/20231231_172344_11_24c0_3B_AnalyticMS_8b.tif: 100%|██████████| 0.00M/0.00M [00:20<00:00, 56.9MB/s]\n"
     ]
    },
    {
     "name": "stdout",
     "output_type": "stream",
     "text": [
      "Downloaded output/ortho_analytic_8b/20231231_172344_11_24c0_3B_AnalyticMS_8b.tif\n"
     ]
    },
    {
     "name": "stderr",
     "output_type": "stream",
     "text": [
      "output/ortho_analytic_8b_xml/20231231_172344_11_24c0_3B_AnalyticMS_8b_metadata.xml: 100%|██████████| 0.01k/0.01k [00:00<00:00, 11.7MB/s]\n"
     ]
    },
    {
     "name": "stdout",
     "output_type": "stream",
     "text": [
      "Downloaded output/ortho_analytic_8b_xml/20231231_172344_11_24c0_3B_AnalyticMS_8b_metadata.xml\n",
      "Error in downloading asset: asset missing [\"location\"] entry. Is asset active?\n"
     ]
    },
    {
     "name": "stderr",
     "output_type": "stream",
     "text": [
      "output/ortho_analytic_8b/20231231_172121_59_2420_3B_AnalyticMS_8b.tif: 100%|██████████| 877k/877k [00:17<00:00, 53.2MB/s] \n"
     ]
    },
    {
     "name": "stdout",
     "output_type": "stream",
     "text": [
      "Downloaded output/ortho_analytic_8b/20231231_172121_59_2420_3B_AnalyticMS_8b.tif\n"
     ]
    },
    {
     "name": "stderr",
     "output_type": "stream",
     "text": [
      "output/ortho_analytic_8b_xml/20231231_172121_59_2420_3B_AnalyticMS_8b_metadata.xml: 100%|██████████| 0.01k/0.01k [00:00<00:00, 6.69MB/s]\n"
     ]
    },
    {
     "name": "stdout",
     "output_type": "stream",
     "text": [
      "Downloaded output/ortho_analytic_8b_xml/20231231_172121_59_2420_3B_AnalyticMS_8b_metadata.xml\n",
      "Error in downloading asset: asset missing [\"location\"] entry. Is asset active?\n"
     ]
    },
    {
     "name": "stderr",
     "output_type": "stream",
     "text": [
      "output/ortho_analytic_8b/20231231_172123_59_2420_3B_AnalyticMS_8b.tif: 100%|██████████| 872k/872k [00:13<00:00, 69.9MB/s] \n"
     ]
    },
    {
     "name": "stdout",
     "output_type": "stream",
     "text": [
      "Downloaded output/ortho_analytic_8b/20231231_172123_59_2420_3B_AnalyticMS_8b.tif\n"
     ]
    },
    {
     "name": "stderr",
     "output_type": "stream",
     "text": [
      "output/ortho_analytic_8b_xml/20231231_172123_59_2420_3B_AnalyticMS_8b_metadata.xml: 100%|██████████| 0.01k/0.01k [00:00<00:00, 1.63MB/s]\n"
     ]
    },
    {
     "name": "stdout",
     "output_type": "stream",
     "text": [
      "Downloaded output/ortho_analytic_8b_xml/20231231_172123_59_2420_3B_AnalyticMS_8b_metadata.xml\n",
      "Error in downloading asset: asset missing [\"location\"] entry. Is asset active?\n"
     ]
    },
    {
     "name": "stderr",
     "output_type": "stream",
     "text": [
      "output/ortho_analytic_8b/20231230_183649_22_2405_3B_AnalyticMS_8b.tif: 100%|██████████| 700k/700k [00:11<00:00, 62.0MB/s] \n"
     ]
    },
    {
     "name": "stdout",
     "output_type": "stream",
     "text": [
      "Downloaded output/ortho_analytic_8b/20231230_183649_22_2405_3B_AnalyticMS_8b.tif\n"
     ]
    },
    {
     "name": "stderr",
     "output_type": "stream",
     "text": [
      "output/ortho_analytic_8b_xml/20231230_183649_22_2405_3B_AnalyticMS_8b_metadata.xml: 100%|██████████| 0.01k/0.01k [00:00<00:00, 2.52MB/s]\n"
     ]
    },
    {
     "name": "stdout",
     "output_type": "stream",
     "text": [
      "Downloaded output/ortho_analytic_8b_xml/20231230_183649_22_2405_3B_AnalyticMS_8b_metadata.xml\n",
      "Error in downloading asset: asset missing [\"location\"] entry. Is asset active?\n"
     ]
    },
    {
     "name": "stderr",
     "output_type": "stream",
     "text": [
      "output/ortho_analytic_8b/20231230_172420_49_24cf_3B_AnalyticMS_8b.tif: 100%|██████████| 0.00M/0.00M [00:18<00:00, 60.4MB/s]\n"
     ]
    },
    {
     "name": "stdout",
     "output_type": "stream",
     "text": [
      "Downloaded output/ortho_analytic_8b/20231230_172420_49_24cf_3B_AnalyticMS_8b.tif\n"
     ]
    },
    {
     "name": "stderr",
     "output_type": "stream",
     "text": [
      "output/ortho_analytic_8b_xml/20231230_172420_49_24cf_3B_AnalyticMS_8b_metadata.xml: 100%|██████████| 0.01k/0.01k [00:00<00:00, 2.36MB/s]\n"
     ]
    },
    {
     "name": "stdout",
     "output_type": "stream",
     "text": [
      "Downloaded output/ortho_analytic_8b_xml/20231230_172420_49_24cf_3B_AnalyticMS_8b_metadata.xml\n",
      "Error in downloading asset: asset missing [\"location\"] entry. Is asset active?\n"
     ]
    },
    {
     "name": "stderr",
     "output_type": "stream",
     "text": [
      "output/ortho_analytic_8b/20231229_172152_37_24af_3B_AnalyticMS_8b.tif: 100%|██████████| 0.00M/0.00M [00:15<00:00, 72.7MB/s]\n"
     ]
    },
    {
     "name": "stdout",
     "output_type": "stream",
     "text": [
      "Downloaded output/ortho_analytic_8b/20231229_172152_37_24af_3B_AnalyticMS_8b.tif\n"
     ]
    },
    {
     "name": "stderr",
     "output_type": "stream",
     "text": [
      "output/ortho_analytic_8b_xml/20231229_172152_37_24af_3B_AnalyticMS_8b_metadata.xml: 100%|██████████| 0.01k/0.01k [00:00<00:00, 2.07MB/s]\n"
     ]
    },
    {
     "name": "stdout",
     "output_type": "stream",
     "text": [
      "Downloaded output/ortho_analytic_8b_xml/20231229_172152_37_24af_3B_AnalyticMS_8b_metadata.xml\n",
      "Error in downloading asset: asset missing [\"location\"] entry. Is asset active?\n"
     ]
    },
    {
     "name": "stderr",
     "output_type": "stream",
     "text": [
      "output/ortho_analytic_8b/20231228_172036_16_24c1_3B_AnalyticMS_8b.tif: 100%|██████████| 0.00M/0.00M [00:24<00:00, 45.0MB/s]\n"
     ]
    },
    {
     "name": "stdout",
     "output_type": "stream",
     "text": [
      "Downloaded output/ortho_analytic_8b/20231228_172036_16_24c1_3B_AnalyticMS_8b.tif\n"
     ]
    },
    {
     "name": "stderr",
     "output_type": "stream",
     "text": [
      "output/ortho_analytic_8b_xml/20231228_172036_16_24c1_3B_AnalyticMS_8b_metadata.xml: 100%|██████████| 0.01k/0.01k [00:00<00:00, 1.48MB/s]\n"
     ]
    },
    {
     "name": "stdout",
     "output_type": "stream",
     "text": [
      "Downloaded output/ortho_analytic_8b_xml/20231228_172036_16_24c1_3B_AnalyticMS_8b_metadata.xml\n",
      "Error in downloading asset: asset missing [\"location\"] entry. Is asset active?\n"
     ]
    },
    {
     "name": "stderr",
     "output_type": "stream",
     "text": [
      "output/ortho_analytic_8b/20231228_172033_93_24c1_3B_AnalyticMS_8b.tif: 100%|██████████| 0.00M/0.00M [00:21<00:00, 53.0MB/s]\n"
     ]
    },
    {
     "name": "stdout",
     "output_type": "stream",
     "text": [
      "Downloaded output/ortho_analytic_8b/20231228_172033_93_24c1_3B_AnalyticMS_8b.tif\n"
     ]
    },
    {
     "name": "stderr",
     "output_type": "stream",
     "text": [
      "output/ortho_analytic_8b_xml/20231228_172033_93_24c1_3B_AnalyticMS_8b_metadata.xml: 100%|██████████| 0.01k/0.01k [00:00<00:00, 1.73MB/s]\n"
     ]
    },
    {
     "name": "stdout",
     "output_type": "stream",
     "text": [
      "Downloaded output/ortho_analytic_8b_xml/20231228_172033_93_24c1_3B_AnalyticMS_8b_metadata.xml\n",
      "Error in downloading asset: asset missing [\"location\"] entry. Is asset active?\n"
     ]
    },
    {
     "name": "stderr",
     "output_type": "stream",
     "text": [
      "output/ortho_analytic_8b/20231226_172149_05_24b4_3B_AnalyticMS_8b.tif: 100%|██████████| 0.00M/0.00M [00:17<00:00, 60.8MB/s]\n"
     ]
    },
    {
     "name": "stdout",
     "output_type": "stream",
     "text": [
      "Downloaded output/ortho_analytic_8b/20231226_172149_05_24b4_3B_AnalyticMS_8b.tif\n"
     ]
    },
    {
     "name": "stderr",
     "output_type": "stream",
     "text": [
      "output/ortho_analytic_8b_xml/20231226_172149_05_24b4_3B_AnalyticMS_8b_metadata.xml: 100%|██████████| 0.01k/0.01k [00:00<00:00, 3.38MB/s]\n"
     ]
    },
    {
     "name": "stdout",
     "output_type": "stream",
     "text": [
      "Downloaded output/ortho_analytic_8b_xml/20231226_172149_05_24b4_3B_AnalyticMS_8b_metadata.xml\n",
      "Error in downloading asset: asset missing [\"location\"] entry. Is asset active?\n"
     ]
    },
    {
     "name": "stderr",
     "output_type": "stream",
     "text": [
      "output/ortho_analytic_8b/20231226_172146_83_24b4_3B_AnalyticMS_8b.tif: 100%|██████████| 0.00M/0.00M [00:17<00:00, 61.0MB/s]\n"
     ]
    },
    {
     "name": "stdout",
     "output_type": "stream",
     "text": [
      "Downloaded output/ortho_analytic_8b/20231226_172146_83_24b4_3B_AnalyticMS_8b.tif\n"
     ]
    },
    {
     "name": "stderr",
     "output_type": "stream",
     "text": [
      "output/ortho_analytic_8b_xml/20231226_172146_83_24b4_3B_AnalyticMS_8b_metadata.xml: 100%|██████████| 0.01k/0.01k [00:00<00:00, 1.76MB/s]\n"
     ]
    },
    {
     "name": "stdout",
     "output_type": "stream",
     "text": [
      "Downloaded output/ortho_analytic_8b_xml/20231226_172146_83_24b4_3B_AnalyticMS_8b_metadata.xml\n",
      "Error in downloading asset: asset missing [\"location\"] entry. Is asset active?\n"
     ]
    },
    {
     "name": "stderr",
     "output_type": "stream",
     "text": [
      "output/ortho_analytic_8b/20231221_180653_75_2484_3B_AnalyticMS_8b.tif: 100%|██████████| 962k/962k [00:19<00:00, 50.6MB/s] \n"
     ]
    },
    {
     "name": "stdout",
     "output_type": "stream",
     "text": [
      "Downloaded output/ortho_analytic_8b/20231221_180653_75_2484_3B_AnalyticMS_8b.tif\n"
     ]
    },
    {
     "name": "stderr",
     "output_type": "stream",
     "text": [
      "output/ortho_analytic_8b_xml/20231221_180653_75_2484_3B_AnalyticMS_8b_metadata.xml: 100%|██████████| 0.01k/0.01k [00:00<00:00, 1.38MB/s]\n"
     ]
    },
    {
     "name": "stdout",
     "output_type": "stream",
     "text": [
      "Downloaded output/ortho_analytic_8b_xml/20231221_180653_75_2484_3B_AnalyticMS_8b_metadata.xml\n",
      "Error in downloading asset: asset missing [\"location\"] entry. Is asset active?\n"
     ]
    },
    {
     "name": "stderr",
     "output_type": "stream",
     "text": [
      "output/ortho_analytic_8b/20231221_172359_25_24bf_3B_AnalyticMS_8b.tif: 100%|██████████| 0.00M/0.00M [00:25<00:00, 44.2MB/s]\n"
     ]
    },
    {
     "name": "stdout",
     "output_type": "stream",
     "text": [
      "Downloaded output/ortho_analytic_8b/20231221_172359_25_24bf_3B_AnalyticMS_8b.tif\n"
     ]
    },
    {
     "name": "stderr",
     "output_type": "stream",
     "text": [
      "output/ortho_analytic_8b_xml/20231221_172359_25_24bf_3B_AnalyticMS_8b_metadata.xml: 100%|██████████| 0.01k/0.01k [00:00<00:00, 1.92MB/s]\n"
     ]
    },
    {
     "name": "stdout",
     "output_type": "stream",
     "text": [
      "Downloaded output/ortho_analytic_8b_xml/20231221_172359_25_24bf_3B_AnalyticMS_8b_metadata.xml\n",
      "Error in downloading asset: asset missing [\"location\"] entry. Is asset active?\n"
     ]
    },
    {
     "name": "stderr",
     "output_type": "stream",
     "text": [
      "output/ortho_analytic_8b/20231221_172357_03_24bf_3B_AnalyticMS_8b.tif: 100%|██████████| 0.00M/0.00M [00:20<00:00, 54.5MB/s]\n"
     ]
    },
    {
     "name": "stdout",
     "output_type": "stream",
     "text": [
      "Downloaded output/ortho_analytic_8b/20231221_172357_03_24bf_3B_AnalyticMS_8b.tif\n"
     ]
    },
    {
     "name": "stderr",
     "output_type": "stream",
     "text": [
      "output/ortho_analytic_8b_xml/20231221_172357_03_24bf_3B_AnalyticMS_8b_metadata.xml: 100%|██████████| 0.01k/0.01k [00:00<00:00, 1.58MB/s]\n"
     ]
    },
    {
     "name": "stdout",
     "output_type": "stream",
     "text": [
      "Downloaded output/ortho_analytic_8b_xml/20231221_172357_03_24bf_3B_AnalyticMS_8b_metadata.xml\n",
      "Error in downloading asset: asset missing [\"location\"] entry. Is asset active?\n"
     ]
    },
    {
     "name": "stderr",
     "output_type": "stream",
     "text": [
      "output/ortho_analytic_8b/20231217_172056_59_24ab_3B_AnalyticMS_8b.tif: 100%|██████████| 0.00M/0.00M [00:18<00:00, 60.3MB/s]\n"
     ]
    },
    {
     "name": "stdout",
     "output_type": "stream",
     "text": [
      "Downloaded output/ortho_analytic_8b/20231217_172056_59_24ab_3B_AnalyticMS_8b.tif\n"
     ]
    },
    {
     "name": "stderr",
     "output_type": "stream",
     "text": [
      "output/ortho_analytic_8b_xml/20231217_172056_59_24ab_3B_AnalyticMS_8b_metadata.xml: 100%|██████████| 0.01k/0.01k [00:00<00:00, 11.1MB/s]\n"
     ]
    },
    {
     "name": "stdout",
     "output_type": "stream",
     "text": [
      "Downloaded output/ortho_analytic_8b_xml/20231217_172056_59_24ab_3B_AnalyticMS_8b_metadata.xml\n",
      "Error in downloading asset: asset missing [\"location\"] entry. Is asset active?\n"
     ]
    },
    {
     "name": "stderr",
     "output_type": "stream",
     "text": [
      "output/ortho_analytic_8b/20231217_172058_77_24ab_3B_AnalyticMS_8b.tif: 100%|██████████| 0.00M/0.00M [00:28<00:00, 39.1MB/s]\n"
     ]
    },
    {
     "name": "stdout",
     "output_type": "stream",
     "text": [
      "Downloaded output/ortho_analytic_8b/20231217_172058_77_24ab_3B_AnalyticMS_8b.tif\n"
     ]
    },
    {
     "name": "stderr",
     "output_type": "stream",
     "text": [
      "output/ortho_analytic_8b_xml/20231217_172058_77_24ab_3B_AnalyticMS_8b_metadata.xml: 100%|██████████| 0.01k/0.01k [00:00<00:00, 845kB/s]\n"
     ]
    },
    {
     "name": "stdout",
     "output_type": "stream",
     "text": [
      "Downloaded output/ortho_analytic_8b_xml/20231217_172058_77_24ab_3B_AnalyticMS_8b_metadata.xml\n"
     ]
    },
    {
     "name": "stderr",
     "output_type": "stream",
     "text": [
      "output/ortho_visual/20231217_172058_77_24ab_3B_Visual.tif: 100%|██████████| 248k/248k [00:07<00:00, 37.1MB/s] \n"
     ]
    },
    {
     "name": "stdout",
     "output_type": "stream",
     "text": [
      "Downloaded output/ortho_visual/20231217_172058_77_24ab_3B_Visual.tif\n"
     ]
    },
    {
     "name": "stderr",
     "output_type": "stream",
     "text": [
      "output/ortho_analytic_8b/20231215_180311_45_247d_3B_AnalyticMS_8b.tif: 100%|██████████| 986k/986k [00:25<00:00, 40.6MB/s] \n"
     ]
    },
    {
     "name": "stdout",
     "output_type": "stream",
     "text": [
      "Downloaded output/ortho_analytic_8b/20231215_180311_45_247d_3B_AnalyticMS_8b.tif\n"
     ]
    },
    {
     "name": "stderr",
     "output_type": "stream",
     "text": [
      "output/ortho_analytic_8b_xml/20231215_180311_45_247d_3B_AnalyticMS_8b_metadata.xml: 100%|██████████| 0.01k/0.01k [00:00<00:00, 2.10MB/s]\n"
     ]
    },
    {
     "name": "stdout",
     "output_type": "stream",
     "text": [
      "Downloaded output/ortho_analytic_8b_xml/20231215_180311_45_247d_3B_AnalyticMS_8b_metadata.xml\n"
     ]
    },
    {
     "name": "stderr",
     "output_type": "stream",
     "text": [
      "output/ortho_visual/20231215_180311_45_247d_3B_Visual.tif: 100%|██████████| 218k/218k [00:04<00:00, 48.0MB/s] \n"
     ]
    },
    {
     "name": "stdout",
     "output_type": "stream",
     "text": [
      "Downloaded output/ortho_visual/20231215_180311_45_247d_3B_Visual.tif\n"
     ]
    },
    {
     "name": "stderr",
     "output_type": "stream",
     "text": [
      "output/ortho_analytic_8b/20231214_180222_01_24a4_3B_AnalyticMS_8b.tif: 100%|██████████| 967k/967k [00:20<00:00, 50.7MB/s] \n"
     ]
    },
    {
     "name": "stdout",
     "output_type": "stream",
     "text": [
      "Downloaded output/ortho_analytic_8b/20231214_180222_01_24a4_3B_AnalyticMS_8b.tif\n"
     ]
    },
    {
     "name": "stderr",
     "output_type": "stream",
     "text": [
      "output/ortho_analytic_8b_xml/20231214_180222_01_24a4_3B_AnalyticMS_8b_metadata.xml: 100%|██████████| 0.01k/0.01k [00:00<00:00, 1.35MB/s]\n"
     ]
    },
    {
     "name": "stdout",
     "output_type": "stream",
     "text": [
      "Downloaded output/ortho_analytic_8b_xml/20231214_180222_01_24a4_3B_AnalyticMS_8b_metadata.xml\n",
      "Error in downloading asset: asset missing [\"location\"] entry. Is asset active?\n"
     ]
    },
    {
     "name": "stderr",
     "output_type": "stream",
     "text": [
      "output/ortho_analytic_8b/20231214_180219_96_24a4_3B_AnalyticMS_8b.tif: 100%|██████████| 974k/974k [00:14<00:00, 71.3MB/s] \n"
     ]
    },
    {
     "name": "stdout",
     "output_type": "stream",
     "text": [
      "Downloaded output/ortho_analytic_8b/20231214_180219_96_24a4_3B_AnalyticMS_8b.tif\n"
     ]
    },
    {
     "name": "stderr",
     "output_type": "stream",
     "text": [
      "output/ortho_analytic_8b_xml/20231214_180219_96_24a4_3B_AnalyticMS_8b_metadata.xml: 100%|██████████| 0.01k/0.01k [00:00<00:00, 704kB/s]\n"
     ]
    },
    {
     "name": "stdout",
     "output_type": "stream",
     "text": [
      "Downloaded output/ortho_analytic_8b_xml/20231214_180219_96_24a4_3B_AnalyticMS_8b_metadata.xml\n",
      "Error in downloading asset: asset missing [\"location\"] entry. Is asset active?\n"
     ]
    },
    {
     "name": "stderr",
     "output_type": "stream",
     "text": [
      "output/ortho_analytic_8b/20231214_172352_73_2431_3B_AnalyticMS_8b.tif: 100%|██████████| 884k/884k [00:15<00:00, 61.5MB/s] \n"
     ]
    },
    {
     "name": "stdout",
     "output_type": "stream",
     "text": [
      "Downloaded output/ortho_analytic_8b/20231214_172352_73_2431_3B_AnalyticMS_8b.tif\n"
     ]
    },
    {
     "name": "stderr",
     "output_type": "stream",
     "text": [
      "output/ortho_analytic_8b_xml/20231214_172352_73_2431_3B_AnalyticMS_8b_metadata.xml: 100%|██████████| 0.01k/0.01k [00:00<00:00, 2.64MB/s]\n"
     ]
    },
    {
     "name": "stdout",
     "output_type": "stream",
     "text": [
      "Downloaded output/ortho_analytic_8b_xml/20231214_172352_73_2431_3B_AnalyticMS_8b_metadata.xml\n",
      "Error in downloading asset: asset missing [\"location\"] entry. Is asset active?\n"
     ]
    },
    {
     "name": "stderr",
     "output_type": "stream",
     "text": [
      "output/ortho_analytic_8b/20231214_172350_76_2431_3B_AnalyticMS_8b.tif: 100%|██████████| 886k/886k [00:16<00:00, 54.9MB/s] \n"
     ]
    },
    {
     "name": "stdout",
     "output_type": "stream",
     "text": [
      "Downloaded output/ortho_analytic_8b/20231214_172350_76_2431_3B_AnalyticMS_8b.tif\n"
     ]
    },
    {
     "name": "stderr",
     "output_type": "stream",
     "text": [
      "output/ortho_analytic_8b_xml/20231214_172350_76_2431_3B_AnalyticMS_8b_metadata.xml: 100%|██████████| 0.01k/0.01k [00:00<00:00, 2.37MB/s]\n"
     ]
    },
    {
     "name": "stdout",
     "output_type": "stream",
     "text": [
      "Downloaded output/ortho_analytic_8b_xml/20231214_172350_76_2431_3B_AnalyticMS_8b_metadata.xml\n",
      "Error in downloading asset: asset missing [\"location\"] entry. Is asset active?\n"
     ]
    },
    {
     "name": "stderr",
     "output_type": "stream",
     "text": [
      "output/ortho_analytic_8b/20231213_172258_17_2429_3B_AnalyticMS_8b.tif: 100%|██████████| 890k/890k [00:22<00:00, 41.7MB/s] \n"
     ]
    },
    {
     "name": "stdout",
     "output_type": "stream",
     "text": [
      "Downloaded output/ortho_analytic_8b/20231213_172258_17_2429_3B_AnalyticMS_8b.tif\n"
     ]
    },
    {
     "name": "stderr",
     "output_type": "stream",
     "text": [
      "output/ortho_analytic_8b_xml/20231213_172258_17_2429_3B_AnalyticMS_8b_metadata.xml: 100%|██████████| 0.01k/0.01k [00:00<00:00, 1.01MB/s]\n"
     ]
    },
    {
     "name": "stdout",
     "output_type": "stream",
     "text": [
      "Downloaded output/ortho_analytic_8b_xml/20231213_172258_17_2429_3B_AnalyticMS_8b_metadata.xml\n",
      "Error in downloading asset: asset missing [\"location\"] entry. Is asset active?\n"
     ]
    },
    {
     "name": "stderr",
     "output_type": "stream",
     "text": [
      "output/ortho_analytic_8b/20231213_172300_16_2429_3B_AnalyticMS_8b.tif: 100%|██████████| 886k/886k [00:19<00:00, 46.6MB/s] \n"
     ]
    },
    {
     "name": "stdout",
     "output_type": "stream",
     "text": [
      "Downloaded output/ortho_analytic_8b/20231213_172300_16_2429_3B_AnalyticMS_8b.tif\n"
     ]
    },
    {
     "name": "stderr",
     "output_type": "stream",
     "text": [
      "output/ortho_analytic_8b_xml/20231213_172300_16_2429_3B_AnalyticMS_8b_metadata.xml: 100%|██████████| 0.01k/0.01k [00:00<00:00, 2.48MB/s]\n"
     ]
    },
    {
     "name": "stdout",
     "output_type": "stream",
     "text": [
      "Downloaded output/ortho_analytic_8b_xml/20231213_172300_16_2429_3B_AnalyticMS_8b_metadata.xml\n",
      "Error in downloading asset: asset missing [\"location\"] entry. Is asset active?\n"
     ]
    },
    {
     "name": "stderr",
     "output_type": "stream",
     "text": [
      "output/ortho_analytic_8b/20231213_172328_75_24b2_3B_AnalyticMS_8b.tif: 100%|██████████| 0.00M/0.00M [00:22<00:00, 50.7MB/s]\n"
     ]
    },
    {
     "name": "stdout",
     "output_type": "stream",
     "text": [
      "Downloaded output/ortho_analytic_8b/20231213_172328_75_24b2_3B_AnalyticMS_8b.tif\n"
     ]
    },
    {
     "name": "stderr",
     "output_type": "stream",
     "text": [
      "output/ortho_analytic_8b_xml/20231213_172328_75_24b2_3B_AnalyticMS_8b_metadata.xml: 100%|██████████| 0.01k/0.01k [00:00<00:00, 1.60MB/s]\n"
     ]
    },
    {
     "name": "stdout",
     "output_type": "stream",
     "text": [
      "Downloaded output/ortho_analytic_8b_xml/20231213_172328_75_24b2_3B_AnalyticMS_8b_metadata.xml\n",
      "Error in downloading asset: asset missing [\"location\"] entry. Is asset active?\n"
     ]
    },
    {
     "name": "stderr",
     "output_type": "stream",
     "text": [
      "output/ortho_analytic_8b/20231212_172543_08_2458_3B_AnalyticMS_8b.tif: 100%|██████████| 860k/860k [00:18<00:00, 49.2MB/s] \n"
     ]
    },
    {
     "name": "stdout",
     "output_type": "stream",
     "text": [
      "Downloaded output/ortho_analytic_8b/20231212_172543_08_2458_3B_AnalyticMS_8b.tif\n"
     ]
    },
    {
     "name": "stderr",
     "output_type": "stream",
     "text": [
      "output/ortho_analytic_8b_xml/20231212_172543_08_2458_3B_AnalyticMS_8b_metadata.xml: 100%|██████████| 0.01k/0.01k [00:00<00:00, 783kB/s]\n"
     ]
    },
    {
     "name": "stdout",
     "output_type": "stream",
     "text": [
      "Downloaded output/ortho_analytic_8b_xml/20231212_172543_08_2458_3B_AnalyticMS_8b_metadata.xml\n",
      "Error in downloading asset: asset missing [\"location\"] entry. Is asset active?\n"
     ]
    },
    {
     "name": "stderr",
     "output_type": "stream",
     "text": [
      "output/ortho_analytic_8b/20231210_180442_55_2495_3B_AnalyticMS_8b.tif: 100%|██████████| 967k/967k [00:17<00:00, 59.2MB/s] \n"
     ]
    },
    {
     "name": "stdout",
     "output_type": "stream",
     "text": [
      "Downloaded output/ortho_analytic_8b/20231210_180442_55_2495_3B_AnalyticMS_8b.tif\n"
     ]
    },
    {
     "name": "stderr",
     "output_type": "stream",
     "text": [
      "output/ortho_analytic_8b_xml/20231210_180442_55_2495_3B_AnalyticMS_8b_metadata.xml: 100%|██████████| 0.01k/0.01k [00:00<00:00, 3.53MB/s]\n"
     ]
    },
    {
     "name": "stdout",
     "output_type": "stream",
     "text": [
      "Downloaded output/ortho_analytic_8b_xml/20231210_180442_55_2495_3B_AnalyticMS_8b_metadata.xml\n",
      "Error in downloading asset: asset missing [\"location\"] entry. Is asset active?\n"
     ]
    },
    {
     "name": "stderr",
     "output_type": "stream",
     "text": [
      "output/ortho_analytic_8b/20231210_172022_58_24c4_3B_AnalyticMS_8b.tif: 100%|██████████| 0.00M/0.00M [00:23<00:00, 45.7MB/s]\n"
     ]
    },
    {
     "name": "stdout",
     "output_type": "stream",
     "text": [
      "Downloaded output/ortho_analytic_8b/20231210_172022_58_24c4_3B_AnalyticMS_8b.tif\n"
     ]
    },
    {
     "name": "stderr",
     "output_type": "stream",
     "text": [
      "output/ortho_analytic_8b_xml/20231210_172022_58_24c4_3B_AnalyticMS_8b_metadata.xml: 100%|██████████| 0.01k/0.01k [00:00<00:00, 1.13MB/s]\n"
     ]
    },
    {
     "name": "stdout",
     "output_type": "stream",
     "text": [
      "Downloaded output/ortho_analytic_8b_xml/20231210_172022_58_24c4_3B_AnalyticMS_8b_metadata.xml\n",
      "Error in downloading asset: asset missing [\"location\"] entry. Is asset active?\n"
     ]
    },
    {
     "name": "stderr",
     "output_type": "stream",
     "text": [
      "output/ortho_analytic_8b/20231210_172020_41_24c4_3B_AnalyticMS_8b.tif: 100%|██████████| 0.00M/0.00M [00:21<00:00, 50.9MB/s]\n"
     ]
    },
    {
     "name": "stdout",
     "output_type": "stream",
     "text": [
      "Downloaded output/ortho_analytic_8b/20231210_172020_41_24c4_3B_AnalyticMS_8b.tif\n"
     ]
    },
    {
     "name": "stderr",
     "output_type": "stream",
     "text": [
      "output/ortho_analytic_8b_xml/20231210_172020_41_24c4_3B_AnalyticMS_8b_metadata.xml: 100%|██████████| 0.01k/0.01k [00:00<00:00, 3.51MB/s]\n"
     ]
    },
    {
     "name": "stdout",
     "output_type": "stream",
     "text": [
      "Downloaded output/ortho_analytic_8b_xml/20231210_172020_41_24c4_3B_AnalyticMS_8b_metadata.xml\n",
      "Error in downloading asset: asset missing [\"location\"] entry. Is asset active?\n"
     ]
    },
    {
     "name": "stderr",
     "output_type": "stream",
     "text": [
      "output/ortho_analytic_8b/20231209_180404_49_2479_3B_AnalyticMS_8b.tif: 100%|██████████| 954k/954k [00:22<00:00, 44.9MB/s] \n"
     ]
    },
    {
     "name": "stdout",
     "output_type": "stream",
     "text": [
      "Downloaded output/ortho_analytic_8b/20231209_180404_49_2479_3B_AnalyticMS_8b.tif\n"
     ]
    },
    {
     "name": "stderr",
     "output_type": "stream",
     "text": [
      "output/ortho_analytic_8b_xml/20231209_180404_49_2479_3B_AnalyticMS_8b_metadata.xml: 100%|██████████| 0.01k/0.01k [00:00<00:00, 1.14MB/s]\n"
     ]
    },
    {
     "name": "stdout",
     "output_type": "stream",
     "text": [
      "Downloaded output/ortho_analytic_8b_xml/20231209_180404_49_2479_3B_AnalyticMS_8b_metadata.xml\n",
      "Error in downloading asset: asset missing [\"location\"] entry. Is asset active?\n"
     ]
    },
    {
     "name": "stderr",
     "output_type": "stream",
     "text": [
      "output/ortho_analytic_8b/20231209_180402_44_2479_3B_AnalyticMS_8b.tif: 100%|██████████| 963k/963k [00:16<00:00, 61.9MB/s] \n"
     ]
    },
    {
     "name": "stdout",
     "output_type": "stream",
     "text": [
      "Downloaded output/ortho_analytic_8b/20231209_180402_44_2479_3B_AnalyticMS_8b.tif\n"
     ]
    },
    {
     "name": "stderr",
     "output_type": "stream",
     "text": [
      "output/ortho_analytic_8b_xml/20231209_180402_44_2479_3B_AnalyticMS_8b_metadata.xml: 100%|██████████| 0.01k/0.01k [00:00<00:00, 3.23MB/s]\n"
     ]
    },
    {
     "name": "stdout",
     "output_type": "stream",
     "text": [
      "Downloaded output/ortho_analytic_8b_xml/20231209_180402_44_2479_3B_AnalyticMS_8b_metadata.xml\n",
      "Error in downloading asset: asset missing [\"location\"] entry. Is asset active?\n"
     ]
    },
    {
     "name": "stderr",
     "output_type": "stream",
     "text": [
      "output/ortho_analytic_8b/20231209_180620_83_247d_3B_AnalyticMS_8b.tif: 100%|██████████| 991k/991k [00:16<00:00, 62.7MB/s] \n"
     ]
    },
    {
     "name": "stdout",
     "output_type": "stream",
     "text": [
      "Downloaded output/ortho_analytic_8b/20231209_180620_83_247d_3B_AnalyticMS_8b.tif\n"
     ]
    },
    {
     "name": "stderr",
     "output_type": "stream",
     "text": [
      "output/ortho_analytic_8b_xml/20231209_180620_83_247d_3B_AnalyticMS_8b_metadata.xml: 100%|██████████| 0.01k/0.01k [00:00<00:00, 2.04MB/s]\n"
     ]
    },
    {
     "name": "stdout",
     "output_type": "stream",
     "text": [
      "Downloaded output/ortho_analytic_8b_xml/20231209_180620_83_247d_3B_AnalyticMS_8b_metadata.xml\n",
      "Error in downloading asset: asset missing [\"location\"] entry. Is asset active?\n"
     ]
    },
    {
     "name": "stderr",
     "output_type": "stream",
     "text": [
      "output/ortho_analytic_8b/20231208_172318_90_24c0_3B_AnalyticMS_8b.tif: 100%|██████████| 0.00M/0.00M [00:15<00:00, 74.1MB/s]\n"
     ]
    },
    {
     "name": "stdout",
     "output_type": "stream",
     "text": [
      "Downloaded output/ortho_analytic_8b/20231208_172318_90_24c0_3B_AnalyticMS_8b.tif\n"
     ]
    },
    {
     "name": "stderr",
     "output_type": "stream",
     "text": [
      "output/ortho_analytic_8b_xml/20231208_172318_90_24c0_3B_AnalyticMS_8b_metadata.xml: 100%|██████████| 0.01k/0.01k [00:00<00:00, 13.8MB/s]\n"
     ]
    },
    {
     "name": "stdout",
     "output_type": "stream",
     "text": [
      "Downloaded output/ortho_analytic_8b_xml/20231208_172318_90_24c0_3B_AnalyticMS_8b_metadata.xml\n",
      "Error in downloading asset: asset missing [\"location\"] entry. Is asset active?\n"
     ]
    },
    {
     "name": "stderr",
     "output_type": "stream",
     "text": [
      "output/ortho_analytic_8b/20231208_172321_09_24c0_3B_AnalyticMS_8b.tif: 100%|██████████| 0.00M/0.00M [00:18<00:00, 61.9MB/s]\n"
     ]
    },
    {
     "name": "stdout",
     "output_type": "stream",
     "text": [
      "Downloaded output/ortho_analytic_8b/20231208_172321_09_24c0_3B_AnalyticMS_8b.tif\n"
     ]
    },
    {
     "name": "stderr",
     "output_type": "stream",
     "text": [
      "output/ortho_analytic_8b_xml/20231208_172321_09_24c0_3B_AnalyticMS_8b_metadata.xml: 100%|██████████| 0.01k/0.01k [00:00<00:00, 2.30MB/s]\n"
     ]
    },
    {
     "name": "stdout",
     "output_type": "stream",
     "text": [
      "Downloaded output/ortho_analytic_8b_xml/20231208_172321_09_24c0_3B_AnalyticMS_8b_metadata.xml\n",
      "Error in downloading asset: asset missing [\"location\"] entry. Is asset active?\n"
     ]
    },
    {
     "name": "stderr",
     "output_type": "stream",
     "text": [
      "output/ortho_analytic_8b/20231206_180208_99_248b_3B_AnalyticMS_8b.tif: 100%|██████████| 950k/950k [00:17<00:00, 56.9MB/s] \n"
     ]
    },
    {
     "name": "stdout",
     "output_type": "stream",
     "text": [
      "Downloaded output/ortho_analytic_8b/20231206_180208_99_248b_3B_AnalyticMS_8b.tif\n"
     ]
    },
    {
     "name": "stderr",
     "output_type": "stream",
     "text": [
      "output/ortho_analytic_8b_xml/20231206_180208_99_248b_3B_AnalyticMS_8b_metadata.xml: 100%|██████████| 0.01k/0.01k [00:00<00:00, 1.90MB/s]\n"
     ]
    },
    {
     "name": "stdout",
     "output_type": "stream",
     "text": [
      "Downloaded output/ortho_analytic_8b_xml/20231206_180208_99_248b_3B_AnalyticMS_8b_metadata.xml\n",
      "Error in downloading asset: asset missing [\"location\"] entry. Is asset active?\n"
     ]
    },
    {
     "name": "stderr",
     "output_type": "stream",
     "text": [
      "output/ortho_analytic_8b/20231206_172203_74_24ba_3B_AnalyticMS_8b.tif: 100%|██████████| 0.00M/0.00M [00:23<00:00, 46.6MB/s]\n"
     ]
    },
    {
     "name": "stdout",
     "output_type": "stream",
     "text": [
      "Downloaded output/ortho_analytic_8b/20231206_172203_74_24ba_3B_AnalyticMS_8b.tif\n"
     ]
    },
    {
     "name": "stderr",
     "output_type": "stream",
     "text": [
      "output/ortho_analytic_8b_xml/20231206_172203_74_24ba_3B_AnalyticMS_8b_metadata.xml: 100%|██████████| 0.01k/0.01k [00:00<00:00, 2.06MB/s]\n"
     ]
    },
    {
     "name": "stdout",
     "output_type": "stream",
     "text": [
      "Downloaded output/ortho_analytic_8b_xml/20231206_172203_74_24ba_3B_AnalyticMS_8b_metadata.xml\n",
      "Error in downloading asset: asset missing [\"location\"] entry. Is asset active?\n"
     ]
    },
    {
     "name": "stderr",
     "output_type": "stream",
     "text": [
      "output/ortho_analytic_8b/20231206_172205_92_24ba_3B_AnalyticMS_8b.tif: 100%|██████████| 0.00M/0.00M [00:17<00:00, 61.7MB/s]\n"
     ]
    },
    {
     "name": "stdout",
     "output_type": "stream",
     "text": [
      "Downloaded output/ortho_analytic_8b/20231206_172205_92_24ba_3B_AnalyticMS_8b.tif\n"
     ]
    },
    {
     "name": "stderr",
     "output_type": "stream",
     "text": [
      "output/ortho_analytic_8b_xml/20231206_172205_92_24ba_3B_AnalyticMS_8b_metadata.xml: 100%|██████████| 0.01k/0.01k [00:00<00:00, 5.87MB/s]\n"
     ]
    },
    {
     "name": "stdout",
     "output_type": "stream",
     "text": [
      "Downloaded output/ortho_analytic_8b_xml/20231206_172205_92_24ba_3B_AnalyticMS_8b_metadata.xml\n",
      "Error in downloading asset: asset missing [\"location\"] entry. Is asset active?\n"
     ]
    },
    {
     "name": "stderr",
     "output_type": "stream",
     "text": [
      "output/ortho_analytic_8b/20231204_171815_06_242b_3B_AnalyticMS_8b.tif: 100%|██████████| 881k/881k [00:15<00:00, 58.6MB/s] \n"
     ]
    },
    {
     "name": "stdout",
     "output_type": "stream",
     "text": [
      "Downloaded output/ortho_analytic_8b/20231204_171815_06_242b_3B_AnalyticMS_8b.tif\n"
     ]
    },
    {
     "name": "stderr",
     "output_type": "stream",
     "text": [
      "output/ortho_analytic_8b_xml/20231204_171815_06_242b_3B_AnalyticMS_8b_metadata.xml: 100%|██████████| 0.01k/0.01k [00:00<00:00, 1.66MB/s]\n"
     ]
    },
    {
     "name": "stdout",
     "output_type": "stream",
     "text": [
      "Downloaded output/ortho_analytic_8b_xml/20231204_171815_06_242b_3B_AnalyticMS_8b_metadata.xml\n",
      "Error in downloading asset: asset missing [\"location\"] entry. Is asset active?\n"
     ]
    },
    {
     "name": "stderr",
     "output_type": "stream",
     "text": [
      "output/ortho_analytic_8b/20231204_171817_05_242b_3B_AnalyticMS_8b.tif: 100%|██████████| 876k/876k [00:14<00:00, 61.5MB/s] \n"
     ]
    },
    {
     "name": "stdout",
     "output_type": "stream",
     "text": [
      "Downloaded output/ortho_analytic_8b/20231204_171817_05_242b_3B_AnalyticMS_8b.tif\n"
     ]
    },
    {
     "name": "stderr",
     "output_type": "stream",
     "text": [
      "output/ortho_analytic_8b_xml/20231204_171817_05_242b_3B_AnalyticMS_8b_metadata.xml: 100%|██████████| 0.01k/0.01k [00:00<00:00, 3.46MB/s]\n"
     ]
    },
    {
     "name": "stdout",
     "output_type": "stream",
     "text": [
      "Downloaded output/ortho_analytic_8b_xml/20231204_171817_05_242b_3B_AnalyticMS_8b_metadata.xml\n",
      "Error in downloading asset: asset missing [\"location\"] entry. Is asset active?\n"
     ]
    },
    {
     "name": "stderr",
     "output_type": "stream",
     "text": [
      "output/ortho_analytic_8b/20231203_180308_08_248b_3B_AnalyticMS_8b.tif: 100%|██████████| 950k/950k [00:13<00:00, 72.2MB/s] \n"
     ]
    },
    {
     "name": "stdout",
     "output_type": "stream",
     "text": [
      "Downloaded output/ortho_analytic_8b/20231203_180308_08_248b_3B_AnalyticMS_8b.tif\n"
     ]
    },
    {
     "name": "stderr",
     "output_type": "stream",
     "text": [
      "output/ortho_analytic_8b_xml/20231203_180308_08_248b_3B_AnalyticMS_8b_metadata.xml: 100%|██████████| 0.01k/0.01k [00:00<00:00, 2.01MB/s]\n"
     ]
    },
    {
     "name": "stdout",
     "output_type": "stream",
     "text": [
      "Downloaded output/ortho_analytic_8b_xml/20231203_180308_08_248b_3B_AnalyticMS_8b_metadata.xml\n",
      "Error in downloading asset: asset missing [\"location\"] entry. Is asset active?\n"
     ]
    },
    {
     "name": "stderr",
     "output_type": "stream",
     "text": [
      "output/ortho_analytic_8b/20231203_180310_13_248b_3B_AnalyticMS_8b.tif: 100%|██████████| 946k/946k [00:16<00:00, 60.7MB/s] \n"
     ]
    },
    {
     "name": "stdout",
     "output_type": "stream",
     "text": [
      "Downloaded output/ortho_analytic_8b/20231203_180310_13_248b_3B_AnalyticMS_8b.tif\n"
     ]
    },
    {
     "name": "stderr",
     "output_type": "stream",
     "text": [
      "output/ortho_analytic_8b_xml/20231203_180310_13_248b_3B_AnalyticMS_8b_metadata.xml: 100%|██████████| 0.01k/0.01k [00:00<00:00, 2.00MB/s]\n"
     ]
    },
    {
     "name": "stdout",
     "output_type": "stream",
     "text": [
      "Downloaded output/ortho_analytic_8b_xml/20231203_180310_13_248b_3B_AnalyticMS_8b_metadata.xml\n",
      "Error in downloading asset: asset missing [\"location\"] entry. Is asset active?\n"
     ]
    },
    {
     "name": "stderr",
     "output_type": "stream",
     "text": [
      "output/ortho_analytic_8b/20231202_172000_22_2459_3B_AnalyticMS_8b.tif: 100%|██████████| 880k/880k [00:15<00:00, 60.9MB/s] \n"
     ]
    },
    {
     "name": "stdout",
     "output_type": "stream",
     "text": [
      "Downloaded output/ortho_analytic_8b/20231202_172000_22_2459_3B_AnalyticMS_8b.tif\n"
     ]
    },
    {
     "name": "stderr",
     "output_type": "stream",
     "text": [
      "output/ortho_analytic_8b_xml/20231202_172000_22_2459_3B_AnalyticMS_8b_metadata.xml: 100%|██████████| 0.01k/0.01k [00:00<00:00, 3.07MB/s]\n"
     ]
    },
    {
     "name": "stdout",
     "output_type": "stream",
     "text": [
      "Downloaded output/ortho_analytic_8b_xml/20231202_172000_22_2459_3B_AnalyticMS_8b_metadata.xml\n",
      "Error in downloading asset: asset missing [\"location\"] entry. Is asset active?\n"
     ]
    },
    {
     "name": "stderr",
     "output_type": "stream",
     "text": [
      "output/ortho_analytic_8b/20231202_172002_22_2459_3B_AnalyticMS_8b.tif: 100%|██████████| 887k/887k [00:15<00:00, 58.7MB/s] \n"
     ]
    },
    {
     "name": "stdout",
     "output_type": "stream",
     "text": [
      "Downloaded output/ortho_analytic_8b/20231202_172002_22_2459_3B_AnalyticMS_8b.tif\n"
     ]
    },
    {
     "name": "stderr",
     "output_type": "stream",
     "text": [
      "output/ortho_analytic_8b_xml/20231202_172002_22_2459_3B_AnalyticMS_8b_metadata.xml: 100%|██████████| 0.01k/0.01k [00:00<00:00, 1.03MB/s]\n"
     ]
    },
    {
     "name": "stdout",
     "output_type": "stream",
     "text": [
      "Downloaded output/ortho_analytic_8b_xml/20231202_172002_22_2459_3B_AnalyticMS_8b_metadata.xml\n",
      "Error in downloading asset: asset missing [\"location\"] entry. Is asset active?\n"
     ]
    },
    {
     "name": "stderr",
     "output_type": "stream",
     "text": [
      "output/ortho_analytic_8b/20231202_172049_34_24a1_3B_AnalyticMS_8b.tif: 100%|██████████| 0.00M/0.00M [00:17<00:00, 62.1MB/s]\n"
     ]
    },
    {
     "name": "stdout",
     "output_type": "stream",
     "text": [
      "Downloaded output/ortho_analytic_8b/20231202_172049_34_24a1_3B_AnalyticMS_8b.tif\n"
     ]
    },
    {
     "name": "stderr",
     "output_type": "stream",
     "text": [
      "output/ortho_analytic_8b_xml/20231202_172049_34_24a1_3B_AnalyticMS_8b_metadata.xml: 100%|██████████| 0.01k/0.01k [00:00<00:00, 2.18MB/s]\n"
     ]
    },
    {
     "name": "stdout",
     "output_type": "stream",
     "text": [
      "Downloaded output/ortho_analytic_8b_xml/20231202_172049_34_24a1_3B_AnalyticMS_8b_metadata.xml\n",
      "Error in downloading asset: asset missing [\"location\"] entry. Is asset active?\n"
     ]
    },
    {
     "name": "stderr",
     "output_type": "stream",
     "text": [
      "output/ortho_analytic_8b/20231202_172051_52_24a1_3B_AnalyticMS_8b.tif: 100%|██████████| 0.00M/0.00M [00:20<00:00, 53.1MB/s]\n"
     ]
    },
    {
     "name": "stdout",
     "output_type": "stream",
     "text": [
      "Downloaded output/ortho_analytic_8b/20231202_172051_52_24a1_3B_AnalyticMS_8b.tif\n"
     ]
    },
    {
     "name": "stderr",
     "output_type": "stream",
     "text": [
      "output/ortho_analytic_8b_xml/20231202_172051_52_24a1_3B_AnalyticMS_8b_metadata.xml: 100%|██████████| 0.01k/0.01k [00:00<00:00, 1.31MB/s]\n"
     ]
    },
    {
     "name": "stdout",
     "output_type": "stream",
     "text": [
      "Downloaded output/ortho_analytic_8b_xml/20231202_172051_52_24a1_3B_AnalyticMS_8b_metadata.xml\n",
      "Error in downloading asset: asset missing [\"location\"] entry. Is asset active?\n"
     ]
    },
    {
     "name": "stderr",
     "output_type": "stream",
     "text": [
      "output/ortho_analytic_8b/20231201_180112_85_2483_3B_AnalyticMS_8b.tif: 100%|██████████| 918k/918k [00:20<00:00, 46.8MB/s] \n"
     ]
    },
    {
     "name": "stdout",
     "output_type": "stream",
     "text": [
      "Downloaded output/ortho_analytic_8b/20231201_180112_85_2483_3B_AnalyticMS_8b.tif\n"
     ]
    },
    {
     "name": "stderr",
     "output_type": "stream",
     "text": [
      "output/ortho_analytic_8b_xml/20231201_180112_85_2483_3B_AnalyticMS_8b_metadata.xml: 100%|██████████| 0.01k/0.01k [00:00<00:00, 2.38MB/s]\n"
     ]
    },
    {
     "name": "stdout",
     "output_type": "stream",
     "text": [
      "Downloaded output/ortho_analytic_8b_xml/20231201_180112_85_2483_3B_AnalyticMS_8b_metadata.xml\n",
      "Error in downloading asset: asset missing [\"location\"] entry. Is asset active?\n"
     ]
    },
    {
     "name": "stderr",
     "output_type": "stream",
     "text": [
      "output/ortho_analytic_8b/20231231_171559_56_242d_3B_AnalyticMS_8b.tif: 100%|██████████| 879k/879k [00:12<00:00, 72.2MB/s] \n"
     ]
    },
    {
     "name": "stdout",
     "output_type": "stream",
     "text": [
      "Downloaded output/ortho_analytic_8b/20231231_171559_56_242d_3B_AnalyticMS_8b.tif\n"
     ]
    },
    {
     "name": "stderr",
     "output_type": "stream",
     "text": [
      "output/ortho_analytic_8b_xml/20231231_171559_56_242d_3B_AnalyticMS_8b_metadata.xml: 100%|██████████| 0.01k/0.01k [00:00<00:00, 1.67MB/s]\n"
     ]
    },
    {
     "name": "stdout",
     "output_type": "stream",
     "text": [
      "Downloaded output/ortho_analytic_8b_xml/20231231_171559_56_242d_3B_AnalyticMS_8b_metadata.xml\n",
      "Error in downloading asset: asset missing [\"location\"] entry. Is asset active?\n"
     ]
    },
    {
     "name": "stderr",
     "output_type": "stream",
     "text": [
      "output/ortho_analytic_8b/20231231_171601_55_242d_3B_AnalyticMS_8b.tif: 100%|██████████| 873k/873k [00:14<00:00, 61.6MB/s] \n"
     ]
    },
    {
     "name": "stdout",
     "output_type": "stream",
     "text": [
      "Downloaded output/ortho_analytic_8b/20231231_171601_55_242d_3B_AnalyticMS_8b.tif\n"
     ]
    },
    {
     "name": "stderr",
     "output_type": "stream",
     "text": [
      "output/ortho_analytic_8b_xml/20231231_171601_55_242d_3B_AnalyticMS_8b_metadata.xml: 100%|██████████| 0.01k/0.01k [00:00<00:00, 1.83MB/s]\n"
     ]
    },
    {
     "name": "stdout",
     "output_type": "stream",
     "text": [
      "Downloaded output/ortho_analytic_8b_xml/20231231_171601_55_242d_3B_AnalyticMS_8b_metadata.xml\n",
      "Error in downloading asset: asset missing [\"location\"] entry. Is asset active?\n"
     ]
    },
    {
     "name": "stderr",
     "output_type": "stream",
     "text": [
      "output/ortho_analytic_8b/20231229_175536_41_2478_3B_AnalyticMS_8b.tif: 100%|██████████| 938k/938k [00:15<00:00, 64.3MB/s] \n"
     ]
    },
    {
     "name": "stdout",
     "output_type": "stream",
     "text": [
      "Downloaded output/ortho_analytic_8b/20231229_175536_41_2478_3B_AnalyticMS_8b.tif\n"
     ]
    },
    {
     "name": "stderr",
     "output_type": "stream",
     "text": [
      "output/ortho_analytic_8b_xml/20231229_175536_41_2478_3B_AnalyticMS_8b_metadata.xml: 100%|██████████| 0.01k/0.01k [00:00<00:00, 3.40MB/s]\n"
     ]
    },
    {
     "name": "stdout",
     "output_type": "stream",
     "text": [
      "Downloaded output/ortho_analytic_8b_xml/20231229_175536_41_2478_3B_AnalyticMS_8b_metadata.xml\n",
      "Error in downloading asset: asset missing [\"location\"] entry. Is asset active?\n"
     ]
    },
    {
     "name": "stderr",
     "output_type": "stream",
     "text": [
      "output/ortho_analytic_8b/20231229_175534_39_2478_3B_AnalyticMS_8b.tif: 100%|██████████| 935k/935k [00:16<00:00, 60.3MB/s] \n"
     ]
    },
    {
     "name": "stdout",
     "output_type": "stream",
     "text": [
      "Downloaded output/ortho_analytic_8b/20231229_175534_39_2478_3B_AnalyticMS_8b.tif\n"
     ]
    },
    {
     "name": "stderr",
     "output_type": "stream",
     "text": [
      "output/ortho_analytic_8b_xml/20231229_175534_39_2478_3B_AnalyticMS_8b_metadata.xml: 100%|██████████| 0.01k/0.01k [00:00<00:00, 1.70MB/s]\n"
     ]
    },
    {
     "name": "stdout",
     "output_type": "stream",
     "text": [
      "Downloaded output/ortho_analytic_8b_xml/20231229_175534_39_2478_3B_AnalyticMS_8b_metadata.xml\n",
      "Error in downloading asset: asset missing [\"location\"] entry. Is asset active?\n"
     ]
    },
    {
     "name": "stderr",
     "output_type": "stream",
     "text": [
      "output/ortho_analytic_8b/20231229_171454_75_2415_3B_AnalyticMS_8b.tif: 100%|██████████| 0.00M/0.00M [00:20<00:00, 52.3MB/s]\n"
     ]
    },
    {
     "name": "stdout",
     "output_type": "stream",
     "text": [
      "Downloaded output/ortho_analytic_8b/20231229_171454_75_2415_3B_AnalyticMS_8b.tif\n"
     ]
    },
    {
     "name": "stderr",
     "output_type": "stream",
     "text": [
      "output/ortho_analytic_8b_xml/20231229_171454_75_2415_3B_AnalyticMS_8b_metadata.xml: 100%|██████████| 0.01k/0.01k [00:00<00:00, 7.36MB/s]\n"
     ]
    },
    {
     "name": "stdout",
     "output_type": "stream",
     "text": [
      "Downloaded output/ortho_analytic_8b_xml/20231229_171454_75_2415_3B_AnalyticMS_8b_metadata.xml\n",
      "Error in downloading asset: asset missing [\"location\"] entry. Is asset active?\n"
     ]
    },
    {
     "name": "stderr",
     "output_type": "stream",
     "text": [
      "output/ortho_analytic_8b/20231229_171452_56_2415_3B_AnalyticMS_8b.tif: 100%|██████████| 0.00M/0.00M [00:20<00:00, 53.4MB/s]\n"
     ]
    },
    {
     "name": "stdout",
     "output_type": "stream",
     "text": [
      "Downloaded output/ortho_analytic_8b/20231229_171452_56_2415_3B_AnalyticMS_8b.tif\n"
     ]
    },
    {
     "name": "stderr",
     "output_type": "stream",
     "text": [
      "output/ortho_analytic_8b_xml/20231229_171452_56_2415_3B_AnalyticMS_8b_metadata.xml: 100%|██████████| 0.01k/0.01k [00:00<00:00, 2.50MB/s]\n"
     ]
    },
    {
     "name": "stdout",
     "output_type": "stream",
     "text": [
      "Downloaded output/ortho_analytic_8b_xml/20231229_171452_56_2415_3B_AnalyticMS_8b_metadata.xml\n",
      "Error in downloading asset: asset missing [\"location\"] entry. Is asset active?\n"
     ]
    },
    {
     "name": "stderr",
     "output_type": "stream",
     "text": [
      "output/ortho_analytic_8b/20231228_175937_83_249a_3B_AnalyticMS_8b.tif: 100%|██████████| 922k/922k [00:19<00:00, 50.1MB/s] \n"
     ]
    },
    {
     "name": "stdout",
     "output_type": "stream",
     "text": [
      "Downloaded output/ortho_analytic_8b/20231228_175937_83_249a_3B_AnalyticMS_8b.tif\n"
     ]
    },
    {
     "name": "stderr",
     "output_type": "stream",
     "text": [
      "output/ortho_analytic_8b_xml/20231228_175937_83_249a_3B_AnalyticMS_8b_metadata.xml: 100%|██████████| 0.01k/0.01k [00:00<00:00, 3.74MB/s]\n"
     ]
    },
    {
     "name": "stdout",
     "output_type": "stream",
     "text": [
      "Downloaded output/ortho_analytic_8b_xml/20231228_175937_83_249a_3B_AnalyticMS_8b_metadata.xml\n",
      "Error in downloading asset: asset missing [\"location\"] entry. Is asset active?\n"
     ]
    },
    {
     "name": "stderr",
     "output_type": "stream",
     "text": [
      "output/ortho_analytic_8b/20231228_175935_82_249a_3B_AnalyticMS_8b.tif: 100%|██████████| 928k/928k [00:18<00:00, 52.0MB/s] \n"
     ]
    },
    {
     "name": "stdout",
     "output_type": "stream",
     "text": [
      "Downloaded output/ortho_analytic_8b/20231228_175935_82_249a_3B_AnalyticMS_8b.tif\n"
     ]
    },
    {
     "name": "stderr",
     "output_type": "stream",
     "text": [
      "output/ortho_analytic_8b_xml/20231228_175935_82_249a_3B_AnalyticMS_8b_metadata.xml: 100%|██████████| 0.01k/0.01k [00:00<00:00, 1.46MB/s]\n"
     ]
    },
    {
     "name": "stdout",
     "output_type": "stream",
     "text": [
      "Downloaded output/ortho_analytic_8b_xml/20231228_175935_82_249a_3B_AnalyticMS_8b_metadata.xml\n",
      "Error in downloading asset: asset missing [\"location\"] entry. Is asset active?\n"
     ]
    },
    {
     "name": "stderr",
     "output_type": "stream",
     "text": [
      "output/ortho_analytic_8b/20231227_175731_81_2486_3B_AnalyticMS_8b.tif: 100%|██████████| 936k/936k [00:22<00:00, 44.5MB/s] \n"
     ]
    },
    {
     "name": "stdout",
     "output_type": "stream",
     "text": [
      "Downloaded output/ortho_analytic_8b/20231227_175731_81_2486_3B_AnalyticMS_8b.tif\n"
     ]
    },
    {
     "name": "stderr",
     "output_type": "stream",
     "text": [
      "output/ortho_analytic_8b_xml/20231227_175731_81_2486_3B_AnalyticMS_8b_metadata.xml: 100%|██████████| 0.01k/0.01k [00:00<00:00, 2.26MB/s]\n"
     ]
    },
    {
     "name": "stdout",
     "output_type": "stream",
     "text": [
      "Downloaded output/ortho_analytic_8b_xml/20231227_175731_81_2486_3B_AnalyticMS_8b_metadata.xml\n"
     ]
    },
    {
     "name": "stderr",
     "output_type": "stream",
     "text": [
      "output/ortho_visual/20231227_175731_81_2486_3B_Visual.tif: 100%|██████████| 214k/214k [00:04<00:00, 44.8MB/s] \n"
     ]
    },
    {
     "name": "stdout",
     "output_type": "stream",
     "text": [
      "Downloaded output/ortho_visual/20231227_175731_81_2486_3B_Visual.tif\n"
     ]
    },
    {
     "name": "stderr",
     "output_type": "stream",
     "text": [
      "output/ortho_analytic_8b/20231227_175733_83_2486_3B_AnalyticMS_8b.tif: 100%|██████████| 935k/935k [00:21<00:00, 45.2MB/s] \n"
     ]
    },
    {
     "name": "stdout",
     "output_type": "stream",
     "text": [
      "Downloaded output/ortho_analytic_8b/20231227_175733_83_2486_3B_AnalyticMS_8b.tif\n"
     ]
    },
    {
     "name": "stderr",
     "output_type": "stream",
     "text": [
      "output/ortho_analytic_8b_xml/20231227_175733_83_2486_3B_AnalyticMS_8b_metadata.xml: 100%|██████████| 0.01k/0.01k [00:00<00:00, 2.59MB/s]\n"
     ]
    },
    {
     "name": "stdout",
     "output_type": "stream",
     "text": [
      "Downloaded output/ortho_analytic_8b_xml/20231227_175733_83_2486_3B_AnalyticMS_8b_metadata.xml\n",
      "Error in downloading asset: asset missing [\"location\"] entry. Is asset active?\n"
     ]
    },
    {
     "name": "stderr",
     "output_type": "stream",
     "text": [
      "output/ortho_analytic_8b/20231226_175729_20_2470_3B_AnalyticMS_8b.tif: 100%|██████████| 895k/895k [00:15<00:00, 59.0MB/s] \n"
     ]
    },
    {
     "name": "stdout",
     "output_type": "stream",
     "text": [
      "Downloaded output/ortho_analytic_8b/20231226_175729_20_2470_3B_AnalyticMS_8b.tif\n"
     ]
    },
    {
     "name": "stderr",
     "output_type": "stream",
     "text": [
      "output/ortho_analytic_8b_xml/20231226_175729_20_2470_3B_AnalyticMS_8b_metadata.xml: 100%|██████████| 0.01k/0.01k [00:00<00:00, 4.09MB/s]\n"
     ]
    },
    {
     "name": "stdout",
     "output_type": "stream",
     "text": [
      "Downloaded output/ortho_analytic_8b_xml/20231226_175729_20_2470_3B_AnalyticMS_8b_metadata.xml\n",
      "Error in downloading asset: asset missing [\"location\"] entry. Is asset active?\n"
     ]
    },
    {
     "name": "stderr",
     "output_type": "stream",
     "text": [
      "output/ortho_analytic_8b/20231226_175731_22_2470_3B_AnalyticMS_8b.tif: 100%|██████████| 893k/893k [00:13<00:00, 71.2MB/s] \n"
     ]
    },
    {
     "name": "stdout",
     "output_type": "stream",
     "text": [
      "Downloaded output/ortho_analytic_8b/20231226_175731_22_2470_3B_AnalyticMS_8b.tif\n"
     ]
    },
    {
     "name": "stderr",
     "output_type": "stream",
     "text": [
      "output/ortho_analytic_8b_xml/20231226_175731_22_2470_3B_AnalyticMS_8b_metadata.xml: 100%|██████████| 0.01k/0.01k [00:00<00:00, 2.36MB/s]\n"
     ]
    },
    {
     "name": "stdout",
     "output_type": "stream",
     "text": [
      "Downloaded output/ortho_analytic_8b_xml/20231226_175731_22_2470_3B_AnalyticMS_8b_metadata.xml\n",
      "Error in downloading asset: asset missing [\"location\"] entry. Is asset active?\n"
     ]
    },
    {
     "name": "stderr",
     "output_type": "stream",
     "text": [
      "output/ortho_analytic_8b/20231226_175430_36_2446_3B_AnalyticMS_8b.tif: 100%|██████████| 909k/909k [00:16<00:00, 57.7MB/s] \n"
     ]
    },
    {
     "name": "stdout",
     "output_type": "stream",
     "text": [
      "Downloaded output/ortho_analytic_8b/20231226_175430_36_2446_3B_AnalyticMS_8b.tif\n"
     ]
    },
    {
     "name": "stderr",
     "output_type": "stream",
     "text": [
      "output/ortho_analytic_8b_xml/20231226_175430_36_2446_3B_AnalyticMS_8b_metadata.xml: 100%|██████████| 0.01k/0.01k [00:00<00:00, 2.10MB/s]\n"
     ]
    },
    {
     "name": "stdout",
     "output_type": "stream",
     "text": [
      "Downloaded output/ortho_analytic_8b_xml/20231226_175430_36_2446_3B_AnalyticMS_8b_metadata.xml\n",
      "Error in downloading asset: asset missing [\"location\"] entry. Is asset active?\n"
     ]
    },
    {
     "name": "stderr",
     "output_type": "stream",
     "text": [
      "output/ortho_analytic_8b/20231225_171201_45_24a7_3B_AnalyticMS_8b.tif: 100%|██████████| 0.00M/0.00M [00:19<00:00, 56.4MB/s]\n"
     ]
    },
    {
     "name": "stdout",
     "output_type": "stream",
     "text": [
      "Downloaded output/ortho_analytic_8b/20231225_171201_45_24a7_3B_AnalyticMS_8b.tif\n"
     ]
    },
    {
     "name": "stderr",
     "output_type": "stream",
     "text": [
      "output/ortho_analytic_8b_xml/20231225_171201_45_24a7_3B_AnalyticMS_8b_metadata.xml: 100%|██████████| 0.01k/0.01k [00:00<00:00, 2.07MB/s]\n"
     ]
    },
    {
     "name": "stdout",
     "output_type": "stream",
     "text": [
      "Downloaded output/ortho_analytic_8b_xml/20231225_171201_45_24a7_3B_AnalyticMS_8b_metadata.xml\n",
      "Error in downloading asset: asset missing [\"location\"] entry. Is asset active?\n"
     ]
    },
    {
     "name": "stderr",
     "output_type": "stream",
     "text": [
      "output/ortho_analytic_8b/20231225_171159_22_24a7_3B_AnalyticMS_8b.tif: 100%|██████████| 0.00M/0.00M [00:24<00:00, 44.4MB/s]\n"
     ]
    },
    {
     "name": "stdout",
     "output_type": "stream",
     "text": [
      "Downloaded output/ortho_analytic_8b/20231225_171159_22_24a7_3B_AnalyticMS_8b.tif\n"
     ]
    },
    {
     "name": "stderr",
     "output_type": "stream",
     "text": [
      "output/ortho_analytic_8b_xml/20231225_171159_22_24a7_3B_AnalyticMS_8b_metadata.xml: 100%|██████████| 0.01k/0.01k [00:00<00:00, 2.51MB/s]\n"
     ]
    },
    {
     "name": "stdout",
     "output_type": "stream",
     "text": [
      "Downloaded output/ortho_analytic_8b_xml/20231225_171159_22_24a7_3B_AnalyticMS_8b_metadata.xml\n",
      "Error in downloading asset: asset missing [\"location\"] entry. Is asset active?\n"
     ]
    },
    {
     "name": "stderr",
     "output_type": "stream",
     "text": [
      "output/ortho_analytic_8b/20231221_175243_89_248b_3B_AnalyticMS_8b.tif: 100%|██████████| 926k/926k [00:20<00:00, 47.1MB/s] \n"
     ]
    },
    {
     "name": "stdout",
     "output_type": "stream",
     "text": [
      "Downloaded output/ortho_analytic_8b/20231221_175243_89_248b_3B_AnalyticMS_8b.tif\n"
     ]
    },
    {
     "name": "stderr",
     "output_type": "stream",
     "text": [
      "output/ortho_analytic_8b_xml/20231221_175243_89_248b_3B_AnalyticMS_8b_metadata.xml: 100%|██████████| 0.01k/0.01k [00:00<00:00, 3.02MB/s]\n"
     ]
    },
    {
     "name": "stdout",
     "output_type": "stream",
     "text": [
      "Downloaded output/ortho_analytic_8b_xml/20231221_175243_89_248b_3B_AnalyticMS_8b_metadata.xml\n",
      "Error in downloading asset: asset missing [\"location\"] entry. Is asset active?\n"
     ]
    },
    {
     "name": "stderr",
     "output_type": "stream",
     "text": [
      "output/ortho_analytic_8b/20231221_175245_92_248b_3B_AnalyticMS_8b.tif: 100%|██████████| 918k/918k [00:21<00:00, 45.5MB/s] \n"
     ]
    },
    {
     "name": "stdout",
     "output_type": "stream",
     "text": [
      "Downloaded output/ortho_analytic_8b/20231221_175245_92_248b_3B_AnalyticMS_8b.tif\n"
     ]
    },
    {
     "name": "stderr",
     "output_type": "stream",
     "text": [
      "output/ortho_analytic_8b_xml/20231221_175245_92_248b_3B_AnalyticMS_8b_metadata.xml: 100%|██████████| 0.01k/0.01k [00:00<00:00, 1.81MB/s]\n"
     ]
    },
    {
     "name": "stdout",
     "output_type": "stream",
     "text": [
      "Downloaded output/ortho_analytic_8b_xml/20231221_175245_92_248b_3B_AnalyticMS_8b_metadata.xml\n",
      "Error in downloading asset: asset missing [\"location\"] entry. Is asset active?\n"
     ]
    },
    {
     "name": "stderr",
     "output_type": "stream",
     "text": [
      "output/ortho_analytic_8b/20231221_171018_20_242b_3B_AnalyticMS_8b.tif: 100%|██████████| 839k/839k [00:14<00:00, 62.6MB/s] \n"
     ]
    },
    {
     "name": "stdout",
     "output_type": "stream",
     "text": [
      "Downloaded output/ortho_analytic_8b/20231221_171018_20_242b_3B_AnalyticMS_8b.tif\n"
     ]
    },
    {
     "name": "stderr",
     "output_type": "stream",
     "text": [
      "output/ortho_analytic_8b_xml/20231221_171018_20_242b_3B_AnalyticMS_8b_metadata.xml: 100%|██████████| 0.01k/0.01k [00:00<00:00, 1.63MB/s]\n"
     ]
    },
    {
     "name": "stdout",
     "output_type": "stream",
     "text": [
      "Downloaded output/ortho_analytic_8b_xml/20231221_171018_20_242b_3B_AnalyticMS_8b_metadata.xml\n"
     ]
    }
   ],
   "source": [
    "import asyncio\n",
    "\n",
    "async def activate_asset(cl, item_type, item_id, asset_type, directory):\n",
    "    try:\n",
    "        # Get Asset\n",
    "        asset_desc = await cl.get_asset(item_type_id=item_type, item_id=item_id, asset_type_id=asset_type)\n",
    "        # Activate Asset\n",
    "        await cl.activate_asset(asset=asset_desc)\n",
    "        return (asset_desc, directory)\n",
    "    except Exception as e:\n",
    "        print(f\"Error in activating asset: {e}\")\n",
    "        return None\n",
    "\n",
    "async def download_asset(cl, asset_desc, directory):\n",
    "    try:\n",
    "        # Wait for Asset\n",
    "        await cl.wait_asset(asset=asset_desc)\n",
    "        # Download Asset\n",
    "        asset_path = await cl.download_asset(asset=asset_desc, directory=directory, overwrite=True)\n",
    "        print(f\"Downloaded {asset_path}\")\n",
    "    except KeyError:\n",
    "        print(\"Asset not active yet.\")\n",
    "    except Exception as e:\n",
    "        print(f\"Error in downloading asset: {e}\")\n",
    "\n",
    "async def main():\n",
    "    async with Session() as sess:\n",
    "\n",
    "        activation_tasks = []\n",
    "        for item_list in item_lists:\n",
    "            for item in item_list:\n",
    "                item_id = item['id']\n",
    "                item_type = item['properties']['item_type']\n",
    "                cl = sess.client('data')\n",
    "\n",
    "                # Define output directories\n",
    "                output_8b = 'output/ortho_analytic_8b'\n",
    "                output_8b_xml = 'output/ortho_analytic_8b_xml'\n",
    "                output_visual = 'output/ortho_visual'\n",
    "\n",
    "                # Start activating assets and store the future\n",
    "                activation_tasks.append(activate_asset(cl, item_type, item_id, 'ortho_analytic_8b', output_8b))\n",
    "                activation_tasks.append(activate_asset(cl, item_type, item_id, 'ortho_analytic_8b_xml', output_8b_xml))\n",
    "                activation_tasks.append(activate_asset(cl, item_type, item_id, 'ortho_visual', output_visual))\n",
    "\n",
    "        # Wait for all activations to complete\n",
    "        activated_assets = await asyncio.gather(*activation_tasks)\n",
    "\n",
    "        # Download assets\n",
    "        for asset_info in activated_assets:\n",
    "            if asset_info:\n",
    "                asset_desc, directory = asset_info\n",
    "                await download_asset(cl, asset_desc, directory)\n",
    "\n",
    "await main()"
   ]
  },
  {
   "cell_type": "code",
   "execution_count": null,
   "id": "c2d834be-ec56-417e-9b6b-45a9e991a695",
   "metadata": {},
   "outputs": [],
   "source": [
    "await main()"
   ]
  }
 ],
 "metadata": {
  "kernelspec": {
   "display_name": "Python 3 (ipykernel)",
   "language": "python",
   "name": "python3"
  },
  "language_info": {
   "codemirror_mode": {
    "name": "ipython",
    "version": 3
   },
   "file_extension": ".py",
   "mimetype": "text/x-python",
   "name": "python",
   "nbconvert_exporter": "python",
   "pygments_lexer": "ipython3",
   "version": "3.9.18"
  }
 },
 "nbformat": 4,
 "nbformat_minor": 5
}
