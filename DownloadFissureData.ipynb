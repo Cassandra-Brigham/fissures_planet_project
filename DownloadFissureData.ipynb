{
 "cells": [
  {
   "cell_type": "code",
   "execution_count": 25,
   "id": "b56c3a49-35a4-406e-a7be-28970151f4d4",
   "metadata": {
    "tags": []
   },
   "outputs": [],
   "source": [
    "from datetime import datetime\n",
    "import planet\n",
    "from planet import Auth\n",
    "from planet import Session, data_filter\n",
    "import json\n",
    "import time\n",
    "import os\n",
    "import asyncio\n",
    "\n",
    "# Helper function to print out JSON with proper indentation.\n",
    "def indent(data):\n",
    "    print(json.dumps(data, indent=2))"
   ]
  },
  {
   "cell_type": "code",
   "execution_count": 5,
   "id": "b559bd84-09b8-4332-abb9-243eb2d74260",
   "metadata": {
    "tags": []
   },
   "outputs": [],
   "source": [
    "# if your Planet API Key is not set as an environment variable, you can paste it below\n",
    "if 'PL_API_KEY' in os.environ:\n",
    "    API_KEY = os.environ['PL_API_KEY']\n",
    "else:\n",
    "    API_KEY = ''\n",
    "    os.environ['PL_API_KEY'] = API_KEY\n",
    "\n",
    "client = Auth.from_key(API_KEY)"
   ]
  },
  {
   "cell_type": "code",
   "execution_count": 8,
   "id": "32a71cc2-9366-4751-9278-46dfaaf44a3a",
   "metadata": {
    "tags": []
   },
   "outputs": [],
   "source": [
    "#Path to fissure study area GeoJSONs \n",
    "fissures_path=\"AZGS_shapefiles/gisdata/shapefiles/\"\n",
    "\n",
    "study_area=fissures_path+'study_area_epsg4326.geojson'\n",
    "\n",
    "#Load study areas\n",
    "with open(study_area, 'r') as f:\n",
    "    geojson_data = json.load(f)"
   ]
  },
  {
   "cell_type": "code",
   "execution_count": 10,
   "id": "63dc451c-4601-4600-9cb9-2c0b696970d6",
   "metadata": {
    "tags": []
   },
   "outputs": [],
   "source": [
    "#The third coordinate in the study area GeoJSONs needs to be removed to be read by the geometry filter, here's a function to that:\n",
    "def remove_third_element(coords):\n",
    "    return [coord[:2] for coord in coords]"
   ]
  },
  {
   "cell_type": "code",
   "execution_count": 11,
   "id": "434a5e1d-d2b7-4cfb-b077-f12da4e8eba4",
   "metadata": {
    "tags": []
   },
   "outputs": [],
   "source": [
    "# Apply this to all coordinates in the GeoJSON\n",
    "for feature in geojson_data['features']:\n",
    "    if feature['geometry']['type'] == 'Polygon':\n",
    "        feature['geometry']['coordinates'] = [remove_third_element(polygon) for polygon in feature['geometry']['coordinates']]\n",
    "    elif feature['geometry']['type'] == 'MultiPolygon':\n",
    "        feature['geometry']['coordinates'] = [[remove_third_element(polygon) for polygon in multipolygon] for multipolygon in feature['geometry']['coordinates']]\n",
    "\n",
    "geometries = [feature['geometry'] for feature in geojson_data['features']]"
   ]
  },
  {
   "cell_type": "code",
   "execution_count": 12,
   "id": "c3f7e709-d13d-42c6-9762-73efb0bab802",
   "metadata": {
    "tags": []
   },
   "outputs": [
    {
     "data": {
      "text/plain": [
       "{'type': 'MultiPolygon',\n",
       " 'coordinates': [[[[-112.126724075808, 33.04232301812071],\n",
       "    [-112.2405953979192, 33.04124254762971],\n",
       "    [-112.2414944364583, 33.10667881656496],\n",
       "    [-112.1791220177617, 33.10728457153469],\n",
       "    [-112.1471345511401, 33.1348052168475],\n",
       "    [-112.1279065652451, 33.13498079831125],\n",
       "    [-112.1275586350043, 33.10776177632491],\n",
       "    [-112.126724075808, 33.04232301812071]]]]}"
      ]
     },
     "execution_count": 12,
     "metadata": {},
     "output_type": "execute_result"
    }
   ],
   "source": [
    "feature['geometry']"
   ]
  },
  {
   "cell_type": "code",
   "execution_count": 19,
   "id": "d0d0bf39-a26e-4c3d-b7e5-96710f377e26",
   "metadata": {
    "tags": []
   },
   "outputs": [
    {
     "data": {
      "text/plain": [
       "{'Landsat8L1G',\n",
       " 'MOD09GA',\n",
       " 'MOD09GQ',\n",
       " 'MYD09GA',\n",
       " 'MYD09GQ',\n",
       " 'PSOrthoTile',\n",
       " 'PSScene',\n",
       " 'REOrthoTile',\n",
       " 'REScene',\n",
       " 'Sentinel1',\n",
       " 'Sentinel2L1C',\n",
       " 'SkySatCollect',\n",
       " 'SkySatScene'}"
      ]
     },
     "execution_count": 19,
     "metadata": {},
     "output_type": "execute_result"
    }
   ],
   "source": [
    "#Possible item types\n",
    "planet.specs.get_item_types()"
   ]
  },
  {
   "cell_type": "code",
   "execution_count": 27,
   "id": "a146b431-15d3-4cc8-9eee-5fddb44ae350",
   "metadata": {
    "tags": []
   },
   "outputs": [],
   "source": [
    "# Define the filters we'll use to find our data\n",
    "\n",
    "item_types = [\"PSScene\"]# look up SkySat code, make separate search for all\n",
    "\n",
    "#Geometry filter\n",
    "geom_filters = [data_filter.geometry_filter(geom) for geom in geometries]\n",
    "\n",
    "#Percentage clear pixel filter - not super sure how that's different to cloud cover?\n",
    "clear_percent_filter = data_filter.range_filter('clear_percent', 95)\n",
    "\n",
    "#date filter\n",
    "date_range_filter = data_filter.date_range_filter(\"acquired\", gt = datetime(month=12, day=1, year=2023),lte = datetime(month=1, day=1, year=2024))\n",
    "\n",
    "#cloud cover filter\n",
    "cloud_cover_filter = data_filter.range_filter('cloud_cover', None, 0.05)\n",
    "\n",
    "#Combine the filters into one filter\n",
    "combined_filters = [data_filter.and_filter([geom_filter, clear_percent_filter, date_range_filter, cloud_cover_filter]) for geom_filter in geom_filters]"
   ]
  },
  {
   "cell_type": "code",
   "execution_count": 28,
   "id": "e12897dc-eb3b-4187-9500-31cb5add7734",
   "metadata": {
    "tags": []
   },
   "outputs": [],
   "source": [
    "# Build the requests asynchronously\n",
    "async with Session() as sess:\n",
    "    cl = sess.client('data')\n",
    "    requests = [await cl.create_search(name='dec_23_all_fissure_areas',search_filter=combined_filter, item_types=item_types) for combined_filter in combined_filters]"
   ]
  },
  {
   "cell_type": "code",
   "execution_count": 29,
   "id": "81016005-5814-438d-948b-c38097683113",
   "metadata": {
    "tags": []
   },
   "outputs": [
    {
     "data": {
      "text/plain": [
       "26"
      ]
     },
     "execution_count": 29,
     "metadata": {},
     "output_type": "execute_result"
    }
   ],
   "source": [
    "len(requests)"
   ]
  },
  {
   "cell_type": "code",
   "execution_count": 30,
   "id": "a5dc5dff-13a0-447e-b64f-de5cf43d2690",
   "metadata": {
    "tags": []
   },
   "outputs": [],
   "source": [
    "# Search the Data API\n",
    "\n",
    "# The limit paramter allows us to limit the number of results from our search that are returned.\n",
    "# The default limit is 100. Here, we're setting our result limit to 50.\n",
    "async with Session() as sess:\n",
    "    item_lists=[]\n",
    "    for a in requests:\n",
    "        cl = sess.client('data')\n",
    "        request = a\n",
    "        items = cl.run_search(search_id=request['id'], limit=50)\n",
    "        item_list = [i async for i in items]\n",
    "        item_lists.append(item_list)"
   ]
  },
  {
   "cell_type": "code",
   "execution_count": 264,
   "id": "bbff6e38-7647-488f-b062-5519417e2cf4",
   "metadata": {
    "tags": []
   },
   "outputs": [],
   "source": [
    "# Save JSONs with search results if wanted\n",
    "for a in range(0,len(item_lists)):\n",
    "    with open(f'output/results_itemlist{a}.json','w') as f:\n",
    "        jsonStr = json.dumps(item_list)\n",
    "        f.write(jsonStr)\n",
    "        f.close()"
   ]
  },
  {
   "cell_type": "code",
   "execution_count": null,
   "id": "0fac6a14-6a16-44f1-80e7-0353cca25700",
   "metadata": {
    "tags": []
   },
   "outputs": [
    {
     "name": "stderr",
     "output_type": "stream",
     "text": [
      "output/ortho_analytic_8b/20231231_172605_15_2458_3B_AnalyticMS_8b.tif: 100%|██████████| 856k/856k [00:14<00:00, 59.9MB/s] \n"
     ]
    },
    {
     "name": "stdout",
     "output_type": "stream",
     "text": [
      "Downloaded output/ortho_analytic_8b/20231231_172605_15_2458_3B_AnalyticMS_8b.tif\n"
     ]
    },
    {
     "name": "stderr",
     "output_type": "stream",
     "text": [
      "output/ortho_analytic_8b_xml/20231231_172605_15_2458_3B_AnalyticMS_8b_metadata.xml: 100%|██████████| 0.01k/0.01k [00:00<00:00, 1.64MB/s]\n"
     ]
    },
    {
     "name": "stdout",
     "output_type": "stream",
     "text": [
      "Downloaded output/ortho_analytic_8b_xml/20231231_172605_15_2458_3B_AnalyticMS_8b_metadata.xml\n"
     ]
    },
    {
     "name": "stderr",
     "output_type": "stream",
     "text": [
      "output/ortho_visual/20231231_172605_15_2458_3B_Visual.tif: 100%|██████████| 180k/180k [00:04<00:00, 43.3MB/s] \n"
     ]
    },
    {
     "name": "stdout",
     "output_type": "stream",
     "text": [
      "Downloaded output/ortho_visual/20231231_172605_15_2458_3B_Visual.tif\n"
     ]
    },
    {
     "name": "stderr",
     "output_type": "stream",
     "text": [
      "output/ortho_analytic_8b/20231231_172607_12_2458_3B_AnalyticMS_8b.tif: 100%|██████████| 844k/844k [00:16<00:00, 52.6MB/s] \n"
     ]
    },
    {
     "name": "stdout",
     "output_type": "stream",
     "text": [
      "Downloaded output/ortho_analytic_8b/20231231_172607_12_2458_3B_AnalyticMS_8b.tif\n"
     ]
    },
    {
     "name": "stderr",
     "output_type": "stream",
     "text": [
      "output/ortho_analytic_8b_xml/20231231_172607_12_2458_3B_AnalyticMS_8b_metadata.xml: 100%|██████████| 0.01k/0.01k [00:00<00:00, 1.12MB/s]\n"
     ]
    },
    {
     "name": "stdout",
     "output_type": "stream",
     "text": [
      "Downloaded output/ortho_analytic_8b_xml/20231231_172607_12_2458_3B_AnalyticMS_8b_metadata.xml\n"
     ]
    },
    {
     "name": "stderr",
     "output_type": "stream",
     "text": [
      "output/ortho_visual/20231231_172607_12_2458_3B_Visual.tif: 100%|██████████| 179k/179k [00:03<00:00, 57.6MB/s] \n"
     ]
    },
    {
     "name": "stdout",
     "output_type": "stream",
     "text": [
      "Downloaded output/ortho_visual/20231231_172607_12_2458_3B_Visual.tif\n"
     ]
    },
    {
     "name": "stderr",
     "output_type": "stream",
     "text": [
      "output/ortho_analytic_8b/20231230_172041_62_24a1_3B_AnalyticMS_8b.tif: 100%|██████████| 0.00M/0.00M [00:18<00:00, 61.4MB/s]\n"
     ]
    },
    {
     "name": "stdout",
     "output_type": "stream",
     "text": [
      "Downloaded output/ortho_analytic_8b/20231230_172041_62_24a1_3B_AnalyticMS_8b.tif\n"
     ]
    },
    {
     "name": "stderr",
     "output_type": "stream",
     "text": [
      "output/ortho_analytic_8b_xml/20231230_172041_62_24a1_3B_AnalyticMS_8b_metadata.xml: 100%|██████████| 0.01k/0.01k [00:00<00:00, 1.14MB/s]\n"
     ]
    },
    {
     "name": "stdout",
     "output_type": "stream",
     "text": [
      "Downloaded output/ortho_analytic_8b_xml/20231230_172041_62_24a1_3B_AnalyticMS_8b_metadata.xml\n"
     ]
    },
    {
     "name": "stderr",
     "output_type": "stream",
     "text": [
      "output/ortho_visual/20231230_172041_62_24a1_3B_Visual.tif: 100%|██████████| 249k/249k [00:04<00:00, 60.4MB/s] \n"
     ]
    },
    {
     "name": "stdout",
     "output_type": "stream",
     "text": [
      "Downloaded output/ortho_visual/20231230_172041_62_24a1_3B_Visual.tif\n"
     ]
    },
    {
     "name": "stderr",
     "output_type": "stream",
     "text": [
      "output/ortho_analytic_8b/20231230_172043_85_24a1_3B_AnalyticMS_8b.tif: 100%|██████████| 0.00M/0.00M [00:18<00:00, 59.6MB/s]\n"
     ]
    },
    {
     "name": "stdout",
     "output_type": "stream",
     "text": [
      "Downloaded output/ortho_analytic_8b/20231230_172043_85_24a1_3B_AnalyticMS_8b.tif\n"
     ]
    },
    {
     "name": "stderr",
     "output_type": "stream",
     "text": [
      "output/ortho_analytic_8b_xml/20231230_172043_85_24a1_3B_AnalyticMS_8b_metadata.xml: 100%|██████████| 0.01k/0.01k [00:00<00:00, 1.15MB/s]\n"
     ]
    },
    {
     "name": "stdout",
     "output_type": "stream",
     "text": [
      "Downloaded output/ortho_analytic_8b_xml/20231230_172043_85_24a1_3B_AnalyticMS_8b_metadata.xml\n"
     ]
    },
    {
     "name": "stderr",
     "output_type": "stream",
     "text": [
      "output/ortho_visual/20231230_172043_85_24a1_3B_Visual.tif: 100%|██████████| 249k/249k [00:04<00:00, 60.9MB/s] \n"
     ]
    },
    {
     "name": "stdout",
     "output_type": "stream",
     "text": [
      "Downloaded output/ortho_visual/20231230_172043_85_24a1_3B_Visual.tif\n"
     ]
    },
    {
     "name": "stderr",
     "output_type": "stream",
     "text": [
      "output/ortho_analytic_8b/20231229_180633_12_2477_3B_AnalyticMS_8b.tif: 100%|██████████| 936k/936k [00:16<00:00, 58.3MB/s] \n"
     ]
    },
    {
     "name": "stdout",
     "output_type": "stream",
     "text": [
      "Downloaded output/ortho_analytic_8b/20231229_180633_12_2477_3B_AnalyticMS_8b.tif\n"
     ]
    },
    {
     "name": "stderr",
     "output_type": "stream",
     "text": [
      "output/ortho_analytic_8b_xml/20231229_180633_12_2477_3B_AnalyticMS_8b_metadata.xml: 100%|██████████| 0.01k/0.01k [00:00<00:00, 2.88MB/s]\n"
     ]
    },
    {
     "name": "stdout",
     "output_type": "stream",
     "text": [
      "Downloaded output/ortho_analytic_8b_xml/20231229_180633_12_2477_3B_AnalyticMS_8b_metadata.xml\n"
     ]
    },
    {
     "name": "stderr",
     "output_type": "stream",
     "text": [
      "output/ortho_visual/20231229_180633_12_2477_3B_Visual.tif: 100%|██████████| 212k/212k [00:03<00:00, 62.3MB/s] \n"
     ]
    },
    {
     "name": "stdout",
     "output_type": "stream",
     "text": [
      "Downloaded output/ortho_visual/20231229_180633_12_2477_3B_Visual.tif\n"
     ]
    },
    {
     "name": "stderr",
     "output_type": "stream",
     "text": [
      "output/ortho_analytic_8b/20231229_180631_09_2477_3B_AnalyticMS_8b.tif: 100%|██████████| 947k/947k [00:16<00:00, 59.1MB/s] \n"
     ]
    },
    {
     "name": "stdout",
     "output_type": "stream",
     "text": [
      "Downloaded output/ortho_analytic_8b/20231229_180631_09_2477_3B_AnalyticMS_8b.tif\n"
     ]
    },
    {
     "name": "stderr",
     "output_type": "stream",
     "text": [
      "output/ortho_analytic_8b_xml/20231229_180631_09_2477_3B_AnalyticMS_8b_metadata.xml: 100%|██████████| 0.01k/0.01k [00:00<00:00, 4.34MB/s]\n"
     ]
    },
    {
     "name": "stdout",
     "output_type": "stream",
     "text": [
      "Downloaded output/ortho_analytic_8b_xml/20231229_180631_09_2477_3B_AnalyticMS_8b_metadata.xml\n"
     ]
    },
    {
     "name": "stderr",
     "output_type": "stream",
     "text": [
      "output/ortho_visual/20231229_180631_09_2477_3B_Visual.tif: 100%|██████████| 210k/210k [00:03<00:00, 60.5MB/s] \n"
     ]
    },
    {
     "name": "stdout",
     "output_type": "stream",
     "text": [
      "Downloaded output/ortho_visual/20231229_180631_09_2477_3B_Visual.tif\n"
     ]
    },
    {
     "name": "stderr",
     "output_type": "stream",
     "text": [
      "output/ortho_analytic_8b/20231229_172039_11_2447_3B_AnalyticMS_8b.tif: 100%|██████████| 860k/860k [00:15<00:00, 59.1MB/s] \n"
     ]
    },
    {
     "name": "stdout",
     "output_type": "stream",
     "text": [
      "Downloaded output/ortho_analytic_8b/20231229_172039_11_2447_3B_AnalyticMS_8b.tif\n"
     ]
    },
    {
     "name": "stderr",
     "output_type": "stream",
     "text": [
      "output/ortho_analytic_8b_xml/20231229_172039_11_2447_3B_AnalyticMS_8b_metadata.xml: 100%|██████████| 0.01k/0.01k [00:00<00:00, 2.48MB/s]\n"
     ]
    },
    {
     "name": "stdout",
     "output_type": "stream",
     "text": [
      "Downloaded output/ortho_analytic_8b_xml/20231229_172039_11_2447_3B_AnalyticMS_8b_metadata.xml\n"
     ]
    },
    {
     "name": "stderr",
     "output_type": "stream",
     "text": [
      "output/ortho_visual/20231229_172039_11_2447_3B_Visual.tif: 100%|██████████| 186k/186k [00:03<00:00, 64.2MB/s] \n"
     ]
    },
    {
     "name": "stdout",
     "output_type": "stream",
     "text": [
      "Downloaded output/ortho_visual/20231229_172039_11_2447_3B_Visual.tif\n"
     ]
    },
    {
     "name": "stderr",
     "output_type": "stream",
     "text": [
      "output/ortho_analytic_8b/20231229_172037_14_2447_3B_AnalyticMS_8b.tif: 100%|██████████| 868k/868k [00:14<00:00, 62.4MB/s] \n"
     ]
    },
    {
     "name": "stdout",
     "output_type": "stream",
     "text": [
      "Downloaded output/ortho_analytic_8b/20231229_172037_14_2447_3B_AnalyticMS_8b.tif\n"
     ]
    },
    {
     "name": "stderr",
     "output_type": "stream",
     "text": [
      "output/ortho_analytic_8b_xml/20231229_172037_14_2447_3B_AnalyticMS_8b_metadata.xml: 100%|██████████| 0.01k/0.01k [00:00<00:00, 3.45MB/s]\n"
     ]
    },
    {
     "name": "stdout",
     "output_type": "stream",
     "text": [
      "Downloaded output/ortho_analytic_8b_xml/20231229_172037_14_2447_3B_AnalyticMS_8b_metadata.xml\n"
     ]
    },
    {
     "name": "stderr",
     "output_type": "stream",
     "text": [
      "output/ortho_visual/20231229_172037_14_2447_3B_Visual.tif: 100%|██████████| 190k/190k [00:03<00:00, 58.1MB/s] \n"
     ]
    },
    {
     "name": "stdout",
     "output_type": "stream",
     "text": [
      "Downloaded output/ortho_visual/20231229_172037_14_2447_3B_Visual.tif\n"
     ]
    },
    {
     "name": "stderr",
     "output_type": "stream",
     "text": [
      "output/ortho_analytic_8b/20231229_180520_74_248c_3B_AnalyticMS_8b.tif: 100%|██████████| 951k/951k [00:15<00:00, 62.6MB/s] \n"
     ]
    },
    {
     "name": "stdout",
     "output_type": "stream",
     "text": [
      "Downloaded output/ortho_analytic_8b/20231229_180520_74_248c_3B_AnalyticMS_8b.tif\n"
     ]
    },
    {
     "name": "stderr",
     "output_type": "stream",
     "text": [
      "output/ortho_analytic_8b_xml/20231229_180520_74_248c_3B_AnalyticMS_8b_metadata.xml: 100%|██████████| 0.01k/0.01k [00:00<00:00, 2.34MB/s]\n"
     ]
    },
    {
     "name": "stdout",
     "output_type": "stream",
     "text": [
      "Downloaded output/ortho_analytic_8b_xml/20231229_180520_74_248c_3B_AnalyticMS_8b_metadata.xml\n"
     ]
    },
    {
     "name": "stderr",
     "output_type": "stream",
     "text": [
      "output/ortho_visual/20231229_180520_74_248c_3B_Visual.tif: 100%|██████████| 216k/216k [00:04<00:00, 50.3MB/s] \n"
     ]
    },
    {
     "name": "stdout",
     "output_type": "stream",
     "text": [
      "Downloaded output/ortho_visual/20231229_180520_74_248c_3B_Visual.tif\n"
     ]
    },
    {
     "name": "stderr",
     "output_type": "stream",
     "text": [
      "output/ortho_analytic_8b/20231229_180522_75_248c_3B_AnalyticMS_8b.tif: 100%|██████████| 928k/928k [00:15<00:00, 60.9MB/s] \n"
     ]
    },
    {
     "name": "stdout",
     "output_type": "stream",
     "text": [
      "Downloaded output/ortho_analytic_8b/20231229_180522_75_248c_3B_AnalyticMS_8b.tif\n"
     ]
    },
    {
     "name": "stderr",
     "output_type": "stream",
     "text": [
      "output/ortho_analytic_8b_xml/20231229_180522_75_248c_3B_AnalyticMS_8b_metadata.xml: 100%|██████████| 0.01k/0.01k [00:00<00:00, 2.77MB/s]\n"
     ]
    },
    {
     "name": "stdout",
     "output_type": "stream",
     "text": [
      "Downloaded output/ortho_analytic_8b_xml/20231229_180522_75_248c_3B_AnalyticMS_8b_metadata.xml\n"
     ]
    },
    {
     "name": "stderr",
     "output_type": "stream",
     "text": [
      "output/ortho_visual/20231229_180522_75_248c_3B_Visual.tif: 100%|██████████| 217k/217k [00:03<00:00, 61.3MB/s] \n"
     ]
    },
    {
     "name": "stdout",
     "output_type": "stream",
     "text": [
      "Downloaded output/ortho_visual/20231229_180522_75_248c_3B_Visual.tif\n"
     ]
    },
    {
     "name": "stderr",
     "output_type": "stream",
     "text": [
      "output/ortho_analytic_8b/20231228_172314_98_2439_3B_AnalyticMS_8b.tif: 100%|██████████| 861k/861k [00:14<00:00, 61.0MB/s] \n"
     ]
    },
    {
     "name": "stdout",
     "output_type": "stream",
     "text": [
      "Downloaded output/ortho_analytic_8b/20231228_172314_98_2439_3B_AnalyticMS_8b.tif\n"
     ]
    },
    {
     "name": "stderr",
     "output_type": "stream",
     "text": [
      "output/ortho_analytic_8b_xml/20231228_172314_98_2439_3B_AnalyticMS_8b_metadata.xml: 100%|██████████| 0.01k/0.01k [00:00<00:00, 1.68MB/s]\n"
     ]
    },
    {
     "name": "stdout",
     "output_type": "stream",
     "text": [
      "Downloaded output/ortho_analytic_8b_xml/20231228_172314_98_2439_3B_AnalyticMS_8b_metadata.xml\n"
     ]
    },
    {
     "name": "stderr",
     "output_type": "stream",
     "text": [
      "output/ortho_visual/20231228_172314_98_2439_3B_Visual.tif: 100%|██████████| 188k/188k [00:03<00:00, 63.4MB/s] \n"
     ]
    },
    {
     "name": "stdout",
     "output_type": "stream",
     "text": [
      "Downloaded output/ortho_visual/20231228_172314_98_2439_3B_Visual.tif\n"
     ]
    },
    {
     "name": "stderr",
     "output_type": "stream",
     "text": [
      "output/ortho_analytic_8b/20231228_172316_96_2439_3B_AnalyticMS_8b.tif: 100%|██████████| 852k/852k [00:15<00:00, 57.2MB/s] \n"
     ]
    },
    {
     "name": "stdout",
     "output_type": "stream",
     "text": [
      "Downloaded output/ortho_analytic_8b/20231228_172316_96_2439_3B_AnalyticMS_8b.tif\n"
     ]
    },
    {
     "name": "stderr",
     "output_type": "stream",
     "text": [
      "output/ortho_analytic_8b_xml/20231228_172316_96_2439_3B_AnalyticMS_8b_metadata.xml: 100%|██████████| 0.01k/0.01k [00:00<00:00, 2.54MB/s]\n"
     ]
    },
    {
     "name": "stdout",
     "output_type": "stream",
     "text": [
      "Downloaded output/ortho_analytic_8b_xml/20231228_172316_96_2439_3B_AnalyticMS_8b_metadata.xml\n"
     ]
    },
    {
     "name": "stderr",
     "output_type": "stream",
     "text": [
      "output/ortho_visual/20231228_172316_96_2439_3B_Visual.tif: 100%|██████████| 190k/190k [00:03<00:00, 56.6MB/s] \n"
     ]
    },
    {
     "name": "stdout",
     "output_type": "stream",
     "text": [
      "Downloaded output/ortho_visual/20231228_172316_96_2439_3B_Visual.tif\n"
     ]
    },
    {
     "name": "stderr",
     "output_type": "stream",
     "text": [
      "output/ortho_analytic_8b/20231227_172153_54_24ce_3B_AnalyticMS_8b.tif: 100%|██████████| 0.00M/0.00M [00:18<00:00, 60.1MB/s]\n"
     ]
    },
    {
     "name": "stdout",
     "output_type": "stream",
     "text": [
      "Downloaded output/ortho_analytic_8b/20231227_172153_54_24ce_3B_AnalyticMS_8b.tif\n"
     ]
    },
    {
     "name": "stderr",
     "output_type": "stream",
     "text": [
      "output/ortho_analytic_8b_xml/20231227_172153_54_24ce_3B_AnalyticMS_8b_metadata.xml: 100%|██████████| 0.01k/0.01k [00:00<00:00, 1.44MB/s]\n"
     ]
    },
    {
     "name": "stdout",
     "output_type": "stream",
     "text": [
      "Downloaded output/ortho_analytic_8b_xml/20231227_172153_54_24ce_3B_AnalyticMS_8b_metadata.xml\n"
     ]
    },
    {
     "name": "stderr",
     "output_type": "stream",
     "text": [
      "output/ortho_visual/20231227_172153_54_24ce_3B_Visual.tif: 100%|██████████| 250k/250k [00:04<00:00, 58.4MB/s] \n"
     ]
    },
    {
     "name": "stdout",
     "output_type": "stream",
     "text": [
      "Downloaded output/ortho_visual/20231227_172153_54_24ce_3B_Visual.tif\n"
     ]
    },
    {
     "name": "stderr",
     "output_type": "stream",
     "text": [
      "output/ortho_analytic_8b/20231226_180247_90_2490_3B_AnalyticMS_8b.tif: 100%|██████████| 904k/904k [00:16<00:00, 56.0MB/s] \n"
     ]
    },
    {
     "name": "stdout",
     "output_type": "stream",
     "text": [
      "Downloaded output/ortho_analytic_8b/20231226_180247_90_2490_3B_AnalyticMS_8b.tif\n"
     ]
    },
    {
     "name": "stderr",
     "output_type": "stream",
     "text": [
      "output/ortho_analytic_8b_xml/20231226_180247_90_2490_3B_AnalyticMS_8b_metadata.xml: 100%|██████████| 0.01k/0.01k [00:00<00:00, 2.90MB/s]\n"
     ]
    },
    {
     "name": "stdout",
     "output_type": "stream",
     "text": [
      "Downloaded output/ortho_analytic_8b_xml/20231226_180247_90_2490_3B_AnalyticMS_8b_metadata.xml\n"
     ]
    },
    {
     "name": "stderr",
     "output_type": "stream",
     "text": [
      "output/ortho_visual/20231226_180247_90_2490_3B_Visual.tif: 100%|██████████| 202k/202k [00:03<00:00, 60.5MB/s] \n"
     ]
    },
    {
     "name": "stdout",
     "output_type": "stream",
     "text": [
      "Downloaded output/ortho_visual/20231226_180247_90_2490_3B_Visual.tif\n"
     ]
    },
    {
     "name": "stderr",
     "output_type": "stream",
     "text": [
      "output/ortho_analytic_8b/20231226_180245_87_2490_3B_AnalyticMS_8b.tif: 100%|██████████| 916k/916k [00:16<00:00, 57.5MB/s] \n"
     ]
    },
    {
     "name": "stdout",
     "output_type": "stream",
     "text": [
      "Downloaded output/ortho_analytic_8b/20231226_180245_87_2490_3B_AnalyticMS_8b.tif\n"
     ]
    },
    {
     "name": "stderr",
     "output_type": "stream",
     "text": [
      "output/ortho_analytic_8b_xml/20231226_180245_87_2490_3B_AnalyticMS_8b_metadata.xml: 100%|██████████| 0.01k/0.01k [00:00<00:00, 3.10MB/s]\n"
     ]
    },
    {
     "name": "stdout",
     "output_type": "stream",
     "text": [
      "Downloaded output/ortho_analytic_8b_xml/20231226_180245_87_2490_3B_AnalyticMS_8b_metadata.xml\n"
     ]
    },
    {
     "name": "stderr",
     "output_type": "stream",
     "text": [
      "output/ortho_visual/20231226_180245_87_2490_3B_Visual.tif: 100%|██████████| 206k/206k [00:03<00:00, 64.2MB/s] \n"
     ]
    },
    {
     "name": "stdout",
     "output_type": "stream",
     "text": [
      "Downloaded output/ortho_visual/20231226_180245_87_2490_3B_Visual.tif\n"
     ]
    },
    {
     "name": "stderr",
     "output_type": "stream",
     "text": [
      "output/ortho_analytic_8b/20231225_180242_04_2461_3B_AnalyticMS_8b.tif: 100%|██████████| 896k/896k [00:16<00:00, 58.4MB/s] \n"
     ]
    },
    {
     "name": "stdout",
     "output_type": "stream",
     "text": [
      "Downloaded output/ortho_analytic_8b/20231225_180242_04_2461_3B_AnalyticMS_8b.tif\n"
     ]
    },
    {
     "name": "stderr",
     "output_type": "stream",
     "text": [
      "output/ortho_analytic_8b_xml/20231225_180242_04_2461_3B_AnalyticMS_8b_metadata.xml: 100%|██████████| 0.01k/0.01k [00:00<00:00, 3.46MB/s]\n"
     ]
    },
    {
     "name": "stdout",
     "output_type": "stream",
     "text": [
      "Downloaded output/ortho_analytic_8b_xml/20231225_180242_04_2461_3B_AnalyticMS_8b_metadata.xml\n"
     ]
    },
    {
     "name": "stderr",
     "output_type": "stream",
     "text": [
      "output/ortho_visual/20231225_180242_04_2461_3B_Visual.tif: 100%|██████████| 205k/205k [00:03<00:00, 65.2MB/s] \n"
     ]
    },
    {
     "name": "stdout",
     "output_type": "stream",
     "text": [
      "Downloaded output/ortho_visual/20231225_180242_04_2461_3B_Visual.tif\n"
     ]
    },
    {
     "name": "stderr",
     "output_type": "stream",
     "text": [
      "output/ortho_analytic_8b/20231225_180240_02_2461_3B_AnalyticMS_8b.tif: 100%|██████████| 916k/916k [00:16<00:00, 58.4MB/s] \n"
     ]
    },
    {
     "name": "stdout",
     "output_type": "stream",
     "text": [
      "Downloaded output/ortho_analytic_8b/20231225_180240_02_2461_3B_AnalyticMS_8b.tif\n"
     ]
    },
    {
     "name": "stderr",
     "output_type": "stream",
     "text": [
      "output/ortho_analytic_8b_xml/20231225_180240_02_2461_3B_AnalyticMS_8b_metadata.xml: 100%|██████████| 0.01k/0.01k [00:00<00:00, 3.45MB/s]\n"
     ]
    },
    {
     "name": "stdout",
     "output_type": "stream",
     "text": [
      "Downloaded output/ortho_analytic_8b_xml/20231225_180240_02_2461_3B_AnalyticMS_8b_metadata.xml\n"
     ]
    },
    {
     "name": "stderr",
     "output_type": "stream",
     "text": [
      "output/ortho_visual/20231225_180240_02_2461_3B_Visual.tif: 100%|██████████| 209k/209k [00:04<00:00, 53.9MB/s] \n"
     ]
    },
    {
     "name": "stdout",
     "output_type": "stream",
     "text": [
      "Downloaded output/ortho_visual/20231225_180240_02_2461_3B_Visual.tif\n"
     ]
    },
    {
     "name": "stderr",
     "output_type": "stream",
     "text": [
      "output/ortho_analytic_8b/20231221_180357_70_2486_3B_AnalyticMS_8b.tif: 100%|██████████| 941k/941k [00:16<00:00, 61.3MB/s] \n"
     ]
    },
    {
     "name": "stdout",
     "output_type": "stream",
     "text": [
      "Downloaded output/ortho_analytic_8b/20231221_180357_70_2486_3B_AnalyticMS_8b.tif\n"
     ]
    },
    {
     "name": "stderr",
     "output_type": "stream",
     "text": [
      "output/ortho_analytic_8b_xml/20231221_180357_70_2486_3B_AnalyticMS_8b_metadata.xml: 100%|██████████| 0.01k/0.01k [00:00<00:00, 3.77MB/s]\n"
     ]
    },
    {
     "name": "stdout",
     "output_type": "stream",
     "text": [
      "Downloaded output/ortho_analytic_8b_xml/20231221_180357_70_2486_3B_AnalyticMS_8b_metadata.xml\n"
     ]
    },
    {
     "name": "stderr",
     "output_type": "stream",
     "text": [
      "output/ortho_visual/20231221_180357_70_2486_3B_Visual.tif: 100%|██████████| 211k/211k [00:03<00:00, 62.0MB/s] \n"
     ]
    },
    {
     "name": "stdout",
     "output_type": "stream",
     "text": [
      "Downloaded output/ortho_visual/20231221_180357_70_2486_3B_Visual.tif\n"
     ]
    },
    {
     "name": "stderr",
     "output_type": "stream",
     "text": [
      "output/ortho_analytic_8b/20231221_172506_24_2430_3B_AnalyticMS_8b.tif: 100%|██████████| 836k/836k [00:14<00:00, 60.9MB/s] \n"
     ]
    },
    {
     "name": "stdout",
     "output_type": "stream",
     "text": [
      "Downloaded output/ortho_analytic_8b/20231221_172506_24_2430_3B_AnalyticMS_8b.tif\n"
     ]
    },
    {
     "name": "stderr",
     "output_type": "stream",
     "text": [
      "output/ortho_analytic_8b_xml/20231221_172506_24_2430_3B_AnalyticMS_8b_metadata.xml: 100%|██████████| 0.01k/0.01k [00:00<00:00, 2.77MB/s]\n"
     ]
    },
    {
     "name": "stdout",
     "output_type": "stream",
     "text": [
      "Downloaded output/ortho_analytic_8b_xml/20231221_172506_24_2430_3B_AnalyticMS_8b_metadata.xml\n"
     ]
    },
    {
     "name": "stderr",
     "output_type": "stream",
     "text": [
      "output/ortho_visual/20231221_172506_24_2430_3B_Visual.tif: 100%|██████████| 176k/176k [00:03<00:00, 59.3MB/s] \n"
     ]
    },
    {
     "name": "stdout",
     "output_type": "stream",
     "text": [
      "Downloaded output/ortho_visual/20231221_172506_24_2430_3B_Visual.tif\n"
     ]
    },
    {
     "name": "stderr",
     "output_type": "stream",
     "text": [
      "output/ortho_analytic_8b/20231221_172504_27_2430_3B_AnalyticMS_8b.tif: 100%|██████████| 844k/844k [00:14<00:00, 60.9MB/s] \n"
     ]
    },
    {
     "name": "stdout",
     "output_type": "stream",
     "text": [
      "Downloaded output/ortho_analytic_8b/20231221_172504_27_2430_3B_AnalyticMS_8b.tif\n"
     ]
    },
    {
     "name": "stderr",
     "output_type": "stream",
     "text": [
      "output/ortho_analytic_8b_xml/20231221_172504_27_2430_3B_AnalyticMS_8b_metadata.xml: 100%|██████████| 0.01k/0.01k [00:00<00:00, 5.89MB/s]\n"
     ]
    },
    {
     "name": "stdout",
     "output_type": "stream",
     "text": [
      "Downloaded output/ortho_analytic_8b_xml/20231221_172504_27_2430_3B_AnalyticMS_8b_metadata.xml\n"
     ]
    },
    {
     "name": "stderr",
     "output_type": "stream",
     "text": [
      "output/ortho_visual/20231221_172504_27_2430_3B_Visual.tif: 100%|██████████| 175k/175k [00:03<00:00, 59.9MB/s] \n"
     ]
    },
    {
     "name": "stdout",
     "output_type": "stream",
     "text": [
      "Downloaded output/ortho_visual/20231221_172504_27_2430_3B_Visual.tif\n"
     ]
    },
    {
     "name": "stderr",
     "output_type": "stream",
     "text": [
      "output/ortho_analytic_8b/20231221_172557_92_2427_3B_AnalyticMS_8b.tif: 100%|██████████| 875k/875k [00:15<00:00, 60.3MB/s] \n"
     ]
    },
    {
     "name": "stdout",
     "output_type": "stream",
     "text": [
      "Downloaded output/ortho_analytic_8b/20231221_172557_92_2427_3B_AnalyticMS_8b.tif\n"
     ]
    },
    {
     "name": "stderr",
     "output_type": "stream",
     "text": [
      "output/ortho_analytic_8b_xml/20231221_172557_92_2427_3B_AnalyticMS_8b_metadata.xml: 100%|██████████| 0.01k/0.01k [00:00<00:00, 4.18MB/s]\n"
     ]
    },
    {
     "name": "stdout",
     "output_type": "stream",
     "text": [
      "Downloaded output/ortho_analytic_8b_xml/20231221_172557_92_2427_3B_AnalyticMS_8b_metadata.xml\n"
     ]
    },
    {
     "name": "stderr",
     "output_type": "stream",
     "text": [
      "output/ortho_visual/20231221_172557_92_2427_3B_Visual.tif: 100%|██████████| 191k/191k [00:03<00:00, 56.8MB/s] \n"
     ]
    },
    {
     "name": "stdout",
     "output_type": "stream",
     "text": [
      "Downloaded output/ortho_visual/20231221_172557_92_2427_3B_Visual.tif\n"
     ]
    },
    {
     "name": "stderr",
     "output_type": "stream",
     "text": [
      "output/ortho_analytic_8b/20231221_172559_89_2427_3B_AnalyticMS_8b.tif: 100%|██████████| 864k/864k [00:14<00:00, 63.0MB/s] \n"
     ]
    },
    {
     "name": "stdout",
     "output_type": "stream",
     "text": [
      "Downloaded output/ortho_analytic_8b/20231221_172559_89_2427_3B_AnalyticMS_8b.tif\n"
     ]
    },
    {
     "name": "stderr",
     "output_type": "stream",
     "text": [
      "output/ortho_analytic_8b_xml/20231221_172559_89_2427_3B_AnalyticMS_8b_metadata.xml: 100%|██████████| 0.01k/0.01k [00:00<00:00, 3.64MB/s]\n"
     ]
    },
    {
     "name": "stdout",
     "output_type": "stream",
     "text": [
      "Downloaded output/ortho_analytic_8b_xml/20231221_172559_89_2427_3B_AnalyticMS_8b_metadata.xml\n"
     ]
    },
    {
     "name": "stderr",
     "output_type": "stream",
     "text": [
      "output/ortho_visual/20231221_172559_89_2427_3B_Visual.tif: 100%|██████████| 186k/186k [00:03<00:00, 58.0MB/s] \n"
     ]
    },
    {
     "name": "stdout",
     "output_type": "stream",
     "text": [
      "Downloaded output/ortho_visual/20231221_172559_89_2427_3B_Visual.tif\n"
     ]
    },
    {
     "name": "stderr",
     "output_type": "stream",
     "text": [
      "output/ortho_analytic_8b/20231217_180028_73_24a4_3B_AnalyticMS_8b.tif: 100%|██████████| 956k/956k [00:16<00:00, 60.4MB/s] \n"
     ]
    },
    {
     "name": "stdout",
     "output_type": "stream",
     "text": [
      "Downloaded output/ortho_analytic_8b/20231217_180028_73_24a4_3B_AnalyticMS_8b.tif\n"
     ]
    },
    {
     "name": "stderr",
     "output_type": "stream",
     "text": [
      "output/ortho_analytic_8b_xml/20231217_180028_73_24a4_3B_AnalyticMS_8b_metadata.xml: 100%|██████████| 0.01k/0.01k [00:00<00:00, 2.60MB/s]\n"
     ]
    },
    {
     "name": "stdout",
     "output_type": "stream",
     "text": [
      "Downloaded output/ortho_analytic_8b_xml/20231217_180028_73_24a4_3B_AnalyticMS_8b_metadata.xml\n"
     ]
    },
    {
     "name": "stderr",
     "output_type": "stream",
     "text": [
      "output/ortho_visual/20231217_180028_73_24a4_3B_Visual.tif: 100%|██████████| 210k/210k [00:03<00:00, 61.3MB/s] \n"
     ]
    },
    {
     "name": "stdout",
     "output_type": "stream",
     "text": [
      "Downloaded output/ortho_visual/20231217_180028_73_24a4_3B_Visual.tif\n"
     ]
    },
    {
     "name": "stderr",
     "output_type": "stream",
     "text": [
      "output/ortho_analytic_8b/20231217_180026_68_24a4_3B_AnalyticMS_8b.tif: 100%|██████████| 983k/983k [00:16<00:00, 61.5MB/s] \n"
     ]
    },
    {
     "name": "stdout",
     "output_type": "stream",
     "text": [
      "Downloaded output/ortho_analytic_8b/20231217_180026_68_24a4_3B_AnalyticMS_8b.tif\n"
     ]
    },
    {
     "name": "stderr",
     "output_type": "stream",
     "text": [
      "output/ortho_analytic_8b_xml/20231217_180026_68_24a4_3B_AnalyticMS_8b_metadata.xml: 100%|██████████| 0.01k/0.01k [00:00<00:00, 4.61MB/s]\n"
     ]
    },
    {
     "name": "stdout",
     "output_type": "stream",
     "text": [
      "Downloaded output/ortho_analytic_8b_xml/20231217_180026_68_24a4_3B_AnalyticMS_8b_metadata.xml\n"
     ]
    },
    {
     "name": "stderr",
     "output_type": "stream",
     "text": [
      "output/ortho_visual/20231217_180026_68_24a4_3B_Visual.tif: 100%|██████████| 214k/214k [00:03<00:00, 61.6MB/s] \n"
     ]
    },
    {
     "name": "stdout",
     "output_type": "stream",
     "text": [
      "Downloaded output/ortho_visual/20231217_180026_68_24a4_3B_Visual.tif\n"
     ]
    },
    {
     "name": "stderr",
     "output_type": "stream",
     "text": [
      "output/ortho_analytic_8b/20231217_172208_61_2439_3B_AnalyticMS_8b.tif: 100%|██████████| 878k/878k [00:16<00:00, 57.3MB/s] \n"
     ]
    },
    {
     "name": "stdout",
     "output_type": "stream",
     "text": [
      "Downloaded output/ortho_analytic_8b/20231217_172208_61_2439_3B_AnalyticMS_8b.tif\n"
     ]
    },
    {
     "name": "stderr",
     "output_type": "stream",
     "text": [
      "output/ortho_analytic_8b_xml/20231217_172208_61_2439_3B_AnalyticMS_8b_metadata.xml: 100%|██████████| 0.01k/0.01k [00:00<00:00, 2.39MB/s]\n"
     ]
    },
    {
     "name": "stdout",
     "output_type": "stream",
     "text": [
      "Downloaded output/ortho_analytic_8b_xml/20231217_172208_61_2439_3B_AnalyticMS_8b_metadata.xml\n"
     ]
    },
    {
     "name": "stderr",
     "output_type": "stream",
     "text": [
      "output/ortho_visual/20231217_172208_61_2439_3B_Visual.tif: 100%|██████████| 185k/185k [00:03<00:00, 58.8MB/s] \n"
     ]
    },
    {
     "name": "stdout",
     "output_type": "stream",
     "text": [
      "Downloaded output/ortho_visual/20231217_172208_61_2439_3B_Visual.tif\n"
     ]
    },
    {
     "name": "stderr",
     "output_type": "stream",
     "text": [
      "output/ortho_analytic_8b/20231217_172206_63_2439_3B_AnalyticMS_8b.tif: 100%|██████████| 893k/893k [00:15<00:00, 61.8MB/s] \n"
     ]
    },
    {
     "name": "stdout",
     "output_type": "stream",
     "text": [
      "Downloaded output/ortho_analytic_8b/20231217_172206_63_2439_3B_AnalyticMS_8b.tif\n"
     ]
    },
    {
     "name": "stderr",
     "output_type": "stream",
     "text": [
      "output/ortho_analytic_8b_xml/20231217_172206_63_2439_3B_AnalyticMS_8b_metadata.xml: 100%|██████████| 0.01k/0.01k [00:00<00:00, 4.37MB/s]\n"
     ]
    },
    {
     "name": "stdout",
     "output_type": "stream",
     "text": [
      "Downloaded output/ortho_analytic_8b_xml/20231217_172206_63_2439_3B_AnalyticMS_8b_metadata.xml\n"
     ]
    },
    {
     "name": "stderr",
     "output_type": "stream",
     "text": [
      "output/ortho_visual/20231217_172206_63_2439_3B_Visual.tif: 100%|██████████| 190k/190k [00:03<00:00, 59.0MB/s] \n"
     ]
    },
    {
     "name": "stdout",
     "output_type": "stream",
     "text": [
      "Downloaded output/ortho_visual/20231217_172206_63_2439_3B_Visual.tif\n"
     ]
    },
    {
     "name": "stderr",
     "output_type": "stream",
     "text": [
      "output/ortho_analytic_8b/20231217_172210_58_2439_3B_AnalyticMS_8b.tif: 100%|██████████| 874k/874k [00:15<00:00, 60.6MB/s] \n"
     ]
    },
    {
     "name": "stdout",
     "output_type": "stream",
     "text": [
      "Downloaded output/ortho_analytic_8b/20231217_172210_58_2439_3B_AnalyticMS_8b.tif\n"
     ]
    },
    {
     "name": "stderr",
     "output_type": "stream",
     "text": [
      "output/ortho_analytic_8b_xml/20231217_172210_58_2439_3B_AnalyticMS_8b_metadata.xml: 100%|██████████| 0.01k/0.01k [00:00<00:00, 1.85MB/s]\n"
     ]
    },
    {
     "name": "stdout",
     "output_type": "stream",
     "text": [
      "Downloaded output/ortho_analytic_8b_xml/20231217_172210_58_2439_3B_AnalyticMS_8b_metadata.xml\n"
     ]
    },
    {
     "name": "stderr",
     "output_type": "stream",
     "text": [
      "output/ortho_visual/20231217_172210_58_2439_3B_Visual.tif: 100%|██████████| 191k/191k [00:03<00:00, 59.9MB/s] \n"
     ]
    },
    {
     "name": "stdout",
     "output_type": "stream",
     "text": [
      "Downloaded output/ortho_visual/20231217_172210_58_2439_3B_Visual.tif\n"
     ]
    },
    {
     "name": "stderr",
     "output_type": "stream",
     "text": [
      "output/ortho_analytic_8b/20231215_180313_50_247d_3B_AnalyticMS_8b.tif: 100%|██████████| 967k/967k [00:17<00:00, 57.6MB/s] \n"
     ]
    },
    {
     "name": "stdout",
     "output_type": "stream",
     "text": [
      "Downloaded output/ortho_analytic_8b/20231215_180313_50_247d_3B_AnalyticMS_8b.tif\n"
     ]
    },
    {
     "name": "stderr",
     "output_type": "stream",
     "text": [
      "output/ortho_analytic_8b_xml/20231215_180313_50_247d_3B_AnalyticMS_8b_metadata.xml: 100%|██████████| 0.01k/0.01k [00:00<00:00, 12.8MB/s]\n"
     ]
    },
    {
     "name": "stdout",
     "output_type": "stream",
     "text": [
      "Downloaded output/ortho_analytic_8b_xml/20231215_180313_50_247d_3B_AnalyticMS_8b_metadata.xml\n"
     ]
    },
    {
     "name": "stderr",
     "output_type": "stream",
     "text": [
      "output/ortho_visual/20231215_180313_50_247d_3B_Visual.tif: 100%|██████████| 220k/220k [00:03<00:00, 61.3MB/s] \n"
     ]
    },
    {
     "name": "stdout",
     "output_type": "stream",
     "text": [
      "Downloaded output/ortho_visual/20231215_180313_50_247d_3B_Visual.tif\n"
     ]
    },
    {
     "name": "stderr",
     "output_type": "stream",
     "text": [
      "output/ortho_analytic_8b/20231215_180311_45_247d_3B_AnalyticMS_8b.tif: 100%|██████████| 986k/986k [00:16<00:00, 61.6MB/s] \n"
     ]
    },
    {
     "name": "stdout",
     "output_type": "stream",
     "text": [
      "Downloaded output/ortho_analytic_8b/20231215_180311_45_247d_3B_AnalyticMS_8b.tif\n"
     ]
    },
    {
     "name": "stderr",
     "output_type": "stream",
     "text": [
      "output/ortho_analytic_8b_xml/20231215_180311_45_247d_3B_AnalyticMS_8b_metadata.xml: 100%|██████████| 0.01k/0.01k [00:00<00:00, 1.09MB/s]\n"
     ]
    },
    {
     "name": "stdout",
     "output_type": "stream",
     "text": [
      "Downloaded output/ortho_analytic_8b_xml/20231215_180311_45_247d_3B_AnalyticMS_8b_metadata.xml\n"
     ]
    },
    {
     "name": "stderr",
     "output_type": "stream",
     "text": [
      "output/ortho_visual/20231215_180311_45_247d_3B_Visual.tif: 100%|██████████| 218k/218k [00:03<00:00, 62.6MB/s] \n"
     ]
    },
    {
     "name": "stdout",
     "output_type": "stream",
     "text": [
      "Downloaded output/ortho_visual/20231215_180311_45_247d_3B_Visual.tif\n"
     ]
    },
    {
     "name": "stderr",
     "output_type": "stream",
     "text": [
      "output/ortho_analytic_8b/20231215_172219_39_241e_3B_AnalyticMS_8b.tif: 100%|██████████| 887k/887k [00:15<00:00, 58.7MB/s] \n"
     ]
    },
    {
     "name": "stdout",
     "output_type": "stream",
     "text": [
      "Downloaded output/ortho_analytic_8b/20231215_172219_39_241e_3B_AnalyticMS_8b.tif\n"
     ]
    },
    {
     "name": "stderr",
     "output_type": "stream",
     "text": [
      "output/ortho_analytic_8b_xml/20231215_172219_39_241e_3B_AnalyticMS_8b_metadata.xml: 100%|██████████| 0.01k/0.01k [00:00<00:00, 4.75MB/s]\n"
     ]
    },
    {
     "name": "stdout",
     "output_type": "stream",
     "text": [
      "Downloaded output/ortho_analytic_8b_xml/20231215_172219_39_241e_3B_AnalyticMS_8b_metadata.xml\n"
     ]
    },
    {
     "name": "stderr",
     "output_type": "stream",
     "text": [
      "output/ortho_visual/20231215_172219_39_241e_3B_Visual.tif: 100%|██████████| 186k/186k [00:03<00:00, 58.9MB/s] \n"
     ]
    },
    {
     "name": "stdout",
     "output_type": "stream",
     "text": [
      "Downloaded output/ortho_visual/20231215_172219_39_241e_3B_Visual.tif\n"
     ]
    },
    {
     "name": "stderr",
     "output_type": "stream",
     "text": [
      "output/ortho_analytic_8b/20231215_172221_37_241e_3B_AnalyticMS_8b.tif: 100%|██████████| 871k/871k [00:14<00:00, 63.1MB/s] \n"
     ]
    },
    {
     "name": "stdout",
     "output_type": "stream",
     "text": [
      "Downloaded output/ortho_analytic_8b/20231215_172221_37_241e_3B_AnalyticMS_8b.tif\n"
     ]
    },
    {
     "name": "stderr",
     "output_type": "stream",
     "text": [
      "output/ortho_analytic_8b_xml/20231215_172221_37_241e_3B_AnalyticMS_8b_metadata.xml: 100%|██████████| 0.01k/0.01k [00:00<00:00, 3.47MB/s]\n"
     ]
    },
    {
     "name": "stdout",
     "output_type": "stream",
     "text": [
      "Downloaded output/ortho_analytic_8b_xml/20231215_172221_37_241e_3B_AnalyticMS_8b_metadata.xml\n"
     ]
    },
    {
     "name": "stderr",
     "output_type": "stream",
     "text": [
      "output/ortho_visual/20231215_172221_37_241e_3B_Visual.tif: 100%|██████████| 188k/188k [00:03<00:00, 60.8MB/s] \n"
     ]
    },
    {
     "name": "stdout",
     "output_type": "stream",
     "text": [
      "Downloaded output/ortho_visual/20231215_172221_37_241e_3B_Visual.tif\n"
     ]
    },
    {
     "name": "stderr",
     "output_type": "stream",
     "text": [
      "output/ortho_analytic_8b/20231213_172144_50_24b6_3B_AnalyticMS_8b.tif: 100%|██████████| 0.00M/0.00M [00:17<00:00, 63.1MB/s]\n"
     ]
    },
    {
     "name": "stdout",
     "output_type": "stream",
     "text": [
      "Downloaded output/ortho_analytic_8b/20231213_172144_50_24b6_3B_AnalyticMS_8b.tif\n"
     ]
    },
    {
     "name": "stderr",
     "output_type": "stream",
     "text": [
      "output/ortho_analytic_8b_xml/20231213_172144_50_24b6_3B_AnalyticMS_8b_metadata.xml: 100%|██████████| 0.01k/0.01k [00:00<00:00, 3.79MB/s]\n"
     ]
    },
    {
     "name": "stdout",
     "output_type": "stream",
     "text": [
      "Downloaded output/ortho_analytic_8b_xml/20231213_172144_50_24b6_3B_AnalyticMS_8b_metadata.xml\n"
     ]
    },
    {
     "name": "stderr",
     "output_type": "stream",
     "text": [
      "output/ortho_visual/20231213_172144_50_24b6_3B_Visual.tif: 100%|██████████| 234k/234k [00:03<00:00, 63.2MB/s] \n"
     ]
    },
    {
     "name": "stdout",
     "output_type": "stream",
     "text": [
      "Downloaded output/ortho_visual/20231213_172144_50_24b6_3B_Visual.tif\n"
     ]
    },
    {
     "name": "stderr",
     "output_type": "stream",
     "text": [
      "output/ortho_analytic_8b/20231213_172146_70_24b6_3B_AnalyticMS_8b.tif: 100%|██████████| 0.00M/0.00M [00:18<00:00, 58.9MB/s]\n"
     ]
    },
    {
     "name": "stdout",
     "output_type": "stream",
     "text": [
      "Downloaded output/ortho_analytic_8b/20231213_172146_70_24b6_3B_AnalyticMS_8b.tif\n"
     ]
    },
    {
     "name": "stderr",
     "output_type": "stream",
     "text": [
      "output/ortho_analytic_8b_xml/20231213_172146_70_24b6_3B_AnalyticMS_8b_metadata.xml: 100%|██████████| 0.01k/0.01k [00:00<00:00, 2.87MB/s]\n"
     ]
    },
    {
     "name": "stdout",
     "output_type": "stream",
     "text": [
      "Downloaded output/ortho_analytic_8b_xml/20231213_172146_70_24b6_3B_AnalyticMS_8b_metadata.xml\n"
     ]
    },
    {
     "name": "stderr",
     "output_type": "stream",
     "text": [
      "output/ortho_visual/20231213_172146_70_24b6_3B_Visual.tif: 100%|██████████| 236k/236k [00:04<00:00, 61.7MB/s] \n"
     ]
    },
    {
     "name": "stdout",
     "output_type": "stream",
     "text": [
      "Downloaded output/ortho_visual/20231213_172146_70_24b6_3B_Visual.tif\n"
     ]
    },
    {
     "name": "stderr",
     "output_type": "stream",
     "text": [
      "output/ortho_analytic_8b/20231212_180458_64_247d_3B_AnalyticMS_8b.tif: 100%|██████████| 955k/955k [00:16<00:00, 60.2MB/s] \n"
     ]
    },
    {
     "name": "stdout",
     "output_type": "stream",
     "text": [
      "Downloaded output/ortho_analytic_8b/20231212_180458_64_247d_3B_AnalyticMS_8b.tif\n"
     ]
    },
    {
     "name": "stderr",
     "output_type": "stream",
     "text": [
      "output/ortho_analytic_8b_xml/20231212_180458_64_247d_3B_AnalyticMS_8b_metadata.xml: 100%|██████████| 0.01k/0.01k [00:00<00:00, 1.55MB/s]\n"
     ]
    },
    {
     "name": "stdout",
     "output_type": "stream",
     "text": [
      "Downloaded output/ortho_analytic_8b_xml/20231212_180458_64_247d_3B_AnalyticMS_8b_metadata.xml\n"
     ]
    },
    {
     "name": "stderr",
     "output_type": "stream",
     "text": [
      "output/ortho_visual/20231212_180458_64_247d_3B_Visual.tif:  52%|█████▏    | 114k/218k [00:01<00:01, 67.8MB/s] "
     ]
    }
   ],
   "source": [
    "#Ok, the tricky bit. Define functions to activate asset (or return an exception message) and to dowload the asses if it is active (or return 1)error message that asset isn't activated yet or 2)exception message indicating error in downloading asset. \n",
    "\n",
    "async def activate_asset(cl, item_type, item_id, asset_type, directory):\n",
    "    try:\n",
    "        # Get asset\n",
    "        asset_desc = await cl.get_asset(item_type_id=item_type, item_id=item_id, asset_type_id=asset_type)\n",
    "        # Activate asset\n",
    "        await cl.activate_asset(asset=asset_desc)\n",
    "        return (asset_desc, directory)\n",
    "    except Exception as e:\n",
    "        print(f\"Error in activating asset: {e}\")\n",
    "        return None\n",
    "\n",
    "async def download_asset(cl, asset_desc, directory):\n",
    "    try:\n",
    "        # Wait for asset\n",
    "        await cl.wait_asset(asset=asset_desc)\n",
    "        # Download asset\n",
    "        asset_path = await cl.download_asset(asset=asset_desc, directory=directory, overwrite=True)\n",
    "        print(f\"Downloaded {asset_path}\")\n",
    "    except KeyError:\n",
    "        print(\"Asset not active yet.\")\n",
    "    except Exception as e:\n",
    "        print(f\"Error in downloading asset: {e}\")\n",
    "\n",
    "        \n",
    "async def main():\n",
    "    async with Session() as sess:\n",
    "\n",
    "        # Try to activate everything!\n",
    "        activation_tasks = []\n",
    "        for item_list in item_lists:\n",
    "            for item in item_list:\n",
    "                item_id = item['id']\n",
    "                item_type = item['properties']['item_type']\n",
    "                cl = sess.client('data')\n",
    "\n",
    "                # Define output directories\n",
    "                output_8b = 'output/ortho_analytic_8b'\n",
    "                output_8b_xml = 'output/ortho_analytic_8b_xml'\n",
    "                output_visual = 'output/ortho_visual'\n",
    "\n",
    "                # Start activating assets and store tasks\n",
    "                activation_tasks.append(activate_asset(cl, item_type, item_id, 'ortho_analytic_8b', output_8b))\n",
    "                activation_tasks.append(activate_asset(cl, item_type, item_id, 'ortho_analytic_8b_xml', output_8b_xml))\n",
    "                activation_tasks.append(activate_asset(cl, item_type, item_id, 'ortho_visual', output_visual))\n",
    "\n",
    "        # Wait for all activations to complete\n",
    "        activated_assets = await asyncio.gather(*activation_tasks)\n",
    "\n",
    "        # Download assets\n",
    "        for asset_info in activated_assets:\n",
    "            if asset_info:\n",
    "                asset_desc, directory = asset_info\n",
    "                await download_asset(cl, asset_desc, directory)\n",
    "\n",
    "await main()"
   ]
  },
  {
   "cell_type": "code",
   "execution_count": null,
   "id": "9fff14b1-9ada-481a-9675-7da11cbdc365",
   "metadata": {},
   "outputs": [],
   "source": []
  }
 ],
 "metadata": {
  "kernelspec": {
   "display_name": "Python 3 (ipykernel)",
   "language": "python",
   "name": "python3"
  },
  "language_info": {
   "codemirror_mode": {
    "name": "ipython",
    "version": 3
   },
   "file_extension": ".py",
   "mimetype": "text/x-python",
   "name": "python",
   "nbconvert_exporter": "python",
   "pygments_lexer": "ipython3",
   "version": "3.9.18"
  }
 },
 "nbformat": 4,
 "nbformat_minor": 5
}
